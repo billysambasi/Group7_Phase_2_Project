{
 "cells": [
  {
   "cell_type": "markdown",
   "id": "fcd52462",
   "metadata": {},
   "source": [
    "### Business Understanding "
   ]
  },
  {
   "cell_type": "markdown",
   "id": "65f6819f",
   "metadata": {},
   "source": [
    "Your company now sees all the big companies creating original video content and they want to get in on the fun. They have decided to create a new movie studio, but they don’t know anything about creating movies. You are charged with exploring what types of films are currently doing the best at the box office. You must then translate those findings into actionable insights that the head of your company's new movie studio can use to help decide what type of films to create.\n",
    "\n",
    "##############\n",
    "\n",
    "The company recognizes the growing trend of major organizations creating original video content and aims to establish a new movie studio to capitalize on this opportunity. However, with limited knowledge about the movie industry, the company seeks to understand the current dynamics of the box office to inform strategic decisions. The primary goal is to explore which types of films achieve the greatest success, focusing on identifying top-performing genres and themes, understanding audience preferences across demographics and regions, and evaluating seasonal and regional trends that influence box office performance. These findings will be translated into actionable insights to guide the creation of impactful and competitive movie content.\n",
    "\n",
    "### Problem Statement\n",
    "\n",
    "The company aims to establish a competitive movie studio but lacks the necessary insights into the movie industry's dynamics to create successful films. To address this, it is essential to analyze box office data to identify top-performing genres and themes, uncover audience preferences across demographic and regional segments, and evaluate how seasonal and regional factors influence box office success. These insights will provide actionable guidance for the new movie studio to make informed decisions about the types of films to produce and their release strategies"
   ]
  },
  {
   "cell_type": "markdown",
   "id": "8cccb628",
   "metadata": {},
   "source": [
    "### Project Plan: Exploring Top-Performing Film Trends for a New Movie Studio\n",
    "\n",
    "**The Overview and Background**  \n",
    "\n",
    "The entertainment landscape is rapidly evolving, with data-driven strategies becoming crucial to creating successful films. The company’s decision to establish a movie studio provides an exciting opportunity to explore and capitalize on current trends dominating the box office. By understanding what audiences want which will inform our objectives—be it genres, themes or release timing—your studio can ensure its films align with market demand. Leveraging data from movie databases, movie ratings and reviews website can provide actionable insights for strategic decision-making.\n",
    "\n",
    "\n",
    "**Challenges**  \n",
    "One of the main challenges involves analyzing the vast volume of unstructured data collected from multiple sources. Sorting through box office trends, audience preferences and seasonal performance patterns while ensuring data accuracy and reliability may present difficulties. Additionally, translating data insights into creative decisions without stifling artistic freedom will require a careful balance. \n",
    "\n",
    "\n",
    "**Proposed Solution**  \n",
    "To address these challenges, the project will implement a structured data analytics framework. Using Python and libraries like pandas for data preprocessing and statistical models will identify top-performing genres, themes and audience preferences. Data visualization tools such as Matplotlib and Seaborn will help translate insights into clear, actionable visuals for decision-makers. \n",
    "\n",
    "\n",
    "**Brief Conclusion**  \n",
    "By prioritizing exploratory data analysis, the studio can make informed decisions about the types of films to produce. This data-driven approach will minimize risks and maximize box office success."
   ]
  },
  {
   "cell_type": "markdown",
   "id": "49eead14",
   "metadata": {},
   "source": [
    "### Objectives\n",
    "\n",
    "1. **Identify Top-Performing Genres and Themes**:\n",
    "   - Analyze box office trends to determine which genres (e.g., action, comedy, drama) and themes (e.g., superhero stories, family-friendly content) are consistently performing well. This will help prioritize the types of films to focus on.\n",
    "\n",
    "2. **Understand Audience Preferences**:\n",
    "   - Use data to uncover insights about the target audience, such as age groups, gender, and regional preferences. For example, are younger audiences gravitating toward animated films, or are thrillers more popular among older viewers?\n",
    "\n",
    "3. **Evaluate Seasonal and Regional Trends**:\n",
    "   - Study how box office performance varies by season (e.g., summer blockbusters, holiday releases) and region. This can help in planning release schedules and tailoring content to specific markets."
   ]
  },
  {
   "cell_type": "markdown",
   "id": "11ddae55",
   "metadata": {},
   "source": [
    "## Data Understanding "
   ]
  },
  {
   "cell_type": "markdown",
   "id": "82f2fe33",
   "metadata": {
    "vscode": {
     "languageId": "plaintext"
    }
   },
   "source": [
    "### Loading the Data"
   ]
  },
  {
   "cell_type": "code",
   "execution_count": 13,
   "id": "6b2a63f6",
   "metadata": {},
   "outputs": [],
   "source": [
    "# Importing the necessary Libraries\n",
    "import pandas as pd\n",
    "import matplotlib.pyplot as plt\n",
    "import seaborn as sns\n",
    "%matplotlib inline\n",
    "# Setting seaborn style\n",
    "sns.set_style(\"whitegrid\")"
   ]
  },
  {
   "cell_type": "code",
   "execution_count": 14,
   "id": "0b4665ca",
   "metadata": {},
   "outputs": [
    {
     "data": {
      "application/vnd.microsoft.datawrangler.viewer.v0+json": {
       "columns": [
        {
         "name": "index",
         "rawType": "int64",
         "type": "integer"
        },
        {
         "name": "title",
         "rawType": "object",
         "type": "string"
        },
        {
         "name": "studio",
         "rawType": "object",
         "type": "string"
        },
        {
         "name": "domestic_gross",
         "rawType": "float64",
         "type": "float"
        },
        {
         "name": "foreign_gross",
         "rawType": "object",
         "type": "string"
        },
        {
         "name": "year",
         "rawType": "int64",
         "type": "integer"
        }
       ],
       "conversionMethod": "pd.DataFrame",
       "ref": "fd166a4b-49c0-4661-b463-2c1204e5a998",
       "rows": [
        [
         "0",
         "Toy Story 3",
         "BV",
         "415000000.0",
         "652000000",
         "2010"
        ],
        [
         "1",
         "Alice in Wonderland (2010)",
         "BV",
         "334200000.0",
         "691300000",
         "2010"
        ],
        [
         "2",
         "Harry Potter and the Deathly Hallows Part 1",
         "WB",
         "296000000.0",
         "664300000",
         "2010"
        ],
        [
         "3",
         "Inception",
         "WB",
         "292600000.0",
         "535700000",
         "2010"
        ],
        [
         "4",
         "Shrek Forever After",
         "P/DW",
         "238700000.0",
         "513900000",
         "2010"
        ]
       ],
       "shape": {
        "columns": 5,
        "rows": 5
       }
      },
      "text/html": [
       "<div>\n",
       "<style scoped>\n",
       "    .dataframe tbody tr th:only-of-type {\n",
       "        vertical-align: middle;\n",
       "    }\n",
       "\n",
       "    .dataframe tbody tr th {\n",
       "        vertical-align: top;\n",
       "    }\n",
       "\n",
       "    .dataframe thead th {\n",
       "        text-align: right;\n",
       "    }\n",
       "</style>\n",
       "<table border=\"1\" class=\"dataframe\">\n",
       "  <thead>\n",
       "    <tr style=\"text-align: right;\">\n",
       "      <th></th>\n",
       "      <th>title</th>\n",
       "      <th>studio</th>\n",
       "      <th>domestic_gross</th>\n",
       "      <th>foreign_gross</th>\n",
       "      <th>year</th>\n",
       "    </tr>\n",
       "  </thead>\n",
       "  <tbody>\n",
       "    <tr>\n",
       "      <th>0</th>\n",
       "      <td>Toy Story 3</td>\n",
       "      <td>BV</td>\n",
       "      <td>415000000.0</td>\n",
       "      <td>652000000</td>\n",
       "      <td>2010</td>\n",
       "    </tr>\n",
       "    <tr>\n",
       "      <th>1</th>\n",
       "      <td>Alice in Wonderland (2010)</td>\n",
       "      <td>BV</td>\n",
       "      <td>334200000.0</td>\n",
       "      <td>691300000</td>\n",
       "      <td>2010</td>\n",
       "    </tr>\n",
       "    <tr>\n",
       "      <th>2</th>\n",
       "      <td>Harry Potter and the Deathly Hallows Part 1</td>\n",
       "      <td>WB</td>\n",
       "      <td>296000000.0</td>\n",
       "      <td>664300000</td>\n",
       "      <td>2010</td>\n",
       "    </tr>\n",
       "    <tr>\n",
       "      <th>3</th>\n",
       "      <td>Inception</td>\n",
       "      <td>WB</td>\n",
       "      <td>292600000.0</td>\n",
       "      <td>535700000</td>\n",
       "      <td>2010</td>\n",
       "    </tr>\n",
       "    <tr>\n",
       "      <th>4</th>\n",
       "      <td>Shrek Forever After</td>\n",
       "      <td>P/DW</td>\n",
       "      <td>238700000.0</td>\n",
       "      <td>513900000</td>\n",
       "      <td>2010</td>\n",
       "    </tr>\n",
       "  </tbody>\n",
       "</table>\n",
       "</div>"
      ],
      "text/plain": [
       "                                         title studio  domestic_gross  \\\n",
       "0                                  Toy Story 3     BV     415000000.0   \n",
       "1                   Alice in Wonderland (2010)     BV     334200000.0   \n",
       "2  Harry Potter and the Deathly Hallows Part 1     WB     296000000.0   \n",
       "3                                    Inception     WB     292600000.0   \n",
       "4                          Shrek Forever After   P/DW     238700000.0   \n",
       "\n",
       "  foreign_gross  year  \n",
       "0     652000000  2010  \n",
       "1     691300000  2010  \n",
       "2     664300000  2010  \n",
       "3     535700000  2010  \n",
       "4     513900000  2010  "
      ]
     },
     "execution_count": 14,
     "metadata": {},
     "output_type": "execute_result"
    }
   ],
   "source": [
    "# Loading the data from box office mojo\n",
    "box_office_mojo = pd.read_csv('data/unzippedData/bom.movie_gross.csv.gz', compression='gzip')\n",
    "box_office_mojo.head() "
   ]
  },
  {
   "cell_type": "code",
   "execution_count": 15,
   "id": "4d15ae84",
   "metadata": {},
   "outputs": [
    {
     "name": "stdout",
     "output_type": "stream",
     "text": [
      "<class 'pandas.core.frame.DataFrame'>\n",
      "RangeIndex: 3387 entries, 0 to 3386\n",
      "Data columns (total 5 columns):\n",
      " #   Column          Non-Null Count  Dtype  \n",
      "---  ------          --------------  -----  \n",
      " 0   title           3387 non-null   object \n",
      " 1   studio          3382 non-null   object \n",
      " 2   domestic_gross  3359 non-null   float64\n",
      " 3   foreign_gross   2037 non-null   object \n",
      " 4   year            3387 non-null   int64  \n",
      "dtypes: float64(1), int64(1), object(3)\n",
      "memory usage: 132.4+ KB\n"
     ]
    }
   ],
   "source": [
    "# Getting the summary information of the dataset\n",
    "box_office_mojo.info()"
   ]
  },
  {
   "cell_type": "markdown",
   "id": "2ed840b4",
   "metadata": {},
   "source": [
    "The parameter ```compression='gzip'``` specifies that the input file is compressed using the Gzip format and ensures that the function correctly interprets the file format.\n",
    "\n",
    "As you can see from the output above, this dataset contains columns of information on different movies including columns for domestic and foreign gross of the movies. This columns will be the focus as it will answer some of the business questions during analysis. "
   ]
  },
  {
   "cell_type": "markdown",
   "id": "c5806c3f",
   "metadata": {},
   "source": [
    "To be able to extract data from the file ```im.db.zip```, Python's built-in **zipfile module** was used. It decompresses the file and extracts its content into a specified directory ```unzippedData```. "
   ]
  },
  {
   "cell_type": "code",
   "execution_count": 16,
   "id": "ea7769a2",
   "metadata": {},
   "outputs": [
    {
     "name": "stdout",
     "output_type": "stream",
     "text": [
      "File extracted to data/unzippedData\n"
     ]
    }
   ],
   "source": [
    "# Extracting the im.db.zip file to a directory unzippedData\n",
    "import zipfile\n",
    "\n",
    "# Path to the zipped file\n",
    "zip_file_path = 'data/zippedData/im.db.zip'\n",
    "\n",
    "# Path to extract the contents\n",
    "extract_to_path = 'data/unzippedData'\n",
    "\n",
    "# Unzipping the file\n",
    "with zipfile.ZipFile(zip_file_path, 'r') as zip_ref:\n",
    "    zip_ref.extractall(extract_to_path)\n",
    "\n",
    "print(f\"File extracted to {extract_to_path}\")"
   ]
  },
  {
   "cell_type": "code",
   "execution_count": 17,
   "id": "8b401bc5",
   "metadata": {},
   "outputs": [
    {
     "name": "stdout",
     "output_type": "stream",
     "text": [
      "Tables in the database: [('movie_basics',), ('directors',), ('known_for',), ('movie_akas',), ('movie_ratings',), ('persons',), ('principals',), ('writers',)]\n"
     ]
    }
   ],
   "source": [
    "# Loading data from imdb(sqlite3 database file)\n",
    "import sqlite3\n",
    "\n",
    "# Path to the unzipped .db file\n",
    "db_path = 'data/unzippedData/im.db'\n",
    "\n",
    "# Connect to the database\n",
    "conn = sqlite3.connect(db_path)\n",
    "cursor = conn.cursor()\n",
    "\n",
    "# Example: List all tables in the database\n",
    "cursor.execute(\"SELECT name FROM sqlite_master WHERE type='table';\")\n",
    "tables = cursor.fetchall()\n",
    "print(\"Tables in the database:\", tables)"
   ]
  },
  {
   "cell_type": "markdown",
   "id": "8643414e",
   "metadata": {},
   "source": [
    "As you can see from the output above, the sqlite3 database file contains tables with different information about movies. Some of the tables will be used to answer some of our business questions. They include: ```\"movie_basics\"``` and ```\"movie_ratings\"```."
   ]
  },
  {
   "cell_type": "code",
   "execution_count": 18,
   "id": "128db521",
   "metadata": {},
   "outputs": [
    {
     "data": {
      "application/vnd.microsoft.datawrangler.viewer.v0+json": {
       "columns": [
        {
         "name": "index",
         "rawType": "int64",
         "type": "integer"
        },
        {
         "name": "id",
         "rawType": "int64",
         "type": "integer"
        },
        {
         "name": "synopsis",
         "rawType": "object",
         "type": "string"
        },
        {
         "name": "rating",
         "rawType": "object",
         "type": "string"
        },
        {
         "name": "genre",
         "rawType": "object",
         "type": "string"
        },
        {
         "name": "director",
         "rawType": "object",
         "type": "string"
        },
        {
         "name": "writer",
         "rawType": "object",
         "type": "string"
        },
        {
         "name": "theater_date",
         "rawType": "object",
         "type": "string"
        },
        {
         "name": "dvd_date",
         "rawType": "object",
         "type": "string"
        },
        {
         "name": "currency",
         "rawType": "object",
         "type": "string"
        },
        {
         "name": "box_office",
         "rawType": "object",
         "type": "string"
        },
        {
         "name": "runtime",
         "rawType": "object",
         "type": "string"
        },
        {
         "name": "studio",
         "rawType": "object",
         "type": "string"
        }
       ],
       "conversionMethod": "pd.DataFrame",
       "ref": "9fd9ba8b-d462-4d99-a53b-6842e854c9d8",
       "rows": [
        [
         "0",
         "1",
         "This gritty, fast-paced, and innovative police drama earned five Academy Awards, including Best Picture, Best Adapted Screenplay (written by Ernest Tidyman), and Best Actor (Gene Hackman). Jimmy \"Popeye\" Doyle (Hackman) and his partner, Buddy Russo (Roy Scheider), are New York City police detectives on narcotics detail, trying to track down the source of heroin from Europe into the United States. Suave Alain Charnier (Fernando Rey) is the French drug kingpin who provides a large percentage of New York City's dope, and Pierre Nicoli (Marcel Bozzuffi) is a hired killer and Charnier's right-hand man. Acting on a hunch, Popeye and Buddy start tailing Sal Boca (Tony Lo Bianco) and his wife, Angie (Arlene Faber), who live pretty high for a couple whose corner store brings in about 7,000 dollars a year. It turns out Popeye's suspicions are right -- Sal and Angie are the New York agents for Charnier, who will be smuggling 32 million dollars' worth of heroin into the city in a car shipped over from France. The French Connection broke plenty of new ground for screen thrillers; Popeye Doyle was a highly unusual \"hero,\" an often violent, racist, and mean-spirited cop whose dedication to his job fell just short of dangerous obsession. The film's high point, a high-speed car chase with Popeye tailing an elevated train, was one of the most viscerally exciting screen moments of its day and set the stage for dozens of action sequences to follow. And the film's grimy realism (and downbeat ending) was a big change from the buff-and-shine gloss and good-guys-always-win heroics of most police dramas that preceded it. The French Connection was inspired by a true story, and Eddie Egan and Sonny Grosso, Popeye and Buddy's real life counterparts, both have small roles in the film. A sequel followed four years later.",
         "R",
         "Action and Adventure|Classics|Drama",
         "William Friedkin",
         "Ernest Tidyman",
         "Oct 9, 1971",
         "Sep 25, 2001",
         null,
         null,
         "104 minutes",
         null
        ],
        [
         "1",
         "3",
         "New York City, not-too-distant-future: Eric Packer, a 28 year-old finance golden boy dreaming of living in a civilization ahead of this one, watches a dark shadow cast over the firmament of the Wall Street galaxy, of which he is the uncontested king. As he is chauffeured across midtown Manhattan to get a haircut at his father's old barber, his anxious eyes are glued to the yuan's exchange rate: it is mounting against all expectations, destroying Eric's bet against it. Eric Packer is losing his empire with every tick of the clock. Meanwhile, an eruption of wild activity unfolds in the city's streets. Petrified as the threats of the real world infringe upon his cloud of virtual convictions, his paranoia intensifies during the course of his 24-hour cross-town odyssey. Packer starts to piece together clues that lead him to a most terrifying secret: his imminent assassination. -- (C) Official Site",
         "R",
         "Drama|Science Fiction and Fantasy",
         "David Cronenberg",
         "David Cronenberg|Don DeLillo",
         "Aug 17, 2012",
         "Jan 1, 2013",
         "$",
         "600,000",
         "108 minutes",
         "Entertainment One"
        ],
        [
         "2",
         "5",
         "Illeana Douglas delivers a superb performance as Denise Waverly, a fictional singer and songwriter whose life bears more than a passing resemblance to that of real-life pop star Carole King. Edna Buxton, the daughter of a Philadelphia steel tycoon, aspires to a career as a singer, and when against her mother's bidding she sings a sultry version of \"Hey There (You With the Stars in Your Eyes)\" (instead of Mom's choice, \"You'll Never Walk Alone\") at a talent contest, she wins a recording contact and moves to New York City. She cuts a record and gains a new stage name, Denise Waverly; however, she soon finds that girl singers are a dime a dozen in the Big Apple and her career as a vocalist goes nowhere. But she has a knack for writing songs, and eccentric producer Joel Milner (John Turturro) asks her to pen some songs for his upcoming projects. Teamed with Howard Caszatt (Eric Stoltz), a hipster songwriter who wants to express his political and social ideals through pop tunes, she finds both a successful collaborator and husband. While her work with Howard gains Denise writing credits on a string of hit records and respect within the industry, their marriage falls apart, and she becomes involved with Jay Phillips (Matt Dillon), the gifted but unstable leader of a popular West Coast surf music combo. Students of pop music history will have a ball with the various characters modeled after real-life rock legends, and the 1960s-style song score includes numbers written by Joni Mitchell and J. Mascis (of the band Dinosaur Jr.), as well as one-time King collaborator Gerry Goffin; a collaboration between Elvis Costello and Burt Bacharach, \"God Give Me Strength,\" led to a full album written by the two great tunesmiths.",
         "R",
         "Drama|Musical and Performing Arts",
         "Allison Anders",
         "Allison Anders",
         "Sep 13, 1996",
         "Apr 18, 2000",
         null,
         null,
         "116 minutes",
         null
        ],
        [
         "3",
         "6",
         "Michael Douglas runs afoul of a treacherous supervisor in this film version of Michael Crichton's novel. Douglas plays Tom Sanders, an executive at DigiCom, a leading computer software firm. DigiCom is about to launch a new virtual reality-based data storage system that is expected to revolutionize the industry, and Bob Garvin (Donald Sutherland), the owner of the company, is in the midst of negotiating a merger that could bring",
         "R",
         "Drama|Mystery and Suspense",
         "Barry Levinson",
         "Paul Attanasio|Michael Crichton",
         "Dec 9, 1994",
         "Aug 27, 1997",
         null,
         null,
         "128 minutes",
         null
        ],
        [
         "4",
         "7",
         null,
         "NR",
         "Drama|Romance",
         "Rodney Bennett",
         "Giles Cooper",
         null,
         null,
         null,
         null,
         "200 minutes",
         null
        ]
       ],
       "shape": {
        "columns": 12,
        "rows": 5
       }
      },
      "text/html": [
       "<div>\n",
       "<style scoped>\n",
       "    .dataframe tbody tr th:only-of-type {\n",
       "        vertical-align: middle;\n",
       "    }\n",
       "\n",
       "    .dataframe tbody tr th {\n",
       "        vertical-align: top;\n",
       "    }\n",
       "\n",
       "    .dataframe thead th {\n",
       "        text-align: right;\n",
       "    }\n",
       "</style>\n",
       "<table border=\"1\" class=\"dataframe\">\n",
       "  <thead>\n",
       "    <tr style=\"text-align: right;\">\n",
       "      <th></th>\n",
       "      <th>id</th>\n",
       "      <th>synopsis</th>\n",
       "      <th>rating</th>\n",
       "      <th>genre</th>\n",
       "      <th>director</th>\n",
       "      <th>writer</th>\n",
       "      <th>theater_date</th>\n",
       "      <th>dvd_date</th>\n",
       "      <th>currency</th>\n",
       "      <th>box_office</th>\n",
       "      <th>runtime</th>\n",
       "      <th>studio</th>\n",
       "    </tr>\n",
       "  </thead>\n",
       "  <tbody>\n",
       "    <tr>\n",
       "      <th>0</th>\n",
       "      <td>1</td>\n",
       "      <td>This gritty, fast-paced, and innovative police...</td>\n",
       "      <td>R</td>\n",
       "      <td>Action and Adventure|Classics|Drama</td>\n",
       "      <td>William Friedkin</td>\n",
       "      <td>Ernest Tidyman</td>\n",
       "      <td>Oct 9, 1971</td>\n",
       "      <td>Sep 25, 2001</td>\n",
       "      <td>NaN</td>\n",
       "      <td>NaN</td>\n",
       "      <td>104 minutes</td>\n",
       "      <td>NaN</td>\n",
       "    </tr>\n",
       "    <tr>\n",
       "      <th>1</th>\n",
       "      <td>3</td>\n",
       "      <td>New York City, not-too-distant-future: Eric Pa...</td>\n",
       "      <td>R</td>\n",
       "      <td>Drama|Science Fiction and Fantasy</td>\n",
       "      <td>David Cronenberg</td>\n",
       "      <td>David Cronenberg|Don DeLillo</td>\n",
       "      <td>Aug 17, 2012</td>\n",
       "      <td>Jan 1, 2013</td>\n",
       "      <td>$</td>\n",
       "      <td>600,000</td>\n",
       "      <td>108 minutes</td>\n",
       "      <td>Entertainment One</td>\n",
       "    </tr>\n",
       "    <tr>\n",
       "      <th>2</th>\n",
       "      <td>5</td>\n",
       "      <td>Illeana Douglas delivers a superb performance ...</td>\n",
       "      <td>R</td>\n",
       "      <td>Drama|Musical and Performing Arts</td>\n",
       "      <td>Allison Anders</td>\n",
       "      <td>Allison Anders</td>\n",
       "      <td>Sep 13, 1996</td>\n",
       "      <td>Apr 18, 2000</td>\n",
       "      <td>NaN</td>\n",
       "      <td>NaN</td>\n",
       "      <td>116 minutes</td>\n",
       "      <td>NaN</td>\n",
       "    </tr>\n",
       "    <tr>\n",
       "      <th>3</th>\n",
       "      <td>6</td>\n",
       "      <td>Michael Douglas runs afoul of a treacherous su...</td>\n",
       "      <td>R</td>\n",
       "      <td>Drama|Mystery and Suspense</td>\n",
       "      <td>Barry Levinson</td>\n",
       "      <td>Paul Attanasio|Michael Crichton</td>\n",
       "      <td>Dec 9, 1994</td>\n",
       "      <td>Aug 27, 1997</td>\n",
       "      <td>NaN</td>\n",
       "      <td>NaN</td>\n",
       "      <td>128 minutes</td>\n",
       "      <td>NaN</td>\n",
       "    </tr>\n",
       "    <tr>\n",
       "      <th>4</th>\n",
       "      <td>7</td>\n",
       "      <td>NaN</td>\n",
       "      <td>NR</td>\n",
       "      <td>Drama|Romance</td>\n",
       "      <td>Rodney Bennett</td>\n",
       "      <td>Giles Cooper</td>\n",
       "      <td>NaN</td>\n",
       "      <td>NaN</td>\n",
       "      <td>NaN</td>\n",
       "      <td>NaN</td>\n",
       "      <td>200 minutes</td>\n",
       "      <td>NaN</td>\n",
       "    </tr>\n",
       "  </tbody>\n",
       "</table>\n",
       "</div>"
      ],
      "text/plain": [
       "   id                                           synopsis rating  \\\n",
       "0   1  This gritty, fast-paced, and innovative police...      R   \n",
       "1   3  New York City, not-too-distant-future: Eric Pa...      R   \n",
       "2   5  Illeana Douglas delivers a superb performance ...      R   \n",
       "3   6  Michael Douglas runs afoul of a treacherous su...      R   \n",
       "4   7                                                NaN     NR   \n",
       "\n",
       "                                 genre          director  \\\n",
       "0  Action and Adventure|Classics|Drama  William Friedkin   \n",
       "1    Drama|Science Fiction and Fantasy  David Cronenberg   \n",
       "2    Drama|Musical and Performing Arts    Allison Anders   \n",
       "3           Drama|Mystery and Suspense    Barry Levinson   \n",
       "4                        Drama|Romance    Rodney Bennett   \n",
       "\n",
       "                            writer  theater_date      dvd_date currency  \\\n",
       "0                   Ernest Tidyman   Oct 9, 1971  Sep 25, 2001      NaN   \n",
       "1     David Cronenberg|Don DeLillo  Aug 17, 2012   Jan 1, 2013        $   \n",
       "2                   Allison Anders  Sep 13, 1996  Apr 18, 2000      NaN   \n",
       "3  Paul Attanasio|Michael Crichton   Dec 9, 1994  Aug 27, 1997      NaN   \n",
       "4                     Giles Cooper           NaN           NaN      NaN   \n",
       "\n",
       "  box_office      runtime             studio  \n",
       "0        NaN  104 minutes                NaN  \n",
       "1    600,000  108 minutes  Entertainment One  \n",
       "2        NaN  116 minutes                NaN  \n",
       "3        NaN  128 minutes                NaN  \n",
       "4        NaN  200 minutes                NaN  "
      ]
     },
     "execution_count": 18,
     "metadata": {},
     "output_type": "execute_result"
    }
   ],
   "source": [
    "# Loading data from rotten tomatoes\n",
    "rotten_tomatoes_data = pd.read_csv('data/unzippedData/rt.movie_info.tsv.gz', compression='gzip', sep='\\t')\n",
    "rotten_tomatoes_data.head()"
   ]
  },
  {
   "cell_type": "code",
   "execution_count": 19,
   "id": "4a30dca9",
   "metadata": {},
   "outputs": [
    {
     "name": "stdout",
     "output_type": "stream",
     "text": [
      "<class 'pandas.core.frame.DataFrame'>\n",
      "RangeIndex: 1560 entries, 0 to 1559\n",
      "Data columns (total 12 columns):\n",
      " #   Column        Non-Null Count  Dtype \n",
      "---  ------        --------------  ----- \n",
      " 0   id            1560 non-null   int64 \n",
      " 1   synopsis      1498 non-null   object\n",
      " 2   rating        1557 non-null   object\n",
      " 3   genre         1552 non-null   object\n",
      " 4   director      1361 non-null   object\n",
      " 5   writer        1111 non-null   object\n",
      " 6   theater_date  1201 non-null   object\n",
      " 7   dvd_date      1201 non-null   object\n",
      " 8   currency      340 non-null    object\n",
      " 9   box_office    340 non-null    object\n",
      " 10  runtime       1530 non-null   object\n",
      " 11  studio        494 non-null    object\n",
      "dtypes: int64(1), object(11)\n",
      "memory usage: 146.4+ KB\n"
     ]
    }
   ],
   "source": [
    "# Getting the summary information of the dataset\n",
    "rotten_tomatoes_data.info()"
   ]
  },
  {
   "cell_type": "markdown",
   "id": "81580e4f",
   "metadata": {},
   "source": [
    "While loading the data, the parameters ```compression='gzip'``` was needful to handle decompressing the file when reading it and the parameter ```sep=\\t``` which ensured the data is correctly parsed with tab-separated columns instead of the default comma-separated format (CSV)."
   ]
  },
  {
   "cell_type": "code",
   "execution_count": 20,
   "id": "058bbb22",
   "metadata": {},
   "outputs": [
    {
     "data": {
      "application/vnd.microsoft.datawrangler.viewer.v0+json": {
       "columns": [
        {
         "name": "index",
         "rawType": "int64",
         "type": "integer"
        },
        {
         "name": "Unnamed: 0",
         "rawType": "int64",
         "type": "integer"
        },
        {
         "name": "genre_ids",
         "rawType": "object",
         "type": "string"
        },
        {
         "name": "id",
         "rawType": "int64",
         "type": "integer"
        },
        {
         "name": "original_language",
         "rawType": "object",
         "type": "string"
        },
        {
         "name": "original_title",
         "rawType": "object",
         "type": "string"
        },
        {
         "name": "popularity",
         "rawType": "float64",
         "type": "float"
        },
        {
         "name": "release_date",
         "rawType": "object",
         "type": "string"
        },
        {
         "name": "title",
         "rawType": "object",
         "type": "string"
        },
        {
         "name": "vote_average",
         "rawType": "float64",
         "type": "float"
        },
        {
         "name": "vote_count",
         "rawType": "int64",
         "type": "integer"
        }
       ],
       "conversionMethod": "pd.DataFrame",
       "ref": "e850be65-c39f-418f-8e56-1d3b0f045da1",
       "rows": [
        [
         "26512",
         "26512",
         "[27, 18]",
         "488143",
         "en",
         "Laboratory Conditions",
         "0.6",
         "2018-10-13",
         "Laboratory Conditions",
         "0.0",
         "1"
        ],
        [
         "26513",
         "26513",
         "[18, 53]",
         "485975",
         "en",
         "_EXHIBIT_84xxx_",
         "0.6",
         "2018-05-01",
         "_EXHIBIT_84xxx_",
         "0.0",
         "1"
        ],
        [
         "26514",
         "26514",
         "[14, 28, 12]",
         "381231",
         "en",
         "The Last One",
         "0.6",
         "2018-10-01",
         "The Last One",
         "0.0",
         "1"
        ],
        [
         "26515",
         "26515",
         "[10751, 12, 28]",
         "366854",
         "en",
         "Trailer Made",
         "0.6",
         "2018-06-22",
         "Trailer Made",
         "0.0",
         "1"
        ],
        [
         "26516",
         "26516",
         "[53, 27]",
         "309885",
         "en",
         "The Church",
         "0.6",
         "2018-10-05",
         "The Church",
         "0.0",
         "1"
        ]
       ],
       "shape": {
        "columns": 10,
        "rows": 5
       }
      },
      "text/html": [
       "<div>\n",
       "<style scoped>\n",
       "    .dataframe tbody tr th:only-of-type {\n",
       "        vertical-align: middle;\n",
       "    }\n",
       "\n",
       "    .dataframe tbody tr th {\n",
       "        vertical-align: top;\n",
       "    }\n",
       "\n",
       "    .dataframe thead th {\n",
       "        text-align: right;\n",
       "    }\n",
       "</style>\n",
       "<table border=\"1\" class=\"dataframe\">\n",
       "  <thead>\n",
       "    <tr style=\"text-align: right;\">\n",
       "      <th></th>\n",
       "      <th>Unnamed: 0</th>\n",
       "      <th>genre_ids</th>\n",
       "      <th>id</th>\n",
       "      <th>original_language</th>\n",
       "      <th>original_title</th>\n",
       "      <th>popularity</th>\n",
       "      <th>release_date</th>\n",
       "      <th>title</th>\n",
       "      <th>vote_average</th>\n",
       "      <th>vote_count</th>\n",
       "    </tr>\n",
       "  </thead>\n",
       "  <tbody>\n",
       "    <tr>\n",
       "      <th>26512</th>\n",
       "      <td>26512</td>\n",
       "      <td>[27, 18]</td>\n",
       "      <td>488143</td>\n",
       "      <td>en</td>\n",
       "      <td>Laboratory Conditions</td>\n",
       "      <td>0.6</td>\n",
       "      <td>2018-10-13</td>\n",
       "      <td>Laboratory Conditions</td>\n",
       "      <td>0.0</td>\n",
       "      <td>1</td>\n",
       "    </tr>\n",
       "    <tr>\n",
       "      <th>26513</th>\n",
       "      <td>26513</td>\n",
       "      <td>[18, 53]</td>\n",
       "      <td>485975</td>\n",
       "      <td>en</td>\n",
       "      <td>_EXHIBIT_84xxx_</td>\n",
       "      <td>0.6</td>\n",
       "      <td>2018-05-01</td>\n",
       "      <td>_EXHIBIT_84xxx_</td>\n",
       "      <td>0.0</td>\n",
       "      <td>1</td>\n",
       "    </tr>\n",
       "    <tr>\n",
       "      <th>26514</th>\n",
       "      <td>26514</td>\n",
       "      <td>[14, 28, 12]</td>\n",
       "      <td>381231</td>\n",
       "      <td>en</td>\n",
       "      <td>The Last One</td>\n",
       "      <td>0.6</td>\n",
       "      <td>2018-10-01</td>\n",
       "      <td>The Last One</td>\n",
       "      <td>0.0</td>\n",
       "      <td>1</td>\n",
       "    </tr>\n",
       "    <tr>\n",
       "      <th>26515</th>\n",
       "      <td>26515</td>\n",
       "      <td>[10751, 12, 28]</td>\n",
       "      <td>366854</td>\n",
       "      <td>en</td>\n",
       "      <td>Trailer Made</td>\n",
       "      <td>0.6</td>\n",
       "      <td>2018-06-22</td>\n",
       "      <td>Trailer Made</td>\n",
       "      <td>0.0</td>\n",
       "      <td>1</td>\n",
       "    </tr>\n",
       "    <tr>\n",
       "      <th>26516</th>\n",
       "      <td>26516</td>\n",
       "      <td>[53, 27]</td>\n",
       "      <td>309885</td>\n",
       "      <td>en</td>\n",
       "      <td>The Church</td>\n",
       "      <td>0.6</td>\n",
       "      <td>2018-10-05</td>\n",
       "      <td>The Church</td>\n",
       "      <td>0.0</td>\n",
       "      <td>1</td>\n",
       "    </tr>\n",
       "  </tbody>\n",
       "</table>\n",
       "</div>"
      ],
      "text/plain": [
       "       Unnamed: 0        genre_ids      id original_language  \\\n",
       "26512       26512         [27, 18]  488143                en   \n",
       "26513       26513         [18, 53]  485975                en   \n",
       "26514       26514     [14, 28, 12]  381231                en   \n",
       "26515       26515  [10751, 12, 28]  366854                en   \n",
       "26516       26516         [53, 27]  309885                en   \n",
       "\n",
       "              original_title  popularity release_date                  title  \\\n",
       "26512  Laboratory Conditions         0.6   2018-10-13  Laboratory Conditions   \n",
       "26513        _EXHIBIT_84xxx_         0.6   2018-05-01        _EXHIBIT_84xxx_   \n",
       "26514           The Last One         0.6   2018-10-01           The Last One   \n",
       "26515           Trailer Made         0.6   2018-06-22           Trailer Made   \n",
       "26516             The Church         0.6   2018-10-05             The Church   \n",
       "\n",
       "       vote_average  vote_count  \n",
       "26512           0.0           1  \n",
       "26513           0.0           1  \n",
       "26514           0.0           1  \n",
       "26515           0.0           1  \n",
       "26516           0.0           1  "
      ]
     },
     "execution_count": 20,
     "metadata": {},
     "output_type": "execute_result"
    }
   ],
   "source": [
    "# Loading data from the movie database\n",
    "the_movies_db = pd.read_csv(\"data/unzippedData/tmdb.movies.csv.gz\", compression='gzip')\n",
    "the_movies_db.tail()"
   ]
  },
  {
   "cell_type": "code",
   "execution_count": 21,
   "id": "58a57f93",
   "metadata": {},
   "outputs": [
    {
     "name": "stdout",
     "output_type": "stream",
     "text": [
      "<class 'pandas.core.frame.DataFrame'>\n",
      "RangeIndex: 26517 entries, 0 to 26516\n",
      "Data columns (total 10 columns):\n",
      " #   Column             Non-Null Count  Dtype  \n",
      "---  ------             --------------  -----  \n",
      " 0   Unnamed: 0         26517 non-null  int64  \n",
      " 1   genre_ids          26517 non-null  object \n",
      " 2   id                 26517 non-null  int64  \n",
      " 3   original_language  26517 non-null  object \n",
      " 4   original_title     26517 non-null  object \n",
      " 5   popularity         26517 non-null  float64\n",
      " 6   release_date       26517 non-null  object \n",
      " 7   title              26517 non-null  object \n",
      " 8   vote_average       26517 non-null  float64\n",
      " 9   vote_count         26517 non-null  int64  \n",
      "dtypes: float64(2), int64(3), object(5)\n",
      "memory usage: 2.0+ MB\n"
     ]
    }
   ],
   "source": [
    "# Getting the summary information of the dataset\n",
    "the_movies_db.info()"
   ]
  },
  {
   "cell_type": "markdown",
   "id": "2deba4ed",
   "metadata": {},
   "source": [
    "As you can see in the output above, there are several columns that would be relevant in answering the business questions. While loading the data, the parameter ```compression='gzip'``` was needed so as to handle decompressing the file when reading it. "
   ]
  },
  {
   "cell_type": "code",
   "execution_count": 22,
   "id": "91e49608",
   "metadata": {},
   "outputs": [
    {
     "data": {
      "application/vnd.microsoft.datawrangler.viewer.v0+json": {
       "columns": [
        {
         "name": "index",
         "rawType": "int64",
         "type": "integer"
        },
        {
         "name": "id",
         "rawType": "int64",
         "type": "integer"
        },
        {
         "name": "release_date",
         "rawType": "object",
         "type": "string"
        },
        {
         "name": "movie",
         "rawType": "object",
         "type": "string"
        },
        {
         "name": "production_budget",
         "rawType": "object",
         "type": "string"
        },
        {
         "name": "domestic_gross",
         "rawType": "object",
         "type": "string"
        },
        {
         "name": "worldwide_gross",
         "rawType": "object",
         "type": "string"
        }
       ],
       "conversionMethod": "pd.DataFrame",
       "ref": "faf5ebd6-6dd6-4a21-8074-ce74ce379687",
       "rows": [
        [
         "0",
         "1",
         "Dec 18, 2009",
         "Avatar",
         "$425,000,000",
         "$760,507,625",
         "$2,776,345,279"
        ],
        [
         "1",
         "2",
         "May 20, 2011",
         "Pirates of the Caribbean: On Stranger Tides",
         "$410,600,000",
         "$241,063,875",
         "$1,045,663,875"
        ],
        [
         "2",
         "3",
         "Jun 7, 2019",
         "Dark Phoenix",
         "$350,000,000",
         "$42,762,350",
         "$149,762,350"
        ],
        [
         "3",
         "4",
         "May 1, 2015",
         "Avengers: Age of Ultron",
         "$330,600,000",
         "$459,005,868",
         "$1,403,013,963"
        ],
        [
         "4",
         "5",
         "Dec 15, 2017",
         "Star Wars Ep. VIII: The Last Jedi",
         "$317,000,000",
         "$620,181,382",
         "$1,316,721,747"
        ]
       ],
       "shape": {
        "columns": 6,
        "rows": 5
       }
      },
      "text/html": [
       "<div>\n",
       "<style scoped>\n",
       "    .dataframe tbody tr th:only-of-type {\n",
       "        vertical-align: middle;\n",
       "    }\n",
       "\n",
       "    .dataframe tbody tr th {\n",
       "        vertical-align: top;\n",
       "    }\n",
       "\n",
       "    .dataframe thead th {\n",
       "        text-align: right;\n",
       "    }\n",
       "</style>\n",
       "<table border=\"1\" class=\"dataframe\">\n",
       "  <thead>\n",
       "    <tr style=\"text-align: right;\">\n",
       "      <th></th>\n",
       "      <th>id</th>\n",
       "      <th>release_date</th>\n",
       "      <th>movie</th>\n",
       "      <th>production_budget</th>\n",
       "      <th>domestic_gross</th>\n",
       "      <th>worldwide_gross</th>\n",
       "    </tr>\n",
       "  </thead>\n",
       "  <tbody>\n",
       "    <tr>\n",
       "      <th>0</th>\n",
       "      <td>1</td>\n",
       "      <td>Dec 18, 2009</td>\n",
       "      <td>Avatar</td>\n",
       "      <td>$425,000,000</td>\n",
       "      <td>$760,507,625</td>\n",
       "      <td>$2,776,345,279</td>\n",
       "    </tr>\n",
       "    <tr>\n",
       "      <th>1</th>\n",
       "      <td>2</td>\n",
       "      <td>May 20, 2011</td>\n",
       "      <td>Pirates of the Caribbean: On Stranger Tides</td>\n",
       "      <td>$410,600,000</td>\n",
       "      <td>$241,063,875</td>\n",
       "      <td>$1,045,663,875</td>\n",
       "    </tr>\n",
       "    <tr>\n",
       "      <th>2</th>\n",
       "      <td>3</td>\n",
       "      <td>Jun 7, 2019</td>\n",
       "      <td>Dark Phoenix</td>\n",
       "      <td>$350,000,000</td>\n",
       "      <td>$42,762,350</td>\n",
       "      <td>$149,762,350</td>\n",
       "    </tr>\n",
       "    <tr>\n",
       "      <th>3</th>\n",
       "      <td>4</td>\n",
       "      <td>May 1, 2015</td>\n",
       "      <td>Avengers: Age of Ultron</td>\n",
       "      <td>$330,600,000</td>\n",
       "      <td>$459,005,868</td>\n",
       "      <td>$1,403,013,963</td>\n",
       "    </tr>\n",
       "    <tr>\n",
       "      <th>4</th>\n",
       "      <td>5</td>\n",
       "      <td>Dec 15, 2017</td>\n",
       "      <td>Star Wars Ep. VIII: The Last Jedi</td>\n",
       "      <td>$317,000,000</td>\n",
       "      <td>$620,181,382</td>\n",
       "      <td>$1,316,721,747</td>\n",
       "    </tr>\n",
       "  </tbody>\n",
       "</table>\n",
       "</div>"
      ],
      "text/plain": [
       "   id  release_date                                        movie  \\\n",
       "0   1  Dec 18, 2009                                       Avatar   \n",
       "1   2  May 20, 2011  Pirates of the Caribbean: On Stranger Tides   \n",
       "2   3   Jun 7, 2019                                 Dark Phoenix   \n",
       "3   4   May 1, 2015                      Avengers: Age of Ultron   \n",
       "4   5  Dec 15, 2017            Star Wars Ep. VIII: The Last Jedi   \n",
       "\n",
       "  production_budget domestic_gross worldwide_gross  \n",
       "0      $425,000,000   $760,507,625  $2,776,345,279  \n",
       "1      $410,600,000   $241,063,875  $1,045,663,875  \n",
       "2      $350,000,000    $42,762,350    $149,762,350  \n",
       "3      $330,600,000   $459,005,868  $1,403,013,963  \n",
       "4      $317,000,000   $620,181,382  $1,316,721,747  "
      ]
     },
     "execution_count": 22,
     "metadata": {},
     "output_type": "execute_result"
    }
   ],
   "source": [
    "# Loading data from \"the numbers website\" \n",
    "movie_numbers = pd.read_csv(\"data/unzippedData/tn.movie_budgets.csv.gz\", compression='gzip')\n",
    "movie_numbers.head()"
   ]
  },
  {
   "cell_type": "code",
   "execution_count": 23,
   "id": "02c008ae",
   "metadata": {},
   "outputs": [
    {
     "name": "stdout",
     "output_type": "stream",
     "text": [
      "<class 'pandas.core.frame.DataFrame'>\n",
      "RangeIndex: 5782 entries, 0 to 5781\n",
      "Data columns (total 6 columns):\n",
      " #   Column             Non-Null Count  Dtype \n",
      "---  ------             --------------  ----- \n",
      " 0   id                 5782 non-null   int64 \n",
      " 1   release_date       5782 non-null   object\n",
      " 2   movie              5782 non-null   object\n",
      " 3   production_budget  5782 non-null   object\n",
      " 4   domestic_gross     5782 non-null   object\n",
      " 5   worldwide_gross    5782 non-null   object\n",
      "dtypes: int64(1), object(5)\n",
      "memory usage: 271.2+ KB\n"
     ]
    }
   ],
   "source": [
    "# Getting the summary information of the dataset\n",
    "movie_numbers.info()"
   ]
  },
  {
   "cell_type": "markdown",
   "id": "1f755e5e",
   "metadata": {},
   "source": [
    "As you can see from the output above, this dataset contains several columns with information on different movies. The information includes gross of different movies, production budges and the release dates of the movies. While loading the data, the parameter ```compression='gzip'``` was needed so as to handle decompressing the file when reading it. "
   ]
  },
  {
   "cell_type": "markdown",
   "id": "45e7b491",
   "metadata": {},
   "source": [
    "## Data Preparation"
   ]
  },
  {
   "cell_type": "markdown",
   "id": "3f65c14b",
   "metadata": {},
   "source": [
    "Data preparation involves transforming raw data into a format suitable for analysis. These include selecting relevant datasets, cleaning them to handle missing values and addressing inconsistencies. It also involves constructing new features such as feature engineering and integrating data from multiple sources to ensure consistency and usability."
   ]
  },
  {
   "cell_type": "code",
   "execution_count": 24,
   "id": "fce8d626",
   "metadata": {},
   "outputs": [
    {
     "data": {
      "application/vnd.microsoft.datawrangler.viewer.v0+json": {
       "columns": [
        {
         "name": "index",
         "rawType": "int64",
         "type": "integer"
        },
        {
         "name": "movie_id",
         "rawType": "object",
         "type": "string"
        },
        {
         "name": "averagerating",
         "rawType": "float64",
         "type": "float"
        },
        {
         "name": "numvotes",
         "rawType": "int64",
         "type": "integer"
        }
       ],
       "conversionMethod": "pd.DataFrame",
       "ref": "226666c6-046a-48ff-983a-1b64dbf5eae6",
       "rows": [
        [
         "0",
         "tt10356526",
         "8.3",
         "31"
        ],
        [
         "1",
         "tt10384606",
         "8.9",
         "559"
        ],
        [
         "2",
         "tt1042974",
         "6.4",
         "20"
        ],
        [
         "3",
         "tt1043726",
         "4.2",
         "50352"
        ],
        [
         "4",
         "tt1060240",
         "6.5",
         "21"
        ]
       ],
       "shape": {
        "columns": 3,
        "rows": 5
       }
      },
      "text/html": [
       "<div>\n",
       "<style scoped>\n",
       "    .dataframe tbody tr th:only-of-type {\n",
       "        vertical-align: middle;\n",
       "    }\n",
       "\n",
       "    .dataframe tbody tr th {\n",
       "        vertical-align: top;\n",
       "    }\n",
       "\n",
       "    .dataframe thead th {\n",
       "        text-align: right;\n",
       "    }\n",
       "</style>\n",
       "<table border=\"1\" class=\"dataframe\">\n",
       "  <thead>\n",
       "    <tr style=\"text-align: right;\">\n",
       "      <th></th>\n",
       "      <th>movie_id</th>\n",
       "      <th>averagerating</th>\n",
       "      <th>numvotes</th>\n",
       "    </tr>\n",
       "  </thead>\n",
       "  <tbody>\n",
       "    <tr>\n",
       "      <th>0</th>\n",
       "      <td>tt10356526</td>\n",
       "      <td>8.3</td>\n",
       "      <td>31</td>\n",
       "    </tr>\n",
       "    <tr>\n",
       "      <th>1</th>\n",
       "      <td>tt10384606</td>\n",
       "      <td>8.9</td>\n",
       "      <td>559</td>\n",
       "    </tr>\n",
       "    <tr>\n",
       "      <th>2</th>\n",
       "      <td>tt1042974</td>\n",
       "      <td>6.4</td>\n",
       "      <td>20</td>\n",
       "    </tr>\n",
       "    <tr>\n",
       "      <th>3</th>\n",
       "      <td>tt1043726</td>\n",
       "      <td>4.2</td>\n",
       "      <td>50352</td>\n",
       "    </tr>\n",
       "    <tr>\n",
       "      <th>4</th>\n",
       "      <td>tt1060240</td>\n",
       "      <td>6.5</td>\n",
       "      <td>21</td>\n",
       "    </tr>\n",
       "  </tbody>\n",
       "</table>\n",
       "</div>"
      ],
      "text/plain": [
       "     movie_id  averagerating  numvotes\n",
       "0  tt10356526            8.3        31\n",
       "1  tt10384606            8.9       559\n",
       "2   tt1042974            6.4        20\n",
       "3   tt1043726            4.2     50352\n",
       "4   tt1060240            6.5        21"
      ]
     },
     "execution_count": 24,
     "metadata": {},
     "output_type": "execute_result"
    }
   ],
   "source": [
    "# Query the 'movie_ratings' table using pandas\n",
    "movie_ratings_df = pd.read_sql_query(\"SELECT * FROM movie_ratings;\", conn)\n",
    "movie_ratings_df.head()"
   ]
  },
  {
   "cell_type": "code",
   "execution_count": 25,
   "id": "0f99c443",
   "metadata": {},
   "outputs": [
    {
     "data": {
      "application/vnd.microsoft.datawrangler.viewer.v0+json": {
       "columns": [
        {
         "name": "index",
         "rawType": "int64",
         "type": "integer"
        },
        {
         "name": "movie_id",
         "rawType": "object",
         "type": "string"
        },
        {
         "name": "primary_title",
         "rawType": "object",
         "type": "string"
        },
        {
         "name": "original_title",
         "rawType": "object",
         "type": "string"
        },
        {
         "name": "start_year",
         "rawType": "int64",
         "type": "integer"
        },
        {
         "name": "runtime_minutes",
         "rawType": "float64",
         "type": "float"
        },
        {
         "name": "genres",
         "rawType": "object",
         "type": "string"
        }
       ],
       "conversionMethod": "pd.DataFrame",
       "ref": "df3677aa-d029-40fc-8b1c-4bf3a3fea63c",
       "rows": [
        [
         "0",
         "tt0063540",
         "Sunghursh",
         "Sunghursh",
         "2013",
         "175.0",
         "Action,Crime,Drama"
        ],
        [
         "1",
         "tt0066787",
         "One Day Before the Rainy Season",
         "Ashad Ka Ek Din",
         "2019",
         "114.0",
         "Biography,Drama"
        ],
        [
         "2",
         "tt0069049",
         "The Other Side of the Wind",
         "The Other Side of the Wind",
         "2018",
         "122.0",
         "Drama"
        ],
        [
         "3",
         "tt0069204",
         "Sabse Bada Sukh",
         "Sabse Bada Sukh",
         "2018",
         null,
         "Comedy,Drama"
        ],
        [
         "4",
         "tt0100275",
         "The Wandering Soap Opera",
         "La Telenovela Errante",
         "2017",
         "80.0",
         "Comedy,Drama,Fantasy"
        ]
       ],
       "shape": {
        "columns": 6,
        "rows": 5
       }
      },
      "text/html": [
       "<div>\n",
       "<style scoped>\n",
       "    .dataframe tbody tr th:only-of-type {\n",
       "        vertical-align: middle;\n",
       "    }\n",
       "\n",
       "    .dataframe tbody tr th {\n",
       "        vertical-align: top;\n",
       "    }\n",
       "\n",
       "    .dataframe thead th {\n",
       "        text-align: right;\n",
       "    }\n",
       "</style>\n",
       "<table border=\"1\" class=\"dataframe\">\n",
       "  <thead>\n",
       "    <tr style=\"text-align: right;\">\n",
       "      <th></th>\n",
       "      <th>movie_id</th>\n",
       "      <th>primary_title</th>\n",
       "      <th>original_title</th>\n",
       "      <th>start_year</th>\n",
       "      <th>runtime_minutes</th>\n",
       "      <th>genres</th>\n",
       "    </tr>\n",
       "  </thead>\n",
       "  <tbody>\n",
       "    <tr>\n",
       "      <th>0</th>\n",
       "      <td>tt0063540</td>\n",
       "      <td>Sunghursh</td>\n",
       "      <td>Sunghursh</td>\n",
       "      <td>2013</td>\n",
       "      <td>175.0</td>\n",
       "      <td>Action,Crime,Drama</td>\n",
       "    </tr>\n",
       "    <tr>\n",
       "      <th>1</th>\n",
       "      <td>tt0066787</td>\n",
       "      <td>One Day Before the Rainy Season</td>\n",
       "      <td>Ashad Ka Ek Din</td>\n",
       "      <td>2019</td>\n",
       "      <td>114.0</td>\n",
       "      <td>Biography,Drama</td>\n",
       "    </tr>\n",
       "    <tr>\n",
       "      <th>2</th>\n",
       "      <td>tt0069049</td>\n",
       "      <td>The Other Side of the Wind</td>\n",
       "      <td>The Other Side of the Wind</td>\n",
       "      <td>2018</td>\n",
       "      <td>122.0</td>\n",
       "      <td>Drama</td>\n",
       "    </tr>\n",
       "    <tr>\n",
       "      <th>3</th>\n",
       "      <td>tt0069204</td>\n",
       "      <td>Sabse Bada Sukh</td>\n",
       "      <td>Sabse Bada Sukh</td>\n",
       "      <td>2018</td>\n",
       "      <td>NaN</td>\n",
       "      <td>Comedy,Drama</td>\n",
       "    </tr>\n",
       "    <tr>\n",
       "      <th>4</th>\n",
       "      <td>tt0100275</td>\n",
       "      <td>The Wandering Soap Opera</td>\n",
       "      <td>La Telenovela Errante</td>\n",
       "      <td>2017</td>\n",
       "      <td>80.0</td>\n",
       "      <td>Comedy,Drama,Fantasy</td>\n",
       "    </tr>\n",
       "  </tbody>\n",
       "</table>\n",
       "</div>"
      ],
      "text/plain": [
       "    movie_id                    primary_title              original_title  \\\n",
       "0  tt0063540                        Sunghursh                   Sunghursh   \n",
       "1  tt0066787  One Day Before the Rainy Season             Ashad Ka Ek Din   \n",
       "2  tt0069049       The Other Side of the Wind  The Other Side of the Wind   \n",
       "3  tt0069204                  Sabse Bada Sukh             Sabse Bada Sukh   \n",
       "4  tt0100275         The Wandering Soap Opera       La Telenovela Errante   \n",
       "\n",
       "   start_year  runtime_minutes                genres  \n",
       "0        2013            175.0    Action,Crime,Drama  \n",
       "1        2019            114.0       Biography,Drama  \n",
       "2        2018            122.0                 Drama  \n",
       "3        2018              NaN          Comedy,Drama  \n",
       "4        2017             80.0  Comedy,Drama,Fantasy  "
      ]
     },
     "execution_count": 25,
     "metadata": {},
     "output_type": "execute_result"
    }
   ],
   "source": [
    "# Query the 'movie_basics' table using pandas\n",
    "movie_basics_df = pd.read_sql_query(\"SELECT * FROM movie_basics;\", conn)\n",
    "movie_basics_df.head()"
   ]
  },
  {
   "cell_type": "code",
   "execution_count": 26,
   "id": "caf72165",
   "metadata": {},
   "outputs": [
    {
     "data": {
      "application/vnd.microsoft.datawrangler.viewer.v0+json": {
       "columns": [
        {
         "name": "index",
         "rawType": "int64",
         "type": "integer"
        },
        {
         "name": "movie_id",
         "rawType": "object",
         "type": "string"
        },
        {
         "name": "averagerating",
         "rawType": "float64",
         "type": "float"
        },
        {
         "name": "numvotes",
         "rawType": "int64",
         "type": "integer"
        },
        {
         "name": "primary_title",
         "rawType": "object",
         "type": "string"
        },
        {
         "name": "original_title",
         "rawType": "object",
         "type": "string"
        },
        {
         "name": "start_year",
         "rawType": "int64",
         "type": "integer"
        },
        {
         "name": "runtime_minutes",
         "rawType": "float64",
         "type": "float"
        },
        {
         "name": "genres",
         "rawType": "object",
         "type": "string"
        }
       ],
       "conversionMethod": "pd.DataFrame",
       "ref": "a1a7d0b2-520b-402d-bf67-ab2cf92f998a",
       "rows": [
        [
         "0",
         "tt10356526",
         "8.3",
         "31",
         "Laiye Je Yaarian",
         "Laiye Je Yaarian",
         "2019",
         "117.0",
         "Romance"
        ],
        [
         "1",
         "tt10384606",
         "8.9",
         "559",
         "Borderless",
         "Borderless",
         "2019",
         "87.0",
         "Documentary"
        ],
        [
         "2",
         "tt1042974",
         "6.4",
         "20",
         "Just Inès",
         "Just Inès",
         "2010",
         "90.0",
         "Drama"
        ],
        [
         "3",
         "tt1043726",
         "4.2",
         "50352",
         "The Legend of Hercules",
         "The Legend of Hercules",
         "2014",
         "99.0",
         "Action,Adventure,Fantasy"
        ],
        [
         "4",
         "tt1060240",
         "6.5",
         "21",
         "Até Onde?",
         "Até Onde?",
         "2011",
         "73.0",
         "Mystery,Thriller"
        ]
       ],
       "shape": {
        "columns": 8,
        "rows": 5
       }
      },
      "text/html": [
       "<div>\n",
       "<style scoped>\n",
       "    .dataframe tbody tr th:only-of-type {\n",
       "        vertical-align: middle;\n",
       "    }\n",
       "\n",
       "    .dataframe tbody tr th {\n",
       "        vertical-align: top;\n",
       "    }\n",
       "\n",
       "    .dataframe thead th {\n",
       "        text-align: right;\n",
       "    }\n",
       "</style>\n",
       "<table border=\"1\" class=\"dataframe\">\n",
       "  <thead>\n",
       "    <tr style=\"text-align: right;\">\n",
       "      <th></th>\n",
       "      <th>movie_id</th>\n",
       "      <th>averagerating</th>\n",
       "      <th>numvotes</th>\n",
       "      <th>primary_title</th>\n",
       "      <th>original_title</th>\n",
       "      <th>start_year</th>\n",
       "      <th>runtime_minutes</th>\n",
       "      <th>genres</th>\n",
       "    </tr>\n",
       "  </thead>\n",
       "  <tbody>\n",
       "    <tr>\n",
       "      <th>0</th>\n",
       "      <td>tt10356526</td>\n",
       "      <td>8.3</td>\n",
       "      <td>31</td>\n",
       "      <td>Laiye Je Yaarian</td>\n",
       "      <td>Laiye Je Yaarian</td>\n",
       "      <td>2019</td>\n",
       "      <td>117.0</td>\n",
       "      <td>Romance</td>\n",
       "    </tr>\n",
       "    <tr>\n",
       "      <th>1</th>\n",
       "      <td>tt10384606</td>\n",
       "      <td>8.9</td>\n",
       "      <td>559</td>\n",
       "      <td>Borderless</td>\n",
       "      <td>Borderless</td>\n",
       "      <td>2019</td>\n",
       "      <td>87.0</td>\n",
       "      <td>Documentary</td>\n",
       "    </tr>\n",
       "    <tr>\n",
       "      <th>2</th>\n",
       "      <td>tt1042974</td>\n",
       "      <td>6.4</td>\n",
       "      <td>20</td>\n",
       "      <td>Just Inès</td>\n",
       "      <td>Just Inès</td>\n",
       "      <td>2010</td>\n",
       "      <td>90.0</td>\n",
       "      <td>Drama</td>\n",
       "    </tr>\n",
       "    <tr>\n",
       "      <th>3</th>\n",
       "      <td>tt1043726</td>\n",
       "      <td>4.2</td>\n",
       "      <td>50352</td>\n",
       "      <td>The Legend of Hercules</td>\n",
       "      <td>The Legend of Hercules</td>\n",
       "      <td>2014</td>\n",
       "      <td>99.0</td>\n",
       "      <td>Action,Adventure,Fantasy</td>\n",
       "    </tr>\n",
       "    <tr>\n",
       "      <th>4</th>\n",
       "      <td>tt1060240</td>\n",
       "      <td>6.5</td>\n",
       "      <td>21</td>\n",
       "      <td>Até Onde?</td>\n",
       "      <td>Até Onde?</td>\n",
       "      <td>2011</td>\n",
       "      <td>73.0</td>\n",
       "      <td>Mystery,Thriller</td>\n",
       "    </tr>\n",
       "  </tbody>\n",
       "</table>\n",
       "</div>"
      ],
      "text/plain": [
       "     movie_id  averagerating  numvotes           primary_title  \\\n",
       "0  tt10356526            8.3        31        Laiye Je Yaarian   \n",
       "1  tt10384606            8.9       559              Borderless   \n",
       "2   tt1042974            6.4        20               Just Inès   \n",
       "3   tt1043726            4.2     50352  The Legend of Hercules   \n",
       "4   tt1060240            6.5        21               Até Onde?   \n",
       "\n",
       "           original_title  start_year  runtime_minutes  \\\n",
       "0        Laiye Je Yaarian        2019            117.0   \n",
       "1              Borderless        2019             87.0   \n",
       "2               Just Inès        2010             90.0   \n",
       "3  The Legend of Hercules        2014             99.0   \n",
       "4               Até Onde?        2011             73.0   \n",
       "\n",
       "                     genres  \n",
       "0                   Romance  \n",
       "1               Documentary  \n",
       "2                     Drama  \n",
       "3  Action,Adventure,Fantasy  \n",
       "4          Mystery,Thriller  "
      ]
     },
     "execution_count": 26,
     "metadata": {},
     "output_type": "execute_result"
    }
   ],
   "source": [
    "# Merging movie_ratings_df and movie_basics_df on the 'movie_id' column\n",
    "ratings_basics_merged = movie_ratings_df.merge(movie_basics_df, on=\"movie_id\", how=\"inner\")\n",
    "\n",
    "# Display the first few rows of the merged DataFrame\n",
    "ratings_basics_merged.head()"
   ]
  },
  {
   "cell_type": "code",
   "execution_count": 27,
   "id": "66c2ceea",
   "metadata": {},
   "outputs": [
    {
     "data": {
      "application/vnd.microsoft.datawrangler.viewer.v0+json": {
       "columns": [
        {
         "name": "index",
         "rawType": "int64",
         "type": "integer"
        },
        {
         "name": "averagerating",
         "rawType": "float64",
         "type": "float"
        },
        {
         "name": "runtime_minutes",
         "rawType": "float64",
         "type": "float"
        }
       ],
       "conversionMethod": "pd.DataFrame",
       "ref": "26298b5b-8087-4214-9810-df2c9b310ba2",
       "rows": [
        [
         "0",
         "8.3",
         "117.0"
        ],
        [
         "1",
         "8.9",
         "87.0"
        ],
        [
         "2",
         "6.4",
         "90.0"
        ],
        [
         "3",
         "4.2",
         "99.0"
        ],
        [
         "4",
         "6.5",
         "73.0"
        ]
       ],
       "shape": {
        "columns": 2,
        "rows": 5
       }
      },
      "text/html": [
       "<div>\n",
       "<style scoped>\n",
       "    .dataframe tbody tr th:only-of-type {\n",
       "        vertical-align: middle;\n",
       "    }\n",
       "\n",
       "    .dataframe tbody tr th {\n",
       "        vertical-align: top;\n",
       "    }\n",
       "\n",
       "    .dataframe thead th {\n",
       "        text-align: right;\n",
       "    }\n",
       "</style>\n",
       "<table border=\"1\" class=\"dataframe\">\n",
       "  <thead>\n",
       "    <tr style=\"text-align: right;\">\n",
       "      <th></th>\n",
       "      <th>averagerating</th>\n",
       "      <th>runtime_minutes</th>\n",
       "    </tr>\n",
       "  </thead>\n",
       "  <tbody>\n",
       "    <tr>\n",
       "      <th>0</th>\n",
       "      <td>8.3</td>\n",
       "      <td>117.0</td>\n",
       "    </tr>\n",
       "    <tr>\n",
       "      <th>1</th>\n",
       "      <td>8.9</td>\n",
       "      <td>87.0</td>\n",
       "    </tr>\n",
       "    <tr>\n",
       "      <th>2</th>\n",
       "      <td>6.4</td>\n",
       "      <td>90.0</td>\n",
       "    </tr>\n",
       "    <tr>\n",
       "      <th>3</th>\n",
       "      <td>4.2</td>\n",
       "      <td>99.0</td>\n",
       "    </tr>\n",
       "    <tr>\n",
       "      <th>4</th>\n",
       "      <td>6.5</td>\n",
       "      <td>73.0</td>\n",
       "    </tr>\n",
       "  </tbody>\n",
       "</table>\n",
       "</div>"
      ],
      "text/plain": [
       "   averagerating  runtime_minutes\n",
       "0            8.3            117.0\n",
       "1            8.9             87.0\n",
       "2            6.4             90.0\n",
       "3            4.2             99.0\n",
       "4            6.5             73.0"
      ]
     },
     "execution_count": 27,
     "metadata": {},
     "output_type": "execute_result"
    }
   ],
   "source": [
    "# Create a new DataFrame with selected columns\n",
    "ratings_summary_df = ratings_basics_merged[['averagerating', 'runtime_minutes']]\n",
    "\n",
    "# Display the first few rows of the new DataFrame\n",
    "ratings_summary_df.head()"
   ]
  },
  {
   "cell_type": "markdown",
   "id": "8addd5c2",
   "metadata": {},
   "source": [
    "The following operation investigates whether there is a relationship between a movie's runtime (in minutes) and its average audience rating using **the Pearson correlation test**. The Pearson correlation measures the strength and direction of a linear relationship between two continuous variables.\n",
    "\n",
    "**Null Hypothesis (H₀)**:\n",
    "\"There is no significant relationship between a movie's runtime and its average audience rating.\"\n",
    "This suggests that changes in runtime do not affect or are not associated with changes in audience ratings.\n",
    "\n",
    "**Alternative Hypothesis (H₁)**:\n",
    "\"There is a significant relationship between a movie's runtime and its average audience rating.\"\n",
    "This implies that movie runtime and audience ratings are statistically associated, whether positively or negatively."
   ]
  },
  {
   "cell_type": "code",
   "execution_count": 28,
   "id": "11f73af3",
   "metadata": {},
   "outputs": [
    {
     "name": "stdout",
     "output_type": "stream",
     "text": [
      "Pearson Correlation Coefficient: -0.006963469265963981\n",
      "P-value: 0.07311196545893413\n",
      "There is no statistically significant relationship between rating and runtime.\n"
     ]
    }
   ],
   "source": [
    "# Finding out if there is a relationship between the rating and runtime in minutes\n",
    "from scipy.stats import pearsonr\n",
    "\n",
    "# Drop rows with missing values in 'averagerating' or 'runtime_minutes'\n",
    "ratings_runtime_df = ratings_basics_merged[['averagerating', 'runtime_minutes']].dropna()\n",
    "\n",
    "# Perform Pearson correlation test\n",
    "correlation, p_value = pearsonr(ratings_runtime_df['averagerating'], ratings_runtime_df['runtime_minutes'])\n",
    "\n",
    "# Display the results\n",
    "print(f\"Pearson Correlation Coefficient: {correlation}\")\n",
    "print(f\"P-value: {p_value}\")\n",
    "\n",
    "# Interpret the results\n",
    "if p_value < 0.05:\n",
    "    print(\"There is a statistically significant relationship between rating and runtime.\")\n",
    "else:\n",
    "    print(\"There is no statistically significant relationship between rating and runtime.\")"
   ]
  },
  {
   "cell_type": "markdown",
   "id": "e29d0ba1",
   "metadata": {},
   "source": [
    "This analysis provides valuable insights into whether the length of a movie—whether longer or shorter—is associated with higher or lower audience ratings, offering clues about viewer preferences. However, it's crucial to emphasize that a correlation between runtime and ratings does not necessarily indicate causation. Even if a strong statistical link would have been observed, it would not imply that the duration of a movie directly affects how audiences rate it."
   ]
  },
  {
   "cell_type": "code",
   "execution_count": 29,
   "id": "c7479757",
   "metadata": {},
   "outputs": [
    {
     "name": "stdout",
     "output_type": "stream",
     "text": [
      "<class 'pandas.core.frame.DataFrame'>\n",
      "RangeIndex: 1560 entries, 0 to 1559\n",
      "Data columns (total 12 columns):\n",
      " #   Column        Non-Null Count  Dtype \n",
      "---  ------        --------------  ----- \n",
      " 0   id            1560 non-null   int64 \n",
      " 1   synopsis      1498 non-null   object\n",
      " 2   rating        1557 non-null   object\n",
      " 3   genre         1552 non-null   object\n",
      " 4   director      1361 non-null   object\n",
      " 5   writer        1111 non-null   object\n",
      " 6   theater_date  1201 non-null   object\n",
      " 7   dvd_date      1201 non-null   object\n",
      " 8   currency      340 non-null    object\n",
      " 9   box_office    340 non-null    object\n",
      " 10  runtime       1530 non-null   object\n",
      " 11  studio        494 non-null    object\n",
      "dtypes: int64(1), object(11)\n",
      "memory usage: 146.4+ KB\n"
     ]
    }
   ],
   "source": [
    "# Summary information of the rotten tomatoes data\n",
    "rotten_tomatoes_data.info()"
   ]
  },
  {
   "cell_type": "markdown",
   "id": "0072dada",
   "metadata": {},
   "source": [
    "As you can see from the output above, this dataset contains several columns with information on different movies. Some of the information that could be of use to us would have been ```box_office```. However, after getting the information of the dataset, the column of interest has many missing values. This dataset therefore wouldn't be of use to answer the business questions. "
   ]
  },
  {
   "cell_type": "code",
   "execution_count": 30,
   "id": "bbad73bf",
   "metadata": {},
   "outputs": [
    {
     "data": {
      "text/plain": [
       "Index(['Unnamed: 0', 'genre_ids', 'id', 'original_language', 'original_title',\n",
       "       'popularity', 'release_date', 'title', 'vote_average', 'vote_count'],\n",
       "      dtype='object')"
      ]
     },
     "execution_count": 30,
     "metadata": {},
     "output_type": "execute_result"
    }
   ],
   "source": [
    "# Understanding the movies database data\n",
    "the_movies_db.columns"
   ]
  },
  {
   "cell_type": "markdown",
   "id": "52c9c1da",
   "metadata": {},
   "source": [
    "To understand better the genres of the different movies, I looked up the movie genre ids from [The Movie Database](https://www.themoviedb.org) and found how to interpret them [Genre IDs](https://www.themoviedb.org/talk/5daf6eb0ae36680011d7e6ee.). Therefore, I am going to insert a column ```genre``` in the table to highlight which specific genre each movie is. "
   ]
  },
  {
   "cell_type": "code",
   "execution_count": 31,
   "id": "d83405a4",
   "metadata": {},
   "outputs": [],
   "source": [
    "# Mapping genre IDs to genre names using a dictionary\n",
    "genre_dict = {\n",
    "    28: \"Action\", 12: \"Adventure\", 16: \"Animation\", 35: \"Comedy\", 80: \"Crime\",\n",
    "    99: \"Documentary\", 18: \"Drama\", 10751: \"Family\", 14: \"Fantasy\", 36: \"History\",\n",
    "    27: \"Horror\", 10402: \"Music\", 9648: \"Mystery\", 10749: \"Romance\", 878: \"Science Fiction\",\n",
    "    10770: \"TV Movie\", 53: \"Thriller\", 10752: \"War\", 37: \"Western\"\n",
    "}"
   ]
  },
  {
   "cell_type": "code",
   "execution_count": 32,
   "id": "e683689d",
   "metadata": {},
   "outputs": [
    {
     "data": {
      "application/vnd.microsoft.datawrangler.viewer.v0+json": {
       "columns": [
        {
         "name": "index",
         "rawType": "int64",
         "type": "integer"
        },
        {
         "name": "genre_ids",
         "rawType": "object",
         "type": "string"
        },
        {
         "name": "genre_names",
         "rawType": "object",
         "type": "string"
        }
       ],
       "conversionMethod": "pd.DataFrame",
       "ref": "35aab0ef-b29b-4a61-8a08-d04747da18ea",
       "rows": [
        [
         "0",
         "[12, 14, 10751]",
         "['Adventure', 'Fantasy', 'Family']"
        ],
        [
         "1",
         "[14, 12, 16, 10751]",
         "['Fantasy', 'Adventure', 'Animation', 'Family']"
        ],
        [
         "2",
         "[12, 28, 878]",
         "['Adventure', 'Action', 'Science Fiction']"
        ],
        [
         "3",
         "[16, 35, 10751]",
         "['Animation', 'Comedy', 'Family']"
        ],
        [
         "4",
         "[28, 878, 12]",
         "['Action', 'Science Fiction', 'Adventure']"
        ]
       ],
       "shape": {
        "columns": 2,
        "rows": 5
       }
      },
      "text/html": [
       "<div>\n",
       "<style scoped>\n",
       "    .dataframe tbody tr th:only-of-type {\n",
       "        vertical-align: middle;\n",
       "    }\n",
       "\n",
       "    .dataframe tbody tr th {\n",
       "        vertical-align: top;\n",
       "    }\n",
       "\n",
       "    .dataframe thead th {\n",
       "        text-align: right;\n",
       "    }\n",
       "</style>\n",
       "<table border=\"1\" class=\"dataframe\">\n",
       "  <thead>\n",
       "    <tr style=\"text-align: right;\">\n",
       "      <th></th>\n",
       "      <th>genre_ids</th>\n",
       "      <th>genre_names</th>\n",
       "    </tr>\n",
       "  </thead>\n",
       "  <tbody>\n",
       "    <tr>\n",
       "      <th>0</th>\n",
       "      <td>[12, 14, 10751]</td>\n",
       "      <td>[Adventure, Fantasy, Family]</td>\n",
       "    </tr>\n",
       "    <tr>\n",
       "      <th>1</th>\n",
       "      <td>[14, 12, 16, 10751]</td>\n",
       "      <td>[Fantasy, Adventure, Animation, Family]</td>\n",
       "    </tr>\n",
       "    <tr>\n",
       "      <th>2</th>\n",
       "      <td>[12, 28, 878]</td>\n",
       "      <td>[Adventure, Action, Science Fiction]</td>\n",
       "    </tr>\n",
       "    <tr>\n",
       "      <th>3</th>\n",
       "      <td>[16, 35, 10751]</td>\n",
       "      <td>[Animation, Comedy, Family]</td>\n",
       "    </tr>\n",
       "    <tr>\n",
       "      <th>4</th>\n",
       "      <td>[28, 878, 12]</td>\n",
       "      <td>[Action, Science Fiction, Adventure]</td>\n",
       "    </tr>\n",
       "  </tbody>\n",
       "</table>\n",
       "</div>"
      ],
      "text/plain": [
       "             genre_ids                              genre_names\n",
       "0      [12, 14, 10751]             [Adventure, Fantasy, Family]\n",
       "1  [14, 12, 16, 10751]  [Fantasy, Adventure, Animation, Family]\n",
       "2        [12, 28, 878]     [Adventure, Action, Science Fiction]\n",
       "3      [16, 35, 10751]              [Animation, Comedy, Family]\n",
       "4        [28, 878, 12]     [Action, Science Fiction, Adventure]"
      ]
     },
     "execution_count": 32,
     "metadata": {},
     "output_type": "execute_result"
    }
   ],
   "source": [
    "# Convert genre IDs to genre names\n",
    "# Map genre IDs to genre names directly\n",
    "import json\n",
    "the_movies_db['genre_names'] = the_movies_db['genre_ids'].apply(\n",
    "    lambda x: [genre_dict.get(genre_id, \"Unknown\") for genre_id in json.loads(x)]\n",
    ") # Converting json strings into python objects using json.loads()\n",
    "\n",
    "# Display the updated DataFrame\n",
    "the_movies_db[['genre_ids', 'genre_names']].head()"
   ]
  },
  {
   "cell_type": "markdown",
   "id": "6b3a6e86",
   "metadata": {},
   "source": [
    "As you can see from the output above, this dataset contains several columns with information on different movies. Some of the columns are of interest and will be used to answer the business questions as will be seen. "
   ]
  },
  {
   "cell_type": "markdown",
   "id": "5f383051",
   "metadata": {},
   "source": [
    "```the_movies_db``` and ```movie_numbers``` dataframes have been merged to enable tracking of certain columns that will answer the business questions best. "
   ]
  },
  {
   "cell_type": "code",
   "execution_count": 33,
   "id": "066c0dc1",
   "metadata": {},
   "outputs": [
    {
     "data": {
      "application/vnd.microsoft.datawrangler.viewer.v0+json": {
       "columns": [
        {
         "name": "index",
         "rawType": "int64",
         "type": "integer"
        },
        {
         "name": "id_x",
         "rawType": "int64",
         "type": "integer"
        },
        {
         "name": "release_date_x",
         "rawType": "object",
         "type": "string"
        },
        {
         "name": "movie",
         "rawType": "object",
         "type": "string"
        },
        {
         "name": "production_budget",
         "rawType": "object",
         "type": "string"
        },
        {
         "name": "domestic_gross",
         "rawType": "object",
         "type": "string"
        },
        {
         "name": "worldwide_gross",
         "rawType": "object",
         "type": "string"
        },
        {
         "name": "Unnamed: 0",
         "rawType": "int64",
         "type": "integer"
        },
        {
         "name": "genre_ids",
         "rawType": "object",
         "type": "string"
        },
        {
         "name": "id_y",
         "rawType": "int64",
         "type": "integer"
        },
        {
         "name": "original_language",
         "rawType": "object",
         "type": "string"
        },
        {
         "name": "original_title",
         "rawType": "object",
         "type": "string"
        },
        {
         "name": "popularity",
         "rawType": "float64",
         "type": "float"
        },
        {
         "name": "release_date_y",
         "rawType": "object",
         "type": "string"
        },
        {
         "name": "title",
         "rawType": "object",
         "type": "string"
        },
        {
         "name": "vote_average",
         "rawType": "float64",
         "type": "float"
        },
        {
         "name": "vote_count",
         "rawType": "int64",
         "type": "integer"
        },
        {
         "name": "genre_names",
         "rawType": "object",
         "type": "string"
        }
       ],
       "conversionMethod": "pd.DataFrame",
       "ref": "f3145ddd-4476-488b-913b-3911e5eae401",
       "rows": [
        [
         "0",
         "1",
         "Dec 18, 2009",
         "Avatar",
         "$425,000,000",
         "$760,507,625",
         "$2,776,345,279",
         "6",
         "[28, 12, 14, 878]",
         "19995",
         "en",
         "Avatar",
         "26.526",
         "2009-12-18",
         "Avatar",
         "7.4",
         "18676",
         "['Action', 'Adventure', 'Fantasy', 'Science Fiction']"
        ],
        [
         "1",
         "2",
         "May 20, 2011",
         "Pirates of the Caribbean: On Stranger Tides",
         "$410,600,000",
         "$241,063,875",
         "$1,045,663,875",
         "2470",
         "[12, 28, 14]",
         "1865",
         "en",
         "Pirates of the Caribbean: On Stranger Tides",
         "30.579",
         "2011-05-20",
         "Pirates of the Caribbean: On Stranger Tides",
         "6.4",
         "8571",
         "['Adventure', 'Action', 'Fantasy']"
        ],
        [
         "2",
         "4",
         "May 1, 2015",
         "Avengers: Age of Ultron",
         "$330,600,000",
         "$459,005,868",
         "$1,403,013,963",
         "14169",
         "[28, 12, 878]",
         "99861",
         "en",
         "Avengers: Age of Ultron",
         "44.383",
         "2015-05-01",
         "Avengers: Age of Ultron",
         "7.3",
         "13457",
         "['Action', 'Adventure', 'Science Fiction']"
        ],
        [
         "3",
         "7",
         "Apr 27, 2018",
         "Avengers: Infinity War",
         "$300,000,000",
         "$678,815,482",
         "$2,048,134,200",
         "23811",
         "[12, 28, 14]",
         "299536",
         "en",
         "Avengers: Infinity War",
         "80.773",
         "2018-04-27",
         "Avengers: Infinity War",
         "8.3",
         "13948",
         "['Adventure', 'Action', 'Fantasy']"
        ],
        [
         "4",
         "9",
         "Nov 17, 2017",
         "Justice League",
         "$300,000,000",
         "$229,024,295",
         "$655,945,209",
         "20623",
         "[28, 12, 14, 878]",
         "141052",
         "en",
         "Justice League",
         "34.953",
         "2017-11-17",
         "Justice League",
         "6.2",
         "7510",
         "['Action', 'Adventure', 'Fantasy', 'Science Fiction']"
        ]
       ],
       "shape": {
        "columns": 17,
        "rows": 5
       }
      },
      "text/html": [
       "<div>\n",
       "<style scoped>\n",
       "    .dataframe tbody tr th:only-of-type {\n",
       "        vertical-align: middle;\n",
       "    }\n",
       "\n",
       "    .dataframe tbody tr th {\n",
       "        vertical-align: top;\n",
       "    }\n",
       "\n",
       "    .dataframe thead th {\n",
       "        text-align: right;\n",
       "    }\n",
       "</style>\n",
       "<table border=\"1\" class=\"dataframe\">\n",
       "  <thead>\n",
       "    <tr style=\"text-align: right;\">\n",
       "      <th></th>\n",
       "      <th>id_x</th>\n",
       "      <th>release_date_x</th>\n",
       "      <th>movie</th>\n",
       "      <th>production_budget</th>\n",
       "      <th>domestic_gross</th>\n",
       "      <th>worldwide_gross</th>\n",
       "      <th>Unnamed: 0</th>\n",
       "      <th>genre_ids</th>\n",
       "      <th>id_y</th>\n",
       "      <th>original_language</th>\n",
       "      <th>original_title</th>\n",
       "      <th>popularity</th>\n",
       "      <th>release_date_y</th>\n",
       "      <th>title</th>\n",
       "      <th>vote_average</th>\n",
       "      <th>vote_count</th>\n",
       "      <th>genre_names</th>\n",
       "    </tr>\n",
       "  </thead>\n",
       "  <tbody>\n",
       "    <tr>\n",
       "      <th>0</th>\n",
       "      <td>1</td>\n",
       "      <td>Dec 18, 2009</td>\n",
       "      <td>Avatar</td>\n",
       "      <td>$425,000,000</td>\n",
       "      <td>$760,507,625</td>\n",
       "      <td>$2,776,345,279</td>\n",
       "      <td>6</td>\n",
       "      <td>[28, 12, 14, 878]</td>\n",
       "      <td>19995</td>\n",
       "      <td>en</td>\n",
       "      <td>Avatar</td>\n",
       "      <td>26.526</td>\n",
       "      <td>2009-12-18</td>\n",
       "      <td>Avatar</td>\n",
       "      <td>7.4</td>\n",
       "      <td>18676</td>\n",
       "      <td>[Action, Adventure, Fantasy, Science Fiction]</td>\n",
       "    </tr>\n",
       "    <tr>\n",
       "      <th>1</th>\n",
       "      <td>2</td>\n",
       "      <td>May 20, 2011</td>\n",
       "      <td>Pirates of the Caribbean: On Stranger Tides</td>\n",
       "      <td>$410,600,000</td>\n",
       "      <td>$241,063,875</td>\n",
       "      <td>$1,045,663,875</td>\n",
       "      <td>2470</td>\n",
       "      <td>[12, 28, 14]</td>\n",
       "      <td>1865</td>\n",
       "      <td>en</td>\n",
       "      <td>Pirates of the Caribbean: On Stranger Tides</td>\n",
       "      <td>30.579</td>\n",
       "      <td>2011-05-20</td>\n",
       "      <td>Pirates of the Caribbean: On Stranger Tides</td>\n",
       "      <td>6.4</td>\n",
       "      <td>8571</td>\n",
       "      <td>[Adventure, Action, Fantasy]</td>\n",
       "    </tr>\n",
       "    <tr>\n",
       "      <th>2</th>\n",
       "      <td>4</td>\n",
       "      <td>May 1, 2015</td>\n",
       "      <td>Avengers: Age of Ultron</td>\n",
       "      <td>$330,600,000</td>\n",
       "      <td>$459,005,868</td>\n",
       "      <td>$1,403,013,963</td>\n",
       "      <td>14169</td>\n",
       "      <td>[28, 12, 878]</td>\n",
       "      <td>99861</td>\n",
       "      <td>en</td>\n",
       "      <td>Avengers: Age of Ultron</td>\n",
       "      <td>44.383</td>\n",
       "      <td>2015-05-01</td>\n",
       "      <td>Avengers: Age of Ultron</td>\n",
       "      <td>7.3</td>\n",
       "      <td>13457</td>\n",
       "      <td>[Action, Adventure, Science Fiction]</td>\n",
       "    </tr>\n",
       "    <tr>\n",
       "      <th>3</th>\n",
       "      <td>7</td>\n",
       "      <td>Apr 27, 2018</td>\n",
       "      <td>Avengers: Infinity War</td>\n",
       "      <td>$300,000,000</td>\n",
       "      <td>$678,815,482</td>\n",
       "      <td>$2,048,134,200</td>\n",
       "      <td>23811</td>\n",
       "      <td>[12, 28, 14]</td>\n",
       "      <td>299536</td>\n",
       "      <td>en</td>\n",
       "      <td>Avengers: Infinity War</td>\n",
       "      <td>80.773</td>\n",
       "      <td>2018-04-27</td>\n",
       "      <td>Avengers: Infinity War</td>\n",
       "      <td>8.3</td>\n",
       "      <td>13948</td>\n",
       "      <td>[Adventure, Action, Fantasy]</td>\n",
       "    </tr>\n",
       "    <tr>\n",
       "      <th>4</th>\n",
       "      <td>9</td>\n",
       "      <td>Nov 17, 2017</td>\n",
       "      <td>Justice League</td>\n",
       "      <td>$300,000,000</td>\n",
       "      <td>$229,024,295</td>\n",
       "      <td>$655,945,209</td>\n",
       "      <td>20623</td>\n",
       "      <td>[28, 12, 14, 878]</td>\n",
       "      <td>141052</td>\n",
       "      <td>en</td>\n",
       "      <td>Justice League</td>\n",
       "      <td>34.953</td>\n",
       "      <td>2017-11-17</td>\n",
       "      <td>Justice League</td>\n",
       "      <td>6.2</td>\n",
       "      <td>7510</td>\n",
       "      <td>[Action, Adventure, Fantasy, Science Fiction]</td>\n",
       "    </tr>\n",
       "  </tbody>\n",
       "</table>\n",
       "</div>"
      ],
      "text/plain": [
       "   id_x release_date_x                                        movie  \\\n",
       "0     1   Dec 18, 2009                                       Avatar   \n",
       "1     2   May 20, 2011  Pirates of the Caribbean: On Stranger Tides   \n",
       "2     4    May 1, 2015                      Avengers: Age of Ultron   \n",
       "3     7   Apr 27, 2018                       Avengers: Infinity War   \n",
       "4     9   Nov 17, 2017                               Justice League   \n",
       "\n",
       "  production_budget domestic_gross worldwide_gross  Unnamed: 0  \\\n",
       "0      $425,000,000   $760,507,625  $2,776,345,279           6   \n",
       "1      $410,600,000   $241,063,875  $1,045,663,875        2470   \n",
       "2      $330,600,000   $459,005,868  $1,403,013,963       14169   \n",
       "3      $300,000,000   $678,815,482  $2,048,134,200       23811   \n",
       "4      $300,000,000   $229,024,295    $655,945,209       20623   \n",
       "\n",
       "           genre_ids    id_y original_language  \\\n",
       "0  [28, 12, 14, 878]   19995                en   \n",
       "1       [12, 28, 14]    1865                en   \n",
       "2      [28, 12, 878]   99861                en   \n",
       "3       [12, 28, 14]  299536                en   \n",
       "4  [28, 12, 14, 878]  141052                en   \n",
       "\n",
       "                                original_title  popularity release_date_y  \\\n",
       "0                                       Avatar      26.526     2009-12-18   \n",
       "1  Pirates of the Caribbean: On Stranger Tides      30.579     2011-05-20   \n",
       "2                      Avengers: Age of Ultron      44.383     2015-05-01   \n",
       "3                       Avengers: Infinity War      80.773     2018-04-27   \n",
       "4                               Justice League      34.953     2017-11-17   \n",
       "\n",
       "                                         title  vote_average  vote_count  \\\n",
       "0                                       Avatar           7.4       18676   \n",
       "1  Pirates of the Caribbean: On Stranger Tides           6.4        8571   \n",
       "2                      Avengers: Age of Ultron           7.3       13457   \n",
       "3                       Avengers: Infinity War           8.3       13948   \n",
       "4                               Justice League           6.2        7510   \n",
       "\n",
       "                                     genre_names  \n",
       "0  [Action, Adventure, Fantasy, Science Fiction]  \n",
       "1                   [Adventure, Action, Fantasy]  \n",
       "2           [Action, Adventure, Science Fiction]  \n",
       "3                   [Adventure, Action, Fantasy]  \n",
       "4  [Action, Adventure, Fantasy, Science Fiction]  "
      ]
     },
     "execution_count": 33,
     "metadata": {},
     "output_type": "execute_result"
    }
   ],
   "source": [
    "# Merging the two dataframes\n",
    "merged_movies_info = movie_numbers.merge(the_movies_db, left_on='movie', right_on='title', how='inner')\n",
    "merged_movies_info.head()"
   ]
  },
  {
   "cell_type": "code",
   "execution_count": 34,
   "id": "361bbfdc",
   "metadata": {},
   "outputs": [
    {
     "data": {
      "text/plain": [
       "Index(['id_x', 'release_date_x', 'movie', 'production_budget',\n",
       "       'domestic_gross', 'worldwide_gross', 'Unnamed: 0', 'genre_ids', 'id_y',\n",
       "       'original_language', 'original_title', 'popularity', 'release_date_y',\n",
       "       'title', 'vote_average', 'vote_count', 'genre_names'],\n",
       "      dtype='object')"
      ]
     },
     "execution_count": 34,
     "metadata": {},
     "output_type": "execute_result"
    }
   ],
   "source": [
    "# The merged dataframe columns\n",
    "merged_movies_info.columns"
   ]
  },
  {
   "cell_type": "markdown",
   "id": "f757ce4c",
   "metadata": {},
   "source": [
    "Some of the columns in the ```merged_movies_info``` are redundant. To be able to answer our business questions, some columns will be selected specifically and assigned to a dataframe ```selected_merged_movies_info```."
   ]
  },
  {
   "cell_type": "code",
   "execution_count": 35,
   "id": "b4c726e7",
   "metadata": {},
   "outputs": [
    {
     "name": "stderr",
     "output_type": "stream",
     "text": [
      "c:\\Users\\User\\anaconda3\\envs\\learn-env\\lib\\site-packages\\pandas\\core\\frame.py:4296: SettingWithCopyWarning: \n",
      "A value is trying to be set on a copy of a slice from a DataFrame\n",
      "\n",
      "See the caveats in the documentation: https://pandas.pydata.org/pandas-docs/stable/user_guide/indexing.html#returning-a-view-versus-a-copy\n",
      "  return super().rename(\n"
     ]
    },
    {
     "data": {
      "application/vnd.microsoft.datawrangler.viewer.v0+json": {
       "columns": [
        {
         "name": "index",
         "rawType": "int64",
         "type": "integer"
        },
        {
         "name": "release_date",
         "rawType": "object",
         "type": "string"
        },
        {
         "name": "movie",
         "rawType": "object",
         "type": "string"
        },
        {
         "name": "production_budget",
         "rawType": "object",
         "type": "string"
        },
        {
         "name": "domestic_gross",
         "rawType": "object",
         "type": "string"
        },
        {
         "name": "worldwide_gross",
         "rawType": "object",
         "type": "string"
        },
        {
         "name": "popularity",
         "rawType": "float64",
         "type": "float"
        },
        {
         "name": "vote_average",
         "rawType": "float64",
         "type": "float"
        },
        {
         "name": "genre_names",
         "rawType": "object",
         "type": "string"
        }
       ],
       "conversionMethod": "pd.DataFrame",
       "ref": "4a264cfe-40a7-45aa-ad73-a2d0ae12c597",
       "rows": [
        [
         "0",
         "Dec 18, 2009",
         "Avatar",
         "$425,000,000",
         "$760,507,625",
         "$2,776,345,279",
         "26.526",
         "7.4",
         "['Action', 'Adventure', 'Fantasy', 'Science Fiction']"
        ],
        [
         "1",
         "May 20, 2011",
         "Pirates of the Caribbean: On Stranger Tides",
         "$410,600,000",
         "$241,063,875",
         "$1,045,663,875",
         "30.579",
         "6.4",
         "['Adventure', 'Action', 'Fantasy']"
        ],
        [
         "2",
         "May 1, 2015",
         "Avengers: Age of Ultron",
         "$330,600,000",
         "$459,005,868",
         "$1,403,013,963",
         "44.383",
         "7.3",
         "['Action', 'Adventure', 'Science Fiction']"
        ],
        [
         "3",
         "Apr 27, 2018",
         "Avengers: Infinity War",
         "$300,000,000",
         "$678,815,482",
         "$2,048,134,200",
         "80.773",
         "8.3",
         "['Adventure', 'Action', 'Fantasy']"
        ],
        [
         "4",
         "Nov 17, 2017",
         "Justice League",
         "$300,000,000",
         "$229,024,295",
         "$655,945,209",
         "34.953",
         "6.2",
         "['Action', 'Adventure', 'Fantasy', 'Science Fiction']"
        ]
       ],
       "shape": {
        "columns": 8,
        "rows": 5
       }
      },
      "text/html": [
       "<div>\n",
       "<style scoped>\n",
       "    .dataframe tbody tr th:only-of-type {\n",
       "        vertical-align: middle;\n",
       "    }\n",
       "\n",
       "    .dataframe tbody tr th {\n",
       "        vertical-align: top;\n",
       "    }\n",
       "\n",
       "    .dataframe thead th {\n",
       "        text-align: right;\n",
       "    }\n",
       "</style>\n",
       "<table border=\"1\" class=\"dataframe\">\n",
       "  <thead>\n",
       "    <tr style=\"text-align: right;\">\n",
       "      <th></th>\n",
       "      <th>release_date</th>\n",
       "      <th>movie</th>\n",
       "      <th>production_budget</th>\n",
       "      <th>domestic_gross</th>\n",
       "      <th>worldwide_gross</th>\n",
       "      <th>popularity</th>\n",
       "      <th>vote_average</th>\n",
       "      <th>genre_names</th>\n",
       "    </tr>\n",
       "  </thead>\n",
       "  <tbody>\n",
       "    <tr>\n",
       "      <th>0</th>\n",
       "      <td>Dec 18, 2009</td>\n",
       "      <td>Avatar</td>\n",
       "      <td>$425,000,000</td>\n",
       "      <td>$760,507,625</td>\n",
       "      <td>$2,776,345,279</td>\n",
       "      <td>26.526</td>\n",
       "      <td>7.4</td>\n",
       "      <td>[Action, Adventure, Fantasy, Science Fiction]</td>\n",
       "    </tr>\n",
       "    <tr>\n",
       "      <th>1</th>\n",
       "      <td>May 20, 2011</td>\n",
       "      <td>Pirates of the Caribbean: On Stranger Tides</td>\n",
       "      <td>$410,600,000</td>\n",
       "      <td>$241,063,875</td>\n",
       "      <td>$1,045,663,875</td>\n",
       "      <td>30.579</td>\n",
       "      <td>6.4</td>\n",
       "      <td>[Adventure, Action, Fantasy]</td>\n",
       "    </tr>\n",
       "    <tr>\n",
       "      <th>2</th>\n",
       "      <td>May 1, 2015</td>\n",
       "      <td>Avengers: Age of Ultron</td>\n",
       "      <td>$330,600,000</td>\n",
       "      <td>$459,005,868</td>\n",
       "      <td>$1,403,013,963</td>\n",
       "      <td>44.383</td>\n",
       "      <td>7.3</td>\n",
       "      <td>[Action, Adventure, Science Fiction]</td>\n",
       "    </tr>\n",
       "    <tr>\n",
       "      <th>3</th>\n",
       "      <td>Apr 27, 2018</td>\n",
       "      <td>Avengers: Infinity War</td>\n",
       "      <td>$300,000,000</td>\n",
       "      <td>$678,815,482</td>\n",
       "      <td>$2,048,134,200</td>\n",
       "      <td>80.773</td>\n",
       "      <td>8.3</td>\n",
       "      <td>[Adventure, Action, Fantasy]</td>\n",
       "    </tr>\n",
       "    <tr>\n",
       "      <th>4</th>\n",
       "      <td>Nov 17, 2017</td>\n",
       "      <td>Justice League</td>\n",
       "      <td>$300,000,000</td>\n",
       "      <td>$229,024,295</td>\n",
       "      <td>$655,945,209</td>\n",
       "      <td>34.953</td>\n",
       "      <td>6.2</td>\n",
       "      <td>[Action, Adventure, Fantasy, Science Fiction]</td>\n",
       "    </tr>\n",
       "  </tbody>\n",
       "</table>\n",
       "</div>"
      ],
      "text/plain": [
       "   release_date                                        movie  \\\n",
       "0  Dec 18, 2009                                       Avatar   \n",
       "1  May 20, 2011  Pirates of the Caribbean: On Stranger Tides   \n",
       "2   May 1, 2015                      Avengers: Age of Ultron   \n",
       "3  Apr 27, 2018                       Avengers: Infinity War   \n",
       "4  Nov 17, 2017                               Justice League   \n",
       "\n",
       "  production_budget domestic_gross worldwide_gross  popularity  vote_average  \\\n",
       "0      $425,000,000   $760,507,625  $2,776,345,279      26.526           7.4   \n",
       "1      $410,600,000   $241,063,875  $1,045,663,875      30.579           6.4   \n",
       "2      $330,600,000   $459,005,868  $1,403,013,963      44.383           7.3   \n",
       "3      $300,000,000   $678,815,482  $2,048,134,200      80.773           8.3   \n",
       "4      $300,000,000   $229,024,295    $655,945,209      34.953           6.2   \n",
       "\n",
       "                                     genre_names  \n",
       "0  [Action, Adventure, Fantasy, Science Fiction]  \n",
       "1                   [Adventure, Action, Fantasy]  \n",
       "2           [Action, Adventure, Science Fiction]  \n",
       "3                   [Adventure, Action, Fantasy]  \n",
       "4  [Action, Adventure, Fantasy, Science Fiction]  "
      ]
     },
     "execution_count": 35,
     "metadata": {},
     "output_type": "execute_result"
    }
   ],
   "source": [
    "# Specific columns selected from the merged_movies_info dataframe\n",
    "selected_merged_movies_info = merged_movies_info[['release_date_x' ,'movie', 'production_budget', 'domestic_gross', 'worldwide_gross', 'popularity', 'vote_average', 'genre_names']]\n",
    "# Rename the 'release_date_x' column to 'release_date'\n",
    "selected_merged_movies_info.rename(columns={'release_date_x': 'release_date'}, inplace=True)\n",
    "# Display the first 5 rows of the updated DataFrame\n",
    "selected_merged_movies_info.head()"
   ]
  },
  {
   "cell_type": "code",
   "execution_count": 36,
   "id": "a2a4b37f",
   "metadata": {},
   "outputs": [],
   "source": [
    "# Close the connection\n",
    "conn.close()"
   ]
  },
  {
   "cell_type": "markdown",
   "id": "e15c0729",
   "metadata": {},
   "source": [
    "### Objective 1: Evaluate seasonal and regional trends\n",
    "\n",
    "To fulfill the objective, various metrics were systematically analyzed to derive the desired insights and findings.\n",
    "\n",
    "- **Analyze Box Office Performance by Release Month and Season**: identify trends in revenue across different months and seasons (e.g., summer blockbusters, holiday releases) and determine which months or seasons generate the highest average revenue for films. \n",
    "\n",
    "- **Examine Regional Audience Preferences**: investigate how box office performance varies by region and identify genres or themes that are particularly popular in specific locations.\n",
    "\n",
    "- **Identify Underperforming Trends to Avoid**: pinpoint genres, themes, or release timings that consistently fail to meet expectations in specific regions or seasons helping the studio steer clear of high-risk decisions."
   ]
  },
  {
   "cell_type": "markdown",
   "id": "6903de6c",
   "metadata": {},
   "source": [
    "In the operation that follows, the month and/or season has been extracted from the release date to analyze how movies perform during different times of the year (e.g., summer blockbusters, holiday releases). The data has been grouped by month or season and may help to calculate the average or total gross revenue on different seasons or months. "
   ]
  },
  {
   "cell_type": "code",
   "execution_count": 37,
   "id": "53b58600",
   "metadata": {},
   "outputs": [
    {
     "name": "stderr",
     "output_type": "stream",
     "text": [
      "<ipython-input-37-074750a34822>:2: SettingWithCopyWarning: \n",
      "A value is trying to be set on a copy of a slice from a DataFrame.\n",
      "Try using .loc[row_indexer,col_indexer] = value instead\n",
      "\n",
      "See the caveats in the documentation: https://pandas.pydata.org/pandas-docs/stable/user_guide/indexing.html#returning-a-view-versus-a-copy\n",
      "  selected_merged_movies_info['release_date'] = pd.to_datetime(selected_merged_movies_info['release_date'])\n",
      "<ipython-input-37-074750a34822>:5: SettingWithCopyWarning: \n",
      "A value is trying to be set on a copy of a slice from a DataFrame.\n",
      "Try using .loc[row_indexer,col_indexer] = value instead\n",
      "\n",
      "See the caveats in the documentation: https://pandas.pydata.org/pandas-docs/stable/user_guide/indexing.html#returning-a-view-versus-a-copy\n",
      "  selected_merged_movies_info['month'] = selected_merged_movies_info['release_date'].dt.month\n",
      "<ipython-input-37-074750a34822>:7: SettingWithCopyWarning: \n",
      "A value is trying to be set on a copy of a slice from a DataFrame.\n",
      "Try using .loc[row_indexer,col_indexer] = value instead\n",
      "\n",
      "See the caveats in the documentation: https://pandas.pydata.org/pandas-docs/stable/user_guide/indexing.html#returning-a-view-versus-a-copy\n",
      "  selected_merged_movies_info['season'] = selected_merged_movies_info['month'].apply(\n"
     ]
    },
    {
     "data": {
      "application/vnd.microsoft.datawrangler.viewer.v0+json": {
       "columns": [
        {
         "name": "index",
         "rawType": "int64",
         "type": "integer"
        },
        {
         "name": "release_date",
         "rawType": "datetime64[ns]",
         "type": "datetime"
        },
        {
         "name": "movie",
         "rawType": "object",
         "type": "string"
        },
        {
         "name": "production_budget",
         "rawType": "object",
         "type": "string"
        },
        {
         "name": "domestic_gross",
         "rawType": "object",
         "type": "string"
        },
        {
         "name": "worldwide_gross",
         "rawType": "object",
         "type": "string"
        },
        {
         "name": "popularity",
         "rawType": "float64",
         "type": "float"
        },
        {
         "name": "vote_average",
         "rawType": "float64",
         "type": "float"
        },
        {
         "name": "genre_names",
         "rawType": "object",
         "type": "string"
        },
        {
         "name": "month",
         "rawType": "int64",
         "type": "integer"
        },
        {
         "name": "season",
         "rawType": "object",
         "type": "string"
        }
       ],
       "conversionMethod": "pd.DataFrame",
       "ref": "10c33ec9-b765-456e-9963-18fa67212553",
       "rows": [
        [
         "0",
         "2009-12-18 00:00:00",
         "Avatar",
         "$425,000,000",
         "$760,507,625",
         "$2,776,345,279",
         "26.526",
         "7.4",
         "['Action', 'Adventure', 'Fantasy', 'Science Fiction']",
         "12",
         "Winter"
        ],
        [
         "1",
         "2011-05-20 00:00:00",
         "Pirates of the Caribbean: On Stranger Tides",
         "$410,600,000",
         "$241,063,875",
         "$1,045,663,875",
         "30.579",
         "6.4",
         "['Adventure', 'Action', 'Fantasy']",
         "5",
         "Spring"
        ],
        [
         "2",
         "2015-05-01 00:00:00",
         "Avengers: Age of Ultron",
         "$330,600,000",
         "$459,005,868",
         "$1,403,013,963",
         "44.383",
         "7.3",
         "['Action', 'Adventure', 'Science Fiction']",
         "5",
         "Spring"
        ],
        [
         "3",
         "2018-04-27 00:00:00",
         "Avengers: Infinity War",
         "$300,000,000",
         "$678,815,482",
         "$2,048,134,200",
         "80.773",
         "8.3",
         "['Adventure', 'Action', 'Fantasy']",
         "4",
         "Spring"
        ],
        [
         "4",
         "2017-11-17 00:00:00",
         "Justice League",
         "$300,000,000",
         "$229,024,295",
         "$655,945,209",
         "34.953",
         "6.2",
         "['Action', 'Adventure', 'Fantasy', 'Science Fiction']",
         "11",
         "Fall"
        ]
       ],
       "shape": {
        "columns": 10,
        "rows": 5
       }
      },
      "text/html": [
       "<div>\n",
       "<style scoped>\n",
       "    .dataframe tbody tr th:only-of-type {\n",
       "        vertical-align: middle;\n",
       "    }\n",
       "\n",
       "    .dataframe tbody tr th {\n",
       "        vertical-align: top;\n",
       "    }\n",
       "\n",
       "    .dataframe thead th {\n",
       "        text-align: right;\n",
       "    }\n",
       "</style>\n",
       "<table border=\"1\" class=\"dataframe\">\n",
       "  <thead>\n",
       "    <tr style=\"text-align: right;\">\n",
       "      <th></th>\n",
       "      <th>release_date</th>\n",
       "      <th>movie</th>\n",
       "      <th>production_budget</th>\n",
       "      <th>domestic_gross</th>\n",
       "      <th>worldwide_gross</th>\n",
       "      <th>popularity</th>\n",
       "      <th>vote_average</th>\n",
       "      <th>genre_names</th>\n",
       "      <th>month</th>\n",
       "      <th>season</th>\n",
       "    </tr>\n",
       "  </thead>\n",
       "  <tbody>\n",
       "    <tr>\n",
       "      <th>0</th>\n",
       "      <td>2009-12-18</td>\n",
       "      <td>Avatar</td>\n",
       "      <td>$425,000,000</td>\n",
       "      <td>$760,507,625</td>\n",
       "      <td>$2,776,345,279</td>\n",
       "      <td>26.526</td>\n",
       "      <td>7.4</td>\n",
       "      <td>[Action, Adventure, Fantasy, Science Fiction]</td>\n",
       "      <td>12</td>\n",
       "      <td>Winter</td>\n",
       "    </tr>\n",
       "    <tr>\n",
       "      <th>1</th>\n",
       "      <td>2011-05-20</td>\n",
       "      <td>Pirates of the Caribbean: On Stranger Tides</td>\n",
       "      <td>$410,600,000</td>\n",
       "      <td>$241,063,875</td>\n",
       "      <td>$1,045,663,875</td>\n",
       "      <td>30.579</td>\n",
       "      <td>6.4</td>\n",
       "      <td>[Adventure, Action, Fantasy]</td>\n",
       "      <td>5</td>\n",
       "      <td>Spring</td>\n",
       "    </tr>\n",
       "    <tr>\n",
       "      <th>2</th>\n",
       "      <td>2015-05-01</td>\n",
       "      <td>Avengers: Age of Ultron</td>\n",
       "      <td>$330,600,000</td>\n",
       "      <td>$459,005,868</td>\n",
       "      <td>$1,403,013,963</td>\n",
       "      <td>44.383</td>\n",
       "      <td>7.3</td>\n",
       "      <td>[Action, Adventure, Science Fiction]</td>\n",
       "      <td>5</td>\n",
       "      <td>Spring</td>\n",
       "    </tr>\n",
       "    <tr>\n",
       "      <th>3</th>\n",
       "      <td>2018-04-27</td>\n",
       "      <td>Avengers: Infinity War</td>\n",
       "      <td>$300,000,000</td>\n",
       "      <td>$678,815,482</td>\n",
       "      <td>$2,048,134,200</td>\n",
       "      <td>80.773</td>\n",
       "      <td>8.3</td>\n",
       "      <td>[Adventure, Action, Fantasy]</td>\n",
       "      <td>4</td>\n",
       "      <td>Spring</td>\n",
       "    </tr>\n",
       "    <tr>\n",
       "      <th>4</th>\n",
       "      <td>2017-11-17</td>\n",
       "      <td>Justice League</td>\n",
       "      <td>$300,000,000</td>\n",
       "      <td>$229,024,295</td>\n",
       "      <td>$655,945,209</td>\n",
       "      <td>34.953</td>\n",
       "      <td>6.2</td>\n",
       "      <td>[Action, Adventure, Fantasy, Science Fiction]</td>\n",
       "      <td>11</td>\n",
       "      <td>Fall</td>\n",
       "    </tr>\n",
       "  </tbody>\n",
       "</table>\n",
       "</div>"
      ],
      "text/plain": [
       "  release_date                                        movie production_budget  \\\n",
       "0   2009-12-18                                       Avatar      $425,000,000   \n",
       "1   2011-05-20  Pirates of the Caribbean: On Stranger Tides      $410,600,000   \n",
       "2   2015-05-01                      Avengers: Age of Ultron      $330,600,000   \n",
       "3   2018-04-27                       Avengers: Infinity War      $300,000,000   \n",
       "4   2017-11-17                               Justice League      $300,000,000   \n",
       "\n",
       "  domestic_gross worldwide_gross  popularity  vote_average  \\\n",
       "0   $760,507,625  $2,776,345,279      26.526           7.4   \n",
       "1   $241,063,875  $1,045,663,875      30.579           6.4   \n",
       "2   $459,005,868  $1,403,013,963      44.383           7.3   \n",
       "3   $678,815,482  $2,048,134,200      80.773           8.3   \n",
       "4   $229,024,295    $655,945,209      34.953           6.2   \n",
       "\n",
       "                                     genre_names  month  season  \n",
       "0  [Action, Adventure, Fantasy, Science Fiction]     12  Winter  \n",
       "1                   [Adventure, Action, Fantasy]      5  Spring  \n",
       "2           [Action, Adventure, Science Fiction]      5  Spring  \n",
       "3                   [Adventure, Action, Fantasy]      4  Spring  \n",
       "4  [Action, Adventure, Fantasy, Science Fiction]     11    Fall  "
      ]
     },
     "execution_count": 37,
     "metadata": {},
     "output_type": "execute_result"
    }
   ],
   "source": [
    "# Convert release date to datetime \n",
    "selected_merged_movies_info['release_date'] = pd.to_datetime(selected_merged_movies_info['release_date'])\n",
    "\n",
    "# Extract month and season\n",
    "selected_merged_movies_info['month'] = selected_merged_movies_info['release_date'].dt.month\n",
    "\n",
    "selected_merged_movies_info['season'] = selected_merged_movies_info['month'].apply(\n",
    "    lambda x: 'Winter' if x in [12, 1, 2] \n",
    "    else 'Spring' if x in [3, 4, 5] \n",
    "    else 'Summer' if x in [6, 7, 8] \n",
    "    else 'Fall'\n",
    ")\n",
    "\n",
    "selected_merged_movies_info.head()"
   ]
  },
  {
   "cell_type": "code",
   "execution_count": 38,
   "id": "4735c5a4",
   "metadata": {},
   "outputs": [
    {
     "name": "stdout",
     "output_type": "stream",
     "text": [
      "<class 'pandas.core.frame.DataFrame'>\n",
      "Int64Index: 2385 entries, 0 to 2384\n",
      "Data columns (total 10 columns):\n",
      " #   Column             Non-Null Count  Dtype         \n",
      "---  ------             --------------  -----         \n",
      " 0   release_date       2385 non-null   datetime64[ns]\n",
      " 1   movie              2385 non-null   object        \n",
      " 2   production_budget  2385 non-null   object        \n",
      " 3   domestic_gross     2385 non-null   object        \n",
      " 4   worldwide_gross    2385 non-null   object        \n",
      " 5   popularity         2385 non-null   float64       \n",
      " 6   vote_average       2385 non-null   float64       \n",
      " 7   genre_names        2385 non-null   object        \n",
      " 8   month              2385 non-null   int64         \n",
      " 9   season             2385 non-null   object        \n",
      "dtypes: datetime64[ns](1), float64(2), int64(1), object(6)\n",
      "memory usage: 205.0+ KB\n"
     ]
    }
   ],
   "source": [
    "# Getting the general information of the dataframe\n",
    "selected_merged_movies_info.info()"
   ]
  },
  {
   "cell_type": "markdown",
   "id": "9b8d21c4",
   "metadata": {},
   "source": [
    "The following operation configures how numerical values are displayed in a dataframe of series. It ensures that all floating-point numbers are displayed in a consistent and human-readable format."
   ]
  },
  {
   "cell_type": "code",
   "execution_count": 39,
   "id": "86cb257b",
   "metadata": {},
   "outputs": [],
   "source": [
    "# Format the output to display full numbers instead of scientific notation for readability\n",
    "pd.options.display.float_format = '{:,.2f}'.format"
   ]
  },
  {
   "cell_type": "code",
   "execution_count": 40,
   "id": "23cb7ee9",
   "metadata": {},
   "outputs": [
    {
     "name": "stderr",
     "output_type": "stream",
     "text": [
      "<ipython-input-40-cd428191f443>:3: SettingWithCopyWarning: \n",
      "A value is trying to be set on a copy of a slice from a DataFrame.\n",
      "Try using .loc[row_indexer,col_indexer] = value instead\n",
      "\n",
      "See the caveats in the documentation: https://pandas.pydata.org/pandas-docs/stable/user_guide/indexing.html#returning-a-view-versus-a-copy\n",
      "  selected_merged_movies_info['production_budget'] = selected_merged_movies_info['production_budget'].replace('[\\$,]', '', regex=True).astype(float)\n",
      "<ipython-input-40-cd428191f443>:4: SettingWithCopyWarning: \n",
      "A value is trying to be set on a copy of a slice from a DataFrame.\n",
      "Try using .loc[row_indexer,col_indexer] = value instead\n",
      "\n",
      "See the caveats in the documentation: https://pandas.pydata.org/pandas-docs/stable/user_guide/indexing.html#returning-a-view-versus-a-copy\n",
      "  selected_merged_movies_info['domestic_gross'] = selected_merged_movies_info['domestic_gross'].replace('[\\$,]', '', regex=True).astype(float)\n",
      "<ipython-input-40-cd428191f443>:5: SettingWithCopyWarning: \n",
      "A value is trying to be set on a copy of a slice from a DataFrame.\n",
      "Try using .loc[row_indexer,col_indexer] = value instead\n",
      "\n",
      "See the caveats in the documentation: https://pandas.pydata.org/pandas-docs/stable/user_guide/indexing.html#returning-a-view-versus-a-copy\n",
      "  selected_merged_movies_info['worldwide_gross'] = selected_merged_movies_info['worldwide_gross'].replace('[\\$,]', '', regex=True).astype(float)\n"
     ]
    },
    {
     "data": {
      "application/vnd.microsoft.datawrangler.viewer.v0+json": {
       "columns": [
        {
         "name": "index",
         "rawType": "int64",
         "type": "integer"
        },
        {
         "name": "release_date",
         "rawType": "datetime64[ns]",
         "type": "datetime"
        },
        {
         "name": "movie",
         "rawType": "object",
         "type": "string"
        },
        {
         "name": "production_budget",
         "rawType": "float64",
         "type": "float"
        },
        {
         "name": "domestic_gross",
         "rawType": "float64",
         "type": "float"
        },
        {
         "name": "worldwide_gross",
         "rawType": "float64",
         "type": "float"
        },
        {
         "name": "popularity",
         "rawType": "float64",
         "type": "float"
        },
        {
         "name": "vote_average",
         "rawType": "float64",
         "type": "float"
        },
        {
         "name": "genre_names",
         "rawType": "object",
         "type": "string"
        },
        {
         "name": "month",
         "rawType": "int64",
         "type": "integer"
        },
        {
         "name": "season",
         "rawType": "object",
         "type": "string"
        }
       ],
       "conversionMethod": "pd.DataFrame",
       "ref": "94712c97-2ae0-4337-badd-e3962e1ef6f5",
       "rows": [
        [
         "0",
         "2009-12-18 00:00:00",
         "Avatar",
         "425000000.0",
         "760507625.0",
         "2776345279.0",
         "26.526",
         "7.4",
         "['Action', 'Adventure', 'Fantasy', 'Science Fiction']",
         "12",
         "Winter"
        ],
        [
         "1",
         "2011-05-20 00:00:00",
         "Pirates of the Caribbean: On Stranger Tides",
         "410600000.0",
         "241063875.0",
         "1045663875.0",
         "30.579",
         "6.4",
         "['Adventure', 'Action', 'Fantasy']",
         "5",
         "Spring"
        ],
        [
         "2",
         "2015-05-01 00:00:00",
         "Avengers: Age of Ultron",
         "330600000.0",
         "459005868.0",
         "1403013963.0",
         "44.383",
         "7.3",
         "['Action', 'Adventure', 'Science Fiction']",
         "5",
         "Spring"
        ],
        [
         "3",
         "2018-04-27 00:00:00",
         "Avengers: Infinity War",
         "300000000.0",
         "678815482.0",
         "2048134200.0",
         "80.773",
         "8.3",
         "['Adventure', 'Action', 'Fantasy']",
         "4",
         "Spring"
        ],
        [
         "4",
         "2017-11-17 00:00:00",
         "Justice League",
         "300000000.0",
         "229024295.0",
         "655945209.0",
         "34.953",
         "6.2",
         "['Action', 'Adventure', 'Fantasy', 'Science Fiction']",
         "11",
         "Fall"
        ]
       ],
       "shape": {
        "columns": 10,
        "rows": 5
       }
      },
      "text/html": [
       "<div>\n",
       "<style scoped>\n",
       "    .dataframe tbody tr th:only-of-type {\n",
       "        vertical-align: middle;\n",
       "    }\n",
       "\n",
       "    .dataframe tbody tr th {\n",
       "        vertical-align: top;\n",
       "    }\n",
       "\n",
       "    .dataframe thead th {\n",
       "        text-align: right;\n",
       "    }\n",
       "</style>\n",
       "<table border=\"1\" class=\"dataframe\">\n",
       "  <thead>\n",
       "    <tr style=\"text-align: right;\">\n",
       "      <th></th>\n",
       "      <th>release_date</th>\n",
       "      <th>movie</th>\n",
       "      <th>production_budget</th>\n",
       "      <th>domestic_gross</th>\n",
       "      <th>worldwide_gross</th>\n",
       "      <th>popularity</th>\n",
       "      <th>vote_average</th>\n",
       "      <th>genre_names</th>\n",
       "      <th>month</th>\n",
       "      <th>season</th>\n",
       "    </tr>\n",
       "  </thead>\n",
       "  <tbody>\n",
       "    <tr>\n",
       "      <th>0</th>\n",
       "      <td>2009-12-18</td>\n",
       "      <td>Avatar</td>\n",
       "      <td>425,000,000.00</td>\n",
       "      <td>760,507,625.00</td>\n",
       "      <td>2,776,345,279.00</td>\n",
       "      <td>26.53</td>\n",
       "      <td>7.40</td>\n",
       "      <td>[Action, Adventure, Fantasy, Science Fiction]</td>\n",
       "      <td>12</td>\n",
       "      <td>Winter</td>\n",
       "    </tr>\n",
       "    <tr>\n",
       "      <th>1</th>\n",
       "      <td>2011-05-20</td>\n",
       "      <td>Pirates of the Caribbean: On Stranger Tides</td>\n",
       "      <td>410,600,000.00</td>\n",
       "      <td>241,063,875.00</td>\n",
       "      <td>1,045,663,875.00</td>\n",
       "      <td>30.58</td>\n",
       "      <td>6.40</td>\n",
       "      <td>[Adventure, Action, Fantasy]</td>\n",
       "      <td>5</td>\n",
       "      <td>Spring</td>\n",
       "    </tr>\n",
       "    <tr>\n",
       "      <th>2</th>\n",
       "      <td>2015-05-01</td>\n",
       "      <td>Avengers: Age of Ultron</td>\n",
       "      <td>330,600,000.00</td>\n",
       "      <td>459,005,868.00</td>\n",
       "      <td>1,403,013,963.00</td>\n",
       "      <td>44.38</td>\n",
       "      <td>7.30</td>\n",
       "      <td>[Action, Adventure, Science Fiction]</td>\n",
       "      <td>5</td>\n",
       "      <td>Spring</td>\n",
       "    </tr>\n",
       "    <tr>\n",
       "      <th>3</th>\n",
       "      <td>2018-04-27</td>\n",
       "      <td>Avengers: Infinity War</td>\n",
       "      <td>300,000,000.00</td>\n",
       "      <td>678,815,482.00</td>\n",
       "      <td>2,048,134,200.00</td>\n",
       "      <td>80.77</td>\n",
       "      <td>8.30</td>\n",
       "      <td>[Adventure, Action, Fantasy]</td>\n",
       "      <td>4</td>\n",
       "      <td>Spring</td>\n",
       "    </tr>\n",
       "    <tr>\n",
       "      <th>4</th>\n",
       "      <td>2017-11-17</td>\n",
       "      <td>Justice League</td>\n",
       "      <td>300,000,000.00</td>\n",
       "      <td>229,024,295.00</td>\n",
       "      <td>655,945,209.00</td>\n",
       "      <td>34.95</td>\n",
       "      <td>6.20</td>\n",
       "      <td>[Action, Adventure, Fantasy, Science Fiction]</td>\n",
       "      <td>11</td>\n",
       "      <td>Fall</td>\n",
       "    </tr>\n",
       "  </tbody>\n",
       "</table>\n",
       "</div>"
      ],
      "text/plain": [
       "  release_date                                        movie  \\\n",
       "0   2009-12-18                                       Avatar   \n",
       "1   2011-05-20  Pirates of the Caribbean: On Stranger Tides   \n",
       "2   2015-05-01                      Avengers: Age of Ultron   \n",
       "3   2018-04-27                       Avengers: Infinity War   \n",
       "4   2017-11-17                               Justice League   \n",
       "\n",
       "   production_budget  domestic_gross  worldwide_gross  popularity  \\\n",
       "0     425,000,000.00  760,507,625.00 2,776,345,279.00       26.53   \n",
       "1     410,600,000.00  241,063,875.00 1,045,663,875.00       30.58   \n",
       "2     330,600,000.00  459,005,868.00 1,403,013,963.00       44.38   \n",
       "3     300,000,000.00  678,815,482.00 2,048,134,200.00       80.77   \n",
       "4     300,000,000.00  229,024,295.00   655,945,209.00       34.95   \n",
       "\n",
       "   vote_average                                    genre_names  month  season  \n",
       "0          7.40  [Action, Adventure, Fantasy, Science Fiction]     12  Winter  \n",
       "1          6.40                   [Adventure, Action, Fantasy]      5  Spring  \n",
       "2          7.30           [Action, Adventure, Science Fiction]      5  Spring  \n",
       "3          8.30                   [Adventure, Action, Fantasy]      4  Spring  \n",
       "4          6.20  [Action, Adventure, Fantasy, Science Fiction]     11    Fall  "
      ]
     },
     "execution_count": 40,
     "metadata": {},
     "output_type": "execute_result"
    }
   ],
   "source": [
    "# Remove non-numeric characters and convert to float data types of the columns: \n",
    "# \"production_budget\", \"domestic_gross\" and \"worlwide_gross\"\n",
    "selected_merged_movies_info['production_budget'] = selected_merged_movies_info['production_budget'].replace('[\\$,]', '', regex=True).astype(float)\n",
    "selected_merged_movies_info['domestic_gross'] = selected_merged_movies_info['domestic_gross'].replace('[\\$,]', '', regex=True).astype(float)\n",
    "selected_merged_movies_info['worldwide_gross'] = selected_merged_movies_info['worldwide_gross'].replace('[\\$,]', '', regex=True).astype(float)\n",
    "\n",
    "# Display the updated DataFrame\n",
    "selected_merged_movies_info.head()"
   ]
  },
  {
   "cell_type": "markdown",
   "id": "df16ccfb",
   "metadata": {},
   "source": [
    "The above transformations make sure the financial data in these columns is converted into a consistent numeric format, which is essential for further analysis like comparing budgets to revenues or figuring out profitability. Without this step, non-numeric characters in the data could cause errors when performing calculations or other numerical operations."
   ]
  },
  {
   "cell_type": "code",
   "execution_count": 41,
   "id": "ca230170",
   "metadata": {},
   "outputs": [
    {
     "name": "stdout",
     "output_type": "stream",
     "text": [
      "        domestic_gross  worldwide_gross\n",
      "season                                 \n",
      "Summer   60,435,024.70   144,181,656.16\n",
      "Spring   50,374,491.19   127,453,716.95\n",
      "Fall     44,049,591.98   109,071,823.54\n",
      "Winter   44,898,693.44   103,218,135.77\n"
     ]
    }
   ],
   "source": [
    "# Analyze gross revenue by season\n",
    "# Group by season and calculate average domestic and worldwide gross\n",
    "# Grouped worldwide_gross in descending order\n",
    "seasonal_trends = selected_merged_movies_info.groupby('season')[['domestic_gross', 'worldwide_gross']].mean().sort_values(by=\"worldwide_gross\", ascending=False)\n",
    "\n",
    "# Print the formatted DataFrame\n",
    "print(seasonal_trends)"
   ]
  },
  {
   "cell_type": "markdown",
   "id": "0be5b5b2",
   "metadata": {},
   "source": [
    "### i. Analyze Box Office Performance by Release Month and Season"
   ]
  },
  {
   "cell_type": "code",
   "execution_count": 42,
   "id": "00eb20b6",
   "metadata": {},
   "outputs": [
    {
     "data": {
      "image/png": "[encoded data removed]",
      "text/plain": [
       "<Figure size 720x432 with 1 Axes>"
      ]
     },
     "metadata": {},
     "output_type": "display_data"
    }
   ],
   "source": [
    "# Group by season and calculate average domestic and worldwide gross\n",
    "seasonal_trends = selected_merged_movies_info.groupby('season')[['domestic_gross', 'worldwide_gross']].mean().reset_index()\n",
    "\n",
    "# Plot average gross revenue by season\n",
    "plt.figure(figsize=(10, 6))\n",
    "sns.barplot(x='season', y='domestic_gross', data=seasonal_trends, label='Domestic Gross', color='blue', alpha=0.2)\n",
    "sns.barplot(x='season', y='worldwide_gross', data=seasonal_trends, label='Worldwide Gross', color='red', alpha=0.2)\n",
    "plt.title('Average Gross Revenue by Season', fontsize=16)\n",
    "plt.ylabel('Average Gross Revenue (in dollars (billions))', fontsize=12)\n",
    "plt.xlabel('Season', fontsize=12)\n",
    "plt.legend(title='Gross Type')\n",
    "plt.show()"
   ]
  },
  {
   "cell_type": "markdown",
   "id": "06fe8195",
   "metadata": {},
   "source": [
    "The bar plot of average gross revenue by season shows that Summer has the highest average worldwide and domestic gross, followed by Spring.\n",
    "\n",
    "Winter and Fall have comparatively lower average gross revenues."
   ]
  },
  {
   "cell_type": "code",
   "execution_count": 43,
   "id": "e58b934e",
   "metadata": {},
   "outputs": [
    {
     "data": {
      "image/png": "[encoded data removed]",
      "text/plain": [
       "<Figure size 864x432 with 1 Axes>"
      ]
     },
     "metadata": {},
     "output_type": "display_data"
    }
   ],
   "source": [
    "# Group by month and calculate average worldwide gross\n",
    "monthly_trends = selected_merged_movies_info.groupby(selected_merged_movies_info['release_date'].dt.month)[['worldwide_gross']].mean().reset_index()\n",
    "monthly_trends.rename(columns={'release_date': 'month'}, inplace=True)\n",
    "\n",
    "# Plot average worldwide gross by month\n",
    "plt.figure(figsize=(12, 6))\n",
    "sns.lineplot(x='month', y='worldwide_gross', data=monthly_trends, marker='o', color='brown')\n",
    "plt.title('Average Worldwide Gross by Month', fontsize=16)\n",
    "plt.ylabel('Average Worldwide Gross (in dollars(billions))', fontsize=12)\n",
    "plt.xlabel('Month', fontsize=12)\n",
    "plt.xticks(range(1, 13), ['Jan', 'Feb', 'Mar', 'Apr', 'May', 'Jun', 'Jul', 'Aug', 'Sep', 'Oct', 'Nov', 'Dec'])\n",
    "plt.show(); "
   ]
  },
  {
   "cell_type": "markdown",
   "id": "34639a22",
   "metadata": {},
   "source": [
    "The line plot of average worldwide gross by month highlights a peak in May, June, July, and December, corresponding to summer blockbusters and holiday releases."
   ]
  },
  {
   "cell_type": "markdown",
   "id": "a264ef5e",
   "metadata": {},
   "source": [
    "### Hypothesis Testing\n",
    "\n",
    "Null hypothesis (H₀): \"The average worldwide gross of movies does not differ significantly between Summer and Winter\"\n",
    "\n",
    "Alternative hypothesis (H₁): \"The average worldwide gross of movies differs significantly between Summer and Winter.\""
   ]
  },
  {
   "cell_type": "markdown",
   "id": "f1690101",
   "metadata": {},
   "source": [
    "Since we want to evaluate whether the difference in means between two groups is statistically significant and assuming the groups are independent and normally distributed, the **two-sample independent t-test** was appropriate. This statistical test determines whether the means of two independent groups are significantly different from each other."
   ]
  },
  {
   "cell_type": "code",
   "execution_count": 44,
   "id": "a2770613",
   "metadata": {},
   "outputs": [
    {
     "name": "stdout",
     "output_type": "stream",
     "text": [
      "T-statistic: 3.097935906062286, P-value: 0.001998854761941551\n",
      "There is a significant difference in worldwide gross between Summer and Winter.\n"
     ]
    }
   ],
   "source": [
    "# Importing ttest_ind function from scipy.stats\n",
    "from scipy.stats import ttest_ind\n",
    "\n",
    "# Filter the dataset for summer and winter movies\n",
    "summer_gross = selected_merged_movies_info[selected_merged_movies_info['season'] == 'Summer']['worldwide_gross']\n",
    "winter_gross = selected_merged_movies_info[selected_merged_movies_info['season'] == 'Winter']['worldwide_gross']\n",
    "\n",
    "# Perform the t-test\n",
    "t_stat, p_value = ttest_ind(summer_gross, winter_gross, equal_var=False)\n",
    "print(f\"T-statistic: {t_stat}, P-value: {p_value}\")\n",
    "\n",
    "if p_value < 0.05:\n",
    "    print(\"There is a significant difference in worldwide gross between Summer and Winter.\")\n",
    "else:\n",
    "    print(\"There is no significant difference in worldwide gross between Summer and Winter.\")"
   ]
  },
  {
   "cell_type": "markdown",
   "id": "bbf9b9a4",
   "metadata": {},
   "source": [
    "#### Conclusions\n",
    "- Summer and Spring are the most lucrative seasons for movie releases, likely due to school vacations, holidays and blockbuster marketing strategies.\n",
    "- Winter and Fall are less profitable, possibly due to fewer holidays and competing priorities for audiences."
   ]
  },
  {
   "cell_type": "markdown",
   "id": "7ecc64da",
   "metadata": {},
   "source": [
    "#### Recommendations\n",
    "\n",
    "- Focus on releasing high-budget, action-packed or family-friendly movies during Summer and Spring to maximize box office revenue.\n",
    "\n",
    "- Use Winter and Fall for niche or experimental films with lower budgets to minimize risks."
   ]
  },
  {
   "cell_type": "markdown",
   "id": "fb5c3911",
   "metadata": {},
   "source": [
    "### ii. Examine Regional Audience Preferences"
   ]
  },
  {
   "cell_type": "code",
   "execution_count": 45,
   "id": "9149b044",
   "metadata": {},
   "outputs": [
    {
     "data": {
      "image/png": "[encoded data removed]",
      "text/plain": [
       "<Figure size 864x432 with 1 Axes>"
      ]
     },
     "metadata": {},
     "output_type": "display_data"
    }
   ],
   "source": [
    "# Explode the genre_names column to separate each genre into its own row\n",
    "exploded_movies_info = selected_merged_movies_info.explode('genre_names')\n",
    "\n",
    "# Group by genre and calculate average domestic and worldwide gross\n",
    "regional_trends = exploded_movies_info.groupby('genre_names')[['domestic_gross', 'worldwide_gross']].mean().reset_index()\n",
    "\n",
    "# Plot domestic vs worldwide gross by genre\n",
    "plt.figure(figsize=(12, 6))\n",
    "sns.barplot(x='genre_names', y='domestic_gross', data=regional_trends, label='Domestic Gross', color='blue', alpha=0.7)\n",
    "sns.barplot(x='genre_names', y='worldwide_gross', data=regional_trends, label='Worldwide Gross', color='orange', alpha=0.7)\n",
    "plt.title('Domestic vs Worldwide Gross by Genre', fontsize=16)\n",
    "plt.ylabel('Average Gross Revenue (in dollars(billions))', fontsize=12)\n",
    "plt.xlabel('Genre', fontsize=12)\n",
    "plt.legend(title='Gross Type')\n",
    "plt.xticks(rotation=90)\n",
    "plt.show(); "
   ]
  },
  {
   "cell_type": "markdown",
   "id": "0be87ad2",
   "metadata": {},
   "source": [
    "### Observations\n",
    "\n",
    "- The bar plot comparing domestic and worldwide gross by genre shows that genres like Action, Adventure, and Family perform significantly better worldwide than domestically.\n",
    "\n",
    "- Genres like Drama and Comedy have a more balanced performance between domestic and worldwide markets.\n",
    "\n",
    "- Documentary and Horror genres have relatively low gross revenues in both domestic and worldwide markets."
   ]
  },
  {
   "cell_type": "markdown",
   "id": "2d46b580",
   "metadata": {},
   "source": [
    "### Conclusions\n",
    "\n",
    "- Action, Adventure, and Family genres have strong global appeal, making them ideal for international markets.\n",
    "\n",
    "- Drama and Comedy genres cater well to domestic audiences but may require tailored marketing strategies for international success.\n",
    "\n",
    "- Documentary and Horror genres have limited appeal and may not generate significant revenue."
   ]
  },
  {
   "cell_type": "markdown",
   "id": "7aa5fff5",
   "metadata": {},
   "source": [
    "### Recommendations\n",
    "\n",
    "- Prioritize Action, Adventure, and Family genres for international releases to capitalize on their global popularity.\n",
    "\n",
    "- Invest in localized marketing for Drama and Comedy genres to enhance their performance in international markets.\n",
    "\n",
    "- Limit investments in Documentary and Horror genres unless targeting niche audiences or festivals."
   ]
  },
  {
   "cell_type": "markdown",
   "id": "c49a65a8",
   "metadata": {},
   "source": [
    "### iii. Identify underperforming trends to avoid"
   ]
  },
  {
   "cell_type": "code",
   "execution_count": 46,
   "id": "f76b58ca",
   "metadata": {},
   "outputs": [
    {
     "data": {
      "image/png": "[encoded data removed]",
      "text/plain": [
       "<Figure size 720x432 with 1 Axes>"
      ]
     },
     "metadata": {},
     "output_type": "display_data"
    }
   ],
   "source": [
    "# Identify genres with the lowest average worldwide gross\n",
    "underperforming_genres = regional_trends.sort_values(by='worldwide_gross', ascending=True).head(5)\n",
    "\n",
    "# Plot underperforming genres\n",
    "plt.figure(figsize=(10, 6))\n",
    "sns.barplot(x='genre_names', y='worldwide_gross', data=underperforming_genres)\n",
    "plt.title('Underperforming Genres (Lowest Worldwide Gross)', fontsize=16)\n",
    "plt.ylabel('Average Worldwide Gross (in dollars)', fontsize=12)\n",
    "plt.xlabel('Genre', fontsize=12)\n",
    "plt.xticks(rotation=90)\n",
    "plt.show();  "
   ]
  },
  {
   "cell_type": "markdown",
   "id": "136675cf",
   "metadata": {},
   "source": [
    "The bar plot of underperforming genres shows that Documentary, TV Movies and History genres have the lowest average worldwide gross."
   ]
  },
  {
   "cell_type": "markdown",
   "id": "38afe971",
   "metadata": {},
   "source": [
    "### Conclusions\n",
    "- Documentary, TV Movies and History genres are high-risk investments with limited revenue potential."
   ]
  },
  {
   "cell_type": "markdown",
   "id": "bed32f96",
   "metadata": {},
   "source": [
    "### Recommendations\n",
    "\n",
    "- Avoid producing high-budget films in Documentary, TV Movies and History genres unless targeting specific niche markets or festivals."
   ]
  },
  {
   "cell_type": "code",
   "execution_count": 47,
   "id": "8a230099",
   "metadata": {},
   "outputs": [
    {
     "data": {
      "image/png": "[encoded data removed]",
      "text/plain": [
       "<Figure size 576x360 with 1 Axes>"
      ]
     },
     "metadata": {},
     "output_type": "display_data"
    }
   ],
   "source": [
    "# Identify seasons with the lowest average worldwide gross\n",
    "underperforming_seasons = seasonal_trends.sort_values(by='worldwide_gross', ascending=True)\n",
    "\n",
    "# Plot underperforming seasons\n",
    "plt.figure(figsize=(8, 5))\n",
    "sns.barplot(x='season', y='worldwide_gross', data=underperforming_seasons)\n",
    "plt.title('Underperforming Seasons (Lowest Worldwide Gross)', fontsize=16)\n",
    "plt.ylabel('Average Worldwide Gross (in dollars)', fontsize=12)\n",
    "plt.xlabel('Season', fontsize=12)\n",
    "plt.show(); "
   ]
  },
  {
   "cell_type": "markdown",
   "id": "6d2b3f3f",
   "metadata": {},
   "source": [
    "The bar plot of underperforming seasons indicates that Winter has the lowest average worldwide gross, followed by Fall."
   ]
  },
  {
   "cell_type": "markdown",
   "id": "828ae7ac",
   "metadata": {},
   "source": [
    "### Conclusions \n",
    "\n",
    "- Winter and Fall are less favorable seasons for movie releases, likely due to fewer holidays and competing entertainment options."
   ]
  },
  {
   "cell_type": "markdown",
   "id": "85ed3a7a",
   "metadata": {},
   "source": [
    "### Recommendations\n",
    "\n",
    "- Schedule major releases during Summer and Spring, while using Fall and Winter for smaller-scale or experimental projects.\n",
    "\n",
    "- Consider alternative distribution channels (e.g., streaming platforms) for underperforming genres to reduce financial risks."
   ]
  },
  {
   "cell_type": "markdown",
   "id": "30cfbe63",
   "metadata": {},
   "source": [
    "## Objective 2: Identify top-performing genres and themes\n",
    "\n",
    "i. Analyze Average Revenue by Genre:\n",
    "   - Determine which genres have the highest average worldwide gross revenue over a given period. This helps identify consistently top-performing genres at the box office.\n",
    "\n",
    "ii. Evaluate Genre-Specific Growth Trends:\n",
    "   - Investigate how the popularity of different genres has changed over time (e.g., year-to-year gross revenue trends). This insight can highlight emerging or declining genre trends.\n",
    "\n",
    "iii. Assess the Relationship Between Genre and Production Budget:\n",
    "   - Explore whether higher budgets are associated with better performance for certain genres. This can inform investment strategies when deciding on genre-specific productions."
   ]
  },
  {
   "cell_type": "markdown",
   "id": "67051829",
   "metadata": {},
   "source": [
    "### i. Analyze average revenue by genre"
   ]
  },
  {
   "cell_type": "code",
   "execution_count": 48,
   "id": "e760d432",
   "metadata": {},
   "outputs": [
    {
     "data": {
      "image/png": "[encoded data removed]",
      "text/plain": [
       "<Figure size 864x432 with 1 Axes>"
      ]
     },
     "metadata": {},
     "output_type": "display_data"
    }
   ],
   "source": [
    "# Group by genre and calculate average worldwide gross\n",
    "average_revenue_by_genre = selected_merged_movies_info.explode('genre_names').groupby('genre_names')[['worldwide_gross']].mean().reset_index()\n",
    "\n",
    "# Sort genres by average worldwide gross\n",
    "average_revenue_by_genre = average_revenue_by_genre.sort_values(by='worldwide_gross', ascending=False)\n",
    "\n",
    "# Plot average worldwide gross by genre\n",
    "plt.figure(figsize=(12, 6))\n",
    "sns.barplot(x='genre_names', y='worldwide_gross', data=average_revenue_by_genre)\n",
    "plt.title('Average Worldwide Gross by Genre', fontsize=16)\n",
    "plt.ylabel('Average Worldwide Gross (in dollars)', fontsize=12)\n",
    "plt.xlabel('Genre', fontsize=12)\n",
    "plt.xticks(rotation=90)\n",
    "plt.show(); "
   ]
  },
  {
   "cell_type": "markdown",
   "id": "36269b58",
   "metadata": {},
   "source": [
    "The bar plot shows that genres like Adventure, Animation and Family have the highest average worldwide gross revenue.\n",
    "Genres such as Documentary, TV Movie and History have the lowest average worldwide gross revenue."
   ]
  },
  {
   "cell_type": "markdown",
   "id": "ea14db18",
   "metadata": {},
   "source": [
    "To help identify movies that are more popular domestically versus those that perform better internationally ```domestic_vs_worlwide_ratio``` column calculates ratio of domestic gross and worldwide gross for each movie. The ratio provides insight into how much of a movie's total revenue comes from domestic compared to international markets. "
   ]
  },
  {
   "cell_type": "code",
   "execution_count": 49,
   "id": "6b4357f6",
   "metadata": {},
   "outputs": [],
   "source": [
    "# Filtering the dataframe to remove rows where domestic_gross or worldwide_gross columns\n",
    "# contains missing values or where the worldwide_gross column has a value of 0\n",
    "\n",
    "selected_merged_movies_info = selected_merged_movies_info[\n",
    "    (selected_merged_movies_info['domestic_gross'].notna()) &\n",
    "    (selected_merged_movies_info['worldwide_gross'].notna()) &\n",
    "    (selected_merged_movies_info['worldwide_gross'] != 0)\n",
    "]"
   ]
  },
  {
   "cell_type": "code",
   "execution_count": 50,
   "id": "f5b58b63",
   "metadata": {},
   "outputs": [
    {
     "data": {
      "text/plain": [
       "0   0.27\n",
       "1   0.23\n",
       "2   0.33\n",
       "3   0.33\n",
       "4   0.35\n",
       "5   0.35\n",
       "6   0.23\n",
       "7   0.23\n",
       "8   0.41\n",
       "9   0.54\n",
       "Name: domestic_vs_worldwide_ratio, dtype: float64"
      ]
     },
     "execution_count": 50,
     "metadata": {},
     "output_type": "execute_result"
    }
   ],
   "source": [
    "# Compare domestic vs worldwide gross\n",
    "selected_merged_movies_info['domestic_vs_worldwide_ratio'] = (\n",
    "    selected_merged_movies_info['domestic_gross'] / selected_merged_movies_info['worldwide_gross']\n",
    ")\n",
    "\n",
    "selected_merged_movies_info['domestic_vs_worldwide_ratio'].head(10)"
   ]
  },
  {
   "cell_type": "markdown",
   "id": "1e7f458f",
   "metadata": {},
   "source": [
    "The ratios above provide insight into how much of a movie's total revenue comes from domestic markets compared to international markets.\n",
    "\n",
    "A ratio close to 1 indicates that most of the movie's revenue comes from domestic markets. A ratio significantly less than 1 suggests that the movie earned a larger share of its revenue from international markets.\n",
    "\n",
    "The operation below analyzes movie data ny genre to identify total grossing either domestically and worldwide. The output is then filtered to sort the highest worldwide gross in descending order. "
   ]
  },
  {
   "cell_type": "code",
   "execution_count": 51,
   "id": "2e07c760",
   "metadata": {},
   "outputs": [
    {
     "name": "stdout",
     "output_type": "stream",
     "text": [
      "                 domestic_gross  worldwide_gross\n",
      "genre_names                                     \n",
      "Adventure        124,452,360.27   351,665,662.79\n",
      "Animation        132,814,720.89   348,595,955.09\n",
      "Fantasy          115,694,569.24   314,444,733.06\n",
      "Family           118,954,710.69   305,894,094.70\n",
      "Science Fiction   98,720,393.40   265,574,350.77\n",
      "Action            92,551,375.01   249,760,079.06\n",
      "Comedy            59,085,239.80   133,142,125.68\n",
      "Western           49,141,788.16   118,317,686.00\n",
      "War               52,235,798.54   108,387,543.81\n",
      "Romance           46,530,018.79   101,126,225.60\n",
      "Thriller          41,032,691.88   100,756,331.69\n",
      "Crime             42,170,517.03    98,941,780.56\n",
      "Mystery           38,703,376.14    90,607,648.34\n",
      "Music             45,308,941.46    85,847,819.72\n",
      "TV Movie          44,276,185.86    81,117,318.86\n",
      "Drama             34,692,881.58    77,104,851.35\n",
      "Horror            33,214,581.94    73,735,691.78\n",
      "History           29,765,747.89    62,394,444.57\n",
      "Documentary       24,106,833.86    54,985,401.46\n"
     ]
    }
   ],
   "source": [
    "# Explode the genre_names column to separate each genre into its own row\n",
    "exploded_movies_info = selected_merged_movies_info.explode('genre_names')\n",
    "\n",
    "# Analyze by highest worldwide grossing genres\n",
    "regional_trends = exploded_movies_info.groupby('genre_names')[['domestic_gross', 'worldwide_gross']].mean().sort_values(by=\"worldwide_gross\", ascending=False)\n",
    "print(regional_trends)"
   ]
  },
  {
   "cell_type": "markdown",
   "id": "c54a6a21",
   "metadata": {},
   "source": [
    "As you can see in the output above, Adventure, Animation and Fantasy genres had the highest worldwide grossing. \n",
    "\n",
    "Documentary, History and Horror genres had the least worldwide grossing in comparison. "
   ]
  },
  {
   "cell_type": "markdown",
   "id": "5eee4f8b",
   "metadata": {},
   "source": [
    "### Conclusions\n",
    "\n",
    "- Adventure, Animation and Fantasy genres are consistently top-performing at the box office.\n",
    "\n",
    "- Documentary, TV Movie and History genres generate significantly lower revenue, indicating limited audience appeal."
   ]
  },
  {
   "cell_type": "markdown",
   "id": "8dfe1122",
   "metadata": {},
   "source": [
    "### Recommendations\n",
    "\n",
    "- Focus on producing Adventure, Animation and Fantasy movies to maximize box office revenue.\n",
    "\n",
    "- Avoid high-budget investments in Documentary, TV Movie and History genres unless targeting niche audiences or festivals."
   ]
  },
  {
   "cell_type": "markdown",
   "id": "e79f78ef",
   "metadata": {},
   "source": [
    "### ii. Evaluate genre-specific growth trends"
   ]
  },
  {
   "cell_type": "markdown",
   "id": "85e09df9",
   "metadata": {},
   "source": [
    "The following analyzes the growth trends of movie genres over time, focusing on their worldwide gross revenue. It extracts, filters and visualizes data to identify how specific genres have performed from 1980 onward."
   ]
  },
  {
   "cell_type": "code",
   "execution_count": 52,
   "id": "714c0dcf",
   "metadata": {},
   "outputs": [
    {
     "data": {
      "image/png": "[encoded data removed]",
      "text/plain": [
       "<Figure size 1008x576 with 1 Axes>"
      ]
     },
     "metadata": {},
     "output_type": "display_data"
    }
   ],
   "source": [
    "# Extract year from release_date\n",
    "selected_merged_movies_info['release_year'] = selected_merged_movies_info['release_date'].dt.year\n",
    "\n",
    "# Filter data to include only years starting from 1980\n",
    "genre_growth_trends = selected_merged_movies_info.explode('genre_names')\n",
    "genre_growth_trends = genre_growth_trends[genre_growth_trends['release_year'] >= 1980]\n",
    "\n",
    "# Group by genre and year, calculate total worldwide gross\n",
    "# reset_index() function ensures the columns used as index while grouping are converted back into regular columns\n",
    "genre_growth_trends = genre_growth_trends.groupby(['release_year', 'genre_names'])[['worldwide_gross']].sum().reset_index()\n",
    "\n",
    "# Filter for top genres (e.g., Action, Adventure, Drama, Comedy, Family)\n",
    "top_genres = ['Action', 'Adventure', 'Animation', 'Drama', 'Comedy', 'Fantasy']\n",
    "filtered_genre_growth = genre_growth_trends[genre_growth_trends['genre_names'].isin(top_genres)]\n",
    "\n",
    "# Plot genre-specific growth trends\n",
    "plt.figure(figsize=(14, 8))\n",
    "sns.lineplot(x='release_year', y='worldwide_gross', hue='genre_names', data=filtered_genre_growth, marker='o')\n",
    "plt.title('Genre-Specific Growth Trends (Worldwide Gross)', fontsize=16)\n",
    "plt.ylabel('Worldwide Gross (in dollars)', fontsize=12)\n",
    "plt.xlabel('Year', fontsize=12)\n",
    "plt.legend(title='Genre')\n",
    "plt.show()"
   ]
  },
  {
   "cell_type": "markdown",
   "id": "7542be53",
   "metadata": {},
   "source": [
    "The line plot shows that genres like Action and Adventure have experienced consistent growth in worldwide gross over the years.\n",
    "\n",
    "Drama and Comedy genres show fluctuations in revenue, indicating varying audience interest over time.\n",
    "\n",
    "Fantasy and Family movies show steady performance, with occasional peaks during specific years."
   ]
  },
  {
   "cell_type": "markdown",
   "id": "8cd7c50d",
   "metadata": {},
   "source": [
    "### Conclusions \n",
    "\n",
    "- Action and Adventure genres are growing in popularity and remain reliable investments.\n",
    "\n",
    "- Drama and Comedy genres require careful timing and marketing to capitalize on audience interest.\n",
    "\n",
    "- Fantasy and Family movies maintain steady appeal, making them a safe choice for consistent revenue."
   ]
  },
  {
   "cell_type": "markdown",
   "id": "bd39da4a",
   "metadata": {},
   "source": [
    "### Recommendations\n",
    "\n",
    "- Invest in Action and Adventure movies to capitalize on their growing popularity.\n",
    "- Use targeted marketing strategies for Drama and Comedy movies to align with audience preferences.\n",
    "\n",
    "- Continue producing Family movies, especially during holiday seasons, to ensure steady returns."
   ]
  },
  {
   "cell_type": "markdown",
   "id": "5300ee97",
   "metadata": {},
   "source": [
    "### iii. Assessing relationship between genre and production budget"
   ]
  },
  {
   "cell_type": "code",
   "execution_count": 53,
   "id": "497c3922",
   "metadata": {},
   "outputs": [
    {
     "data": {
      "image/png": "[encoded data removed]",
      "text/plain": [
       "<Figure size 864x432 with 1 Axes>"
      ]
     },
     "metadata": {},
     "output_type": "display_data"
    }
   ],
   "source": [
    "# Group by genre and calculate average production budget and worldwide gross\n",
    "budget_vs_revenue = selected_merged_movies_info.explode('genre_names').groupby('genre_names')[['production_budget', 'worldwide_gross']].mean().reset_index()\n",
    "\n",
    "# Plot production budget vs worldwide gross by genre\n",
    "plt.figure(figsize=(12, 6))\n",
    "sns.scatterplot(x='production_budget', y='worldwide_gross', hue='genre_names', data=budget_vs_revenue, palette='tab10', s=100)\n",
    "plt.title('Production Budget vs Worldwide Gross by Genre', fontsize=16)\n",
    "plt.ylabel('Worldwide Gross (in dollars)', fontsize=12)\n",
    "plt.xlabel('Production Budget (in dollars)', fontsize=12)\n",
    "plt.legend(title='Genre', bbox_to_anchor=(1.05, 1), loc='upper left')\n",
    "plt.show()"
   ]
  },
  {
   "cell_type": "markdown",
   "id": "84ab2170",
   "metadata": {},
   "source": [
    "The scatter plot shows that genres like Adventure, Fantasy and Animation tend to have higher production budgets and correspondingly higher worldwide gross revenue.\n",
    "\n",
    "Genres like Documentary and Horror have lower production budgets but also generate lower revenue."
   ]
  },
  {
   "cell_type": "markdown",
   "id": "a8e9edde",
   "metadata": {},
   "source": [
    "### Conclusions\n",
    "\n",
    "- Higher production budgets are associated with higher revenue for genres like Adventure, Fantasy and Animation indicating a strong return on investment.\n",
    "\n",
    "- Low-budget genres like Documentary and Horror may not yield significant revenue, even with minimal investment."
   ]
  },
  {
   "cell_type": "markdown",
   "id": "9cb4fdd2",
   "metadata": {},
   "source": [
    "### Recommendations\n",
    "\n",
    "- Allocate higher budgets to Action and Adventure movies to maximize returns.\n",
    "\n",
    "- Limit investments in low-budget genres like Documentary and Horror unless targeting specific niche markets.\n",
    "\n",
    "- Use data-driven budgeting strategies to optimize spending across genres based on expected revenue potential."
   ]
  },
  {
   "cell_type": "markdown",
   "id": "50c47c85",
   "metadata": {},
   "source": [
    "## Objective 3: Understanding audience demographics and preferences\n",
    "\n",
    "i. Analyze Genre Preferences Across Audience Demographics:\n",
    "   - Examine how different genres appeal to various demographic groups (e.g., age, gender). Identify the most popular genres for key audience segments to guide targeted content creation.\n",
    "\n",
    "ii. Identify Correlation Between Movie Themes and Audience Engagement:\n",
    "   - Assess which themes, storylines, or narratives (e.g., family-oriented, action-packed, emotional dramas) drive higher engagement (e.g., higher box office gross, repeat viewings, or ratings).\n",
    "\n",
    "iii. Explore Regional Variations in Audience Preferences:\n",
    "   - Investigate how preferences for genres and themes vary across regions. This will provide insights into tailoring content for specific geographic markets.\n",
    "\n",
    "iv. Examine the Relationship Between Movie Ratings and Audience Reception:\n",
    "   - Analyze how critic and audience ratings impact box office success, helping identify the types of movies audiences consistently appreciate and reward."
   ]
  },
  {
   "cell_type": "markdown",
   "id": "8282b5f1",
   "metadata": {},
   "source": [
    "### i. Analyze genre preferences across audience demographics"
   ]
  },
  {
   "cell_type": "code",
   "execution_count": 54,
   "id": "3f936ad7",
   "metadata": {},
   "outputs": [
    {
     "data": {
      "image/png": "[encoded data removed]",
      "text/plain": [
       "<Figure size 864x432 with 1 Axes>"
      ]
     },
     "metadata": {},
     "output_type": "display_data"
    }
   ],
   "source": [
    "# Explode genre_names to separate each genre into its own row\n",
    "exploded_movies_info = selected_merged_movies_info.explode('genre_names')\n",
    "\n",
    "# Group by genre and calculate average ratings and votes\n",
    "genre_demographics = exploded_movies_info.groupby('genre_names')[['vote_average', 'popularity']].mean().reset_index()\n",
    "\n",
    "# Plot average ratings by genre\n",
    "plt.figure(figsize=(12, 6))\n",
    "sns.barplot(x='genre_names', y='vote_average', data=genre_demographics)\n",
    "plt.title('Average Ratings by Genre', fontsize=16)\n",
    "plt.ylabel('Average Rating', fontsize=12)\n",
    "plt.xlabel('Genre', fontsize=12)\n",
    "plt.xticks(rotation=90)\n",
    "plt.show()"
   ]
  },
  {
   "cell_type": "markdown",
   "id": "5731115c",
   "metadata": {},
   "source": [
    "The bar plot of average ratings by genre shows that genres like Documentary and History receive higher average ratings."
   ]
  },
  {
   "cell_type": "markdown",
   "id": "af809c8a",
   "metadata": {},
   "source": [
    "### Conclusion\n",
    "\n",
    "- History and Documentary genres are critically well-received but may not always translate to high popularity."
   ]
  },
  {
   "cell_type": "markdown",
   "id": "1e483571",
   "metadata": {},
   "source": [
    "### Recommendations\n",
    "\n",
    "- Focus on producing Action, Adventure, and Family movies to cater to audience preferences."
   ]
  },
  {
   "cell_type": "code",
   "execution_count": 55,
   "id": "5ac731ff",
   "metadata": {},
   "outputs": [
    {
     "data": {
      "image/png": "[encoded data removed]",
      "text/plain": [
       "<Figure size 864x432 with 1 Axes>"
      ]
     },
     "metadata": {},
     "output_type": "display_data"
    }
   ],
   "source": [
    "# Plot popularity by genre\n",
    "plt.figure(figsize=(12, 6))\n",
    "sns.barplot(x='genre_names', y='popularity', data=genre_demographics)\n",
    "plt.title('Popularity by Genre', fontsize=16)\n",
    "plt.ylabel('Popularity', fontsize=12)\n",
    "plt.xlabel('Genre', fontsize=12)\n",
    "plt.xticks(rotation=90)\n",
    "plt.show()"
   ]
  },
  {
   "cell_type": "markdown",
   "id": "46933b3c",
   "metadata": {},
   "source": [
    "The popularity plot indicates that Adventure, Fantasy and Science Fiction genres are the most popular among audiences."
   ]
  },
  {
   "cell_type": "markdown",
   "id": "eb85c83b",
   "metadata": {},
   "source": [
    "### Conclusion\n",
    "\n",
    "- Adventure, Fantasy and Science Fiction genres are highly popular, indicating strong audience engagement."
   ]
  },
  {
   "cell_type": "markdown",
   "id": "c6647a68",
   "metadata": {},
   "source": [
    "### Recommendations\n",
    "\n",
    "- Consider creating high-quality Drama and TV Movies films for niche audiences or awards recognition."
   ]
  },
  {
   "cell_type": "markdown",
   "id": "2a5ec47e",
   "metadata": {},
   "source": [
    "### ii. Explore regional variations in audience preferences"
   ]
  },
  {
   "cell_type": "code",
   "execution_count": 56,
   "id": "3256d2f5",
   "metadata": {},
   "outputs": [
    {
     "data": {
      "image/png": "[encoded data removed]",
      "text/plain": [
       "<Figure size 864x432 with 1 Axes>"
      ]
     },
     "metadata": {},
     "output_type": "display_data"
    }
   ],
   "source": [
    "# Group by genre and calculate domestic vs worldwide gross ratio\n",
    "regional_preferences = exploded_movies_info.groupby('genre_names')[['domestic_gross', 'worldwide_gross']].mean().reset_index()\n",
    "regional_preferences['domestic_vs_worldwide_ratio'] = regional_preferences['domestic_gross'] / regional_preferences['worldwide_gross']\n",
    "\n",
    "# Plot domestic vs worldwide gross ratio by genre\n",
    "plt.figure(figsize=(12, 6))\n",
    "sns.barplot(x='genre_names', y='domestic_vs_worldwide_ratio', data=regional_preferences, palette='coolwarm')\n",
    "plt.title('Domestic vs Worldwide Gross Ratio by Genre', fontsize=16)\n",
    "plt.ylabel('Domestic vs Worldwide Ratio', fontsize=12)\n",
    "plt.xlabel('Genre', fontsize=12)\n",
    "plt.xticks(rotation=90)\n",
    "plt.show()"
   ]
  },
  {
   "cell_type": "markdown",
   "id": "c026b3c3",
   "metadata": {},
   "source": [
    "The domestic vs worldwide gross ratio plot shows that genres like Music and TV Movie perform relatively better domestically.\n",
    "\n",
    "Genres like Adventure, Fantasy and Science Fiction perform significantly better worldwide than domestically."
   ]
  },
  {
   "cell_type": "markdown",
   "id": "ca5d5e0f",
   "metadata": {},
   "source": [
    "### Conclusions\n",
    "\n",
    "- Adventure, Fantasy and Science Fiction genres have strong global appeal, making them ideal for international markets.\n",
    "\n",
    "- Music and TV Movie genres cater well to domestic audiences but may require tailored marketing strategies for international success."
   ]
  },
  {
   "cell_type": "markdown",
   "id": "ae5f5782",
   "metadata": {},
   "source": [
    "### Recommendations\n",
    "\n",
    "- Prioritize Adventure, Fantasy and Science Fiction genres for international releases to capitalize on their global popularity.\n",
    "\n",
    "- Invest in localized marketing for Music and TV Movie genres to enhance their performance in international markets."
   ]
  },
  {
   "cell_type": "markdown",
   "id": "3ebf9647",
   "metadata": {},
   "source": [
    "### iv. Examine the relationship between movie ratings and audience reception"
   ]
  },
  {
   "cell_type": "code",
   "execution_count": 57,
   "id": "79cc0d2b",
   "metadata": {},
   "outputs": [
    {
     "data": {
      "image/png": "[encoded data removed]",
      "text/plain": [
       "<Figure size 720x432 with 1 Axes>"
      ]
     },
     "metadata": {},
     "output_type": "display_data"
    }
   ],
   "source": [
    "# Scatter plot of ratings vs worldwide gross\n",
    "plt.figure(figsize=(10, 6))\n",
    "sns.scatterplot(x='vote_average', y='worldwide_gross', data=selected_merged_movies_info, alpha=0.3, color='blue')\n",
    "plt.title('Ratings vs Worldwide Gross', fontsize=16)\n",
    "plt.ylabel('Worldwide Gross (in dollars)', fontsize=12)\n",
    "plt.xlabel('Average Rating', fontsize=12) \n",
    "plt.show(); "
   ]
  },
  {
   "cell_type": "markdown",
   "id": "a0e91c7e",
   "metadata": {},
   "source": [
    "The scatter plot of ratings vs worldwide gross shows a slight positive trend, indicating that higher-rated movies tend to perform better at the box office."
   ]
  },
  {
   "cell_type": "markdown",
   "id": "97839298",
   "metadata": {},
   "source": [
    "### Conclusions\n",
    "\n",
    "- While higher ratings are associated with better box office performance, other factors like marketing and genre also play a significant role."
   ]
  },
  {
   "cell_type": "markdown",
   "id": "3c3c71e0",
   "metadata": {},
   "source": [
    "### Recommendations\n",
    "\n",
    "- Focus on producing high-quality movies that balance critical acclaim and audience appeal."
   ]
  },
  {
   "cell_type": "markdown",
   "id": "da3b8555",
   "metadata": {},
   "source": [
    "The analysis below shows the relationship between a movie's average audience rating and it's worldwide gross revenue using the Pearson correaltion test. The goal is to determine whether higher-rated movies tend to generate more revenue.\n",
    "\n",
    "**Null Hypothesis (H₀)**:\n",
    "\"There is no significant relationship between a movie's average audience rating and its worldwide gross revenue.\"\n",
    "This suggests that variations in audience ratings do not have any meaningful effect on a movie's revenue.\n",
    "\n",
    "**Alternative Hypothesis (H₁)**:\n",
    "\"There is a significant relationship between a movie's average audience rating and its worldwide gross revenue.\"\n",
    "This implies that audience ratings and worldwide revenue are statistically associated, indicating that higher ratings might correlate with higher revenue or vice versa.\n"
   ]
  },
  {
   "cell_type": "code",
   "execution_count": 58,
   "id": "41595399",
   "metadata": {},
   "outputs": [
    {
     "name": "stdout",
     "output_type": "stream",
     "text": [
      "Correlation: 0.17040533088721824, P-value: 1.232188474940137e-15\n",
      "There is a significant positive correlation between ratings and worldwide gross.\n"
     ]
    }
   ],
   "source": [
    "# Correlation between ratings and worldwide gross\n",
    "from scipy.stats import pearsonr\n",
    "\n",
    "# Drop rows with missing values in 'vote_average' or 'worldwide_gross'\n",
    "ratings_gross_data = selected_merged_movies_info[['vote_average', 'worldwide_gross']].dropna()\n",
    "\n",
    "# Perform Pearson correlation test\n",
    "correlation, p_value = pearsonr(ratings_gross_data['vote_average'], ratings_gross_data['worldwide_gross'])\n",
    "print(f\"Correlation: {correlation}, P-value: {p_value}\")\n",
    "\n",
    "if p_value < 0.05:\n",
    "    print(\"There is a significant positive correlation between ratings and worldwide gross.\")\n",
    "else:\n",
    "    print(\"There is no significant correlation between ratings and worldwide gross.\")"
   ]
  },
  {
   "cell_type": "markdown",
   "id": "19d56e29",
   "metadata": {},
   "source": [
    "The correlation analysis reveals a weak but positive relationship between ratings and worldwide gross.\n",
    "\n",
    "This analysis helps determine whether audience ratings are a reliable predictor of a movie's financial success. While a significant correlation would suggest a relationship, it is important to note that correlation does not imply causation. Other factors such as marketing, genre or release timing may also influence revenue."
   ]
  },
  {
   "cell_type": "markdown",
   "id": "ecb0488b",
   "metadata": {},
   "source": [
    "### Conclusions \n",
    "\n",
    "- Audience reception is influenced by both critical acclaim and broader appeal."
   ]
  },
  {
   "cell_type": "markdown",
   "id": "5d1e19dd",
   "metadata": {},
   "source": [
    "### Recommendations\n",
    "\n",
    "- Use ratings as a supplementary metric to evaluate potential box office success."
   ]
  },
  {
   "cell_type": "markdown",
   "id": "fa6ec0ce",
   "metadata": {},
   "source": [
    "## Business Recommendations\n",
    "\n",
    "### Objective 1: Identify top-performing genres and themes\n",
    "\n",
    "1. **Strategic Release Planning**:\n",
    "   - Focus on releasing high-budget, blockbuster movies (e.g., Action, Adventure, and Family genres) during lucrative seasons like Summer and Spring, when audience engagement is at its peak due to holidays and school vacations. This timing will maximize box office revenue potential.\n",
    "\n",
    "2. **Regional and Demographic Targeting**:\n",
    "   - Prioritize genres with strong international appeal, such as Action, Adventure, and Family films, for global markets. Invest in tailored marketing strategies to enhance domestic performance of Drama and Comedy genres, leveraging insights about audience preferences across different regions and demographics.\n",
    "\n",
    "3. **Minimized Risk Approach for Low-Revenue Genres**:\n",
    "   - Reduce investments in high-risk, low-revenue genres such as Documentary, TV Movies, and History. Allocate smaller budgets for niche or experimental films, targeting specific audience segments, festivals, or markets where these genres might resonate.\n",
    "\n",
    "4. **Diversified Content Strategy**:\n",
    "   - Balance portfolio investments by focusing on profitable genres globally while using Winter and Fall to release lower-budget films in less competitive seasons. This diversified strategy reduces financial risks and ensures continuous content output throughout the year.\n",
    "\n",
    "### Objective 2: Understand audience demographics and preferences \n",
    "\n",
    "1. **Prioritize High-Performing Genres for Maximum ROI**:\n",
    "   - Focus production efforts on Adventure, Animation, Fantasy, and Action genres, as they consistently deliver high box office revenue and demonstrate strong audience appeal both domestically and internationally.\n",
    "\n",
    "2. **Optimize Budget Allocation Based on Revenue Potential**:\n",
    "   - Invest higher production budgets in genres with proven returns, such as Adventure, Animation, and Fantasy. Limit spending on low-budget genres like Documentary and Horror to niche projects or festival-specific content to minimize financial risks.\n",
    "\n",
    "3. **Leverage Seasonal Opportunities**:\n",
    "   - Schedule releases of Family, Fantasy, and Adventure movies during peak seasons like holidays and summer to maximize audience engagement. Target these periods strategically to boost ticket sales and capitalize on seasonal demand.\n",
    "\n",
    "4. **Tailor Marketing Strategies for Targeted Success**:\n",
    "   - Develop data-driven and localized marketing campaigns for Drama and Comedy genres to ensure they resonate with domestic and international audiences. Customize promotional efforts based on audience preferences and regional trends.\n",
    "\n",
    "### Objective 3: Evaluate seasonal and regional trends\n",
    "\n",
    "1. **Capitalize on Popular Genres for Maximum Engagement**:\n",
    "   - Prioritize producing Adventure, Fantasy, Science Fiction, and Family movies, as they demonstrate strong global appeal and consistent audience engagement. These genres are ideal for both domestic and international markets, ensuring broad revenue opportunities.\n",
    "\n",
    "2. **Strategic Marketing for Niche Genres**:\n",
    "   - Invest in localized and data-driven marketing strategies for Music, Drama, and TV Movie genres to enhance their appeal in domestic and international markets. Tailored campaigns can help these genres succeed in niche or specific audience segments.\n",
    "\n",
    "3. **Focus on Balanced Quality and Popularity**:\n",
    "   - Develop high-quality movies that balance critical acclaim with widespread audience appeal. Leverage factors like effective marketing, star power, and strong storytelling to complement high ratings and ensure better box office performance.\n",
    "\n",
    "4. **Minimize Risk in Low-Popularity Genres**:\n",
    "   - Reduce investments in History, Documentary, and other low-revenue genres unless targeting specific niche audiences, awards recognition, or festivals. Use these genres selectively as part of a diversified content strategy rather than primary offerings."
   ]
  },
  {
   "cell_type": "markdown",
   "id": "aeb6bab5",
   "metadata": {},
   "source": [
    "## Summary of Steps Taken\n",
    "\n",
    "1. **Business Understanding**:\n",
    "    - Defined the goal of analyzing box office trends to guide a new movie studio in creating successful films.\n",
    "    - Identified key objectives, including evaluating top-performing genres, audience preferences, and seasonal trends.\n",
    "\n",
    "2. **Data Understanding**:\n",
    "    - Loaded multiple datasets from sources like Box Office Mojo, IMDb, Rotten Tomatoes, and The Numbers.\n",
    "    - Explored the structure and content of datasets, identifying key columns for analysis (e.g., gross revenue, genres, ratings).\n",
    "\n",
    "3. **Data Preparation**:\n",
    "    - Merged datasets to create a comprehensive `selected_merged_movies_info` DataFrame.\n",
    "    - Cleaned and transformed data, including converting financial columns to numeric formats and extracting seasonal and monthly information from release dates.\n",
    "\n",
    "4. **Exploratory Data Analysis**:\n",
    "    - **Seasonal Trends**:\n",
    "      - Analyzed gross revenue by season and month, identifying Summer and Winter as the most profitable seasons.\n",
    "      - Conducted hypothesis testing to confirm significant differences in revenue between seasons.\n",
    "    - **Genre Analysis**:\n",
    "      - Explored domestic vs. worldwide gross by genre, highlighting globally popular genres like Action, Adventure, and Family.\n",
    "      - Identified underperforming genres (e.g., Documentary, TV Movie, History) with low revenue potential.\n",
    "    - **Audience Preferences**:\n",
    "      - Analyzed genre popularity and ratings, finding Adventure, Fantasy, and Science Fiction to be highly popular.\n",
    "      - Examined regional preferences, showing some genres perform better domestically while others excel internationally.\n",
    "\n",
    "5. **Visualization**:\n",
    "    - Created bar plots, line plots, and scatter plots to visualize trends in revenue, ratings, and popularity by genre, season, and region.\n",
    "\n",
    "6. **Hypothesis Testing**:\n",
    "    - Conducted statistical tests (e.g., t-tests) to validate findings, such as differences in revenue between Summer and Winter.\n",
    "\n",
    "7. **Conclusions and Recommendations**:\n",
    "    - Recommended focusing on high-performing genres (e.g., Action, Adventure, Family) and releasing films during profitable seasons (Summer, Winter).\n",
    "    - Suggested limiting investments in underperforming genres and using Spring/Fall for experimental or niche films.\n",
    "    - Emphasized tailoring marketing strategies to regional preferences and leveraging data-driven budgeting for optimal returns."
   ]
  }
 ],
 "metadata": {
  "kernelspec": {
   "display_name": "learn-env",
   "language": "python",
   "name": "python3"
  },
  "language_info": {
   "codemirror_mode": {
    "name": "ipython",
    "version": 3
   },
   "file_extension": ".py",
   "mimetype": "text/x-python",
   "name": "python",
   "nbconvert_exporter": "python",
   "pygments_lexer": "ipython3",
   "version": "3.8.5"
  }
 },
 "nbformat": 4,
 "nbformat_minor": 5
}
