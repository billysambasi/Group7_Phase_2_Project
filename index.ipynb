{
 "cells": [
  {
   "cell_type": "markdown",
   "id": "a9ab5e60",
   "metadata": {},
   "source": [
    "### Project Title\n",
    "\n",
    "### **Data Driven Insights to Launch a Successful Movie Studio**"
   ]
  },
  {
   "cell_type": "markdown",
   "id": "e6eef965",
   "metadata": {},
   "source": [
    "### Business Understanding \n",
    "\n",
    "The company recognizes the increasing demand for data-driven decision-making in the entertainment industry and aims to establish a competitive movie studio. To achieve this, the company seeks to leverage data analytics to gain a comprehensive understanding of the factors influencing box office success. This includes identifying high-performing genres, analyzing audience preferences across demographics and regions, and evaluating seasonal and regional trends. By uncovering actionable insights, the company aims to optimize its content strategy, maximize revenue, and create impactful movies that resonate with audiences globally.\n",
    "\n",
    "### Problem Statement\n",
    "\n",
    "The company aims to establish a new movie studio but lacks sufficient knowledge about the movie industry to make informed decisions. The primary challenge is to identify the factors that contribute to a movie's success at the box office. This includes understanding which genres and themes perform best, analyzing audience preferences across demographics and regions, and evaluating seasonal and regional trends that influence box office performance. By leveraging data-driven insights, the company seeks to develop a strategic framework for creating impactful and competitive movie content that maximizes revenue and audience engagement.\n",
    "\n",
    "\n",
    "### Objectives \n",
    "\n",
    "1. Identify Top-Performing Movie Genres Analyze which genres (e.g., Action, Comedy, Drama) consistently generate the highest box office revenue to guide future content strategy.\n",
    "2. Evaluate seasonal and regional trends \n",
    "3. Identify movie ratings and audience preferences for various genres\n",
    "4. Analyze the relationship between production budget and worldwide revenue"
   ]
  },
  {
   "cell_type": "markdown",
   "id": "2a76ec5f",
   "metadata": {},
   "source": [
    "## Data Understanding "
   ]
  },
  {
   "cell_type": "code",
   "execution_count": 1,
   "id": "6fca0322",
   "metadata": {},
   "outputs": [],
   "source": [
    "# Importing necessary libraries\n",
    "import pandas as pd\n",
    "import numpy as np\n",
    "import sqlite3\n",
    "import matplotlib.pyplot as plt \n",
    "import seaborn as sns \n",
    "%matplotlib inline"
   ]
  },
  {
   "cell_type": "markdown",
   "id": "bf97b4cf",
   "metadata": {},
   "source": [
    "We are drawing the findings from the following datasets **box office mojo, the movie database, movie numbers, im.db**. "
   ]
  },
  {
   "cell_type": "code",
   "execution_count": 2,
   "id": "c516dc6b",
   "metadata": {},
   "outputs": [
    {
     "data": {
      "application/vnd.microsoft.datawrangler.viewer.v0+json": {
       "columns": [
        {
         "name": "index",
         "rawType": "int64",
         "type": "integer"
        },
        {
         "name": "title",
         "rawType": "object",
         "type": "string"
        },
        {
         "name": "studio",
         "rawType": "object",
         "type": "string"
        },
        {
         "name": "domestic_gross",
         "rawType": "float64",
         "type": "float"
        },
        {
         "name": "foreign_gross",
         "rawType": "object",
         "type": "string"
        },
        {
         "name": "year",
         "rawType": "int64",
         "type": "integer"
        }
       ],
       "conversionMethod": "pd.DataFrame",
       "ref": "3ed8f425-b2ec-4308-a82b-821e4a6d572f",
       "rows": [
        [
         "0",
         "Toy Story 3",
         "BV",
         "415000000.0",
         "652000000",
         "2010"
        ],
        [
         "1",
         "Alice in Wonderland (2010)",
         "BV",
         "334200000.0",
         "691300000",
         "2010"
        ],
        [
         "2",
         "Harry Potter and the Deathly Hallows Part 1",
         "WB",
         "296000000.0",
         "664300000",
         "2010"
        ],
        [
         "3",
         "Inception",
         "WB",
         "292600000.0",
         "535700000",
         "2010"
        ],
        [
         "4",
         "Shrek Forever After",
         "P/DW",
         "238700000.0",
         "513900000",
         "2010"
        ]
       ],
       "shape": {
        "columns": 5,
        "rows": 5
       }
      },
      "text/html": [
       "<div>\n",
       "<style scoped>\n",
       "    .dataframe tbody tr th:only-of-type {\n",
       "        vertical-align: middle;\n",
       "    }\n",
       "\n",
       "    .dataframe tbody tr th {\n",
       "        vertical-align: top;\n",
       "    }\n",
       "\n",
       "    .dataframe thead th {\n",
       "        text-align: right;\n",
       "    }\n",
       "</style>\n",
       "<table border=\"1\" class=\"dataframe\">\n",
       "  <thead>\n",
       "    <tr style=\"text-align: right;\">\n",
       "      <th></th>\n",
       "      <th>title</th>\n",
       "      <th>studio</th>\n",
       "      <th>domestic_gross</th>\n",
       "      <th>foreign_gross</th>\n",
       "      <th>year</th>\n",
       "    </tr>\n",
       "  </thead>\n",
       "  <tbody>\n",
       "    <tr>\n",
       "      <th>0</th>\n",
       "      <td>Toy Story 3</td>\n",
       "      <td>BV</td>\n",
       "      <td>415000000.0</td>\n",
       "      <td>652000000</td>\n",
       "      <td>2010</td>\n",
       "    </tr>\n",
       "    <tr>\n",
       "      <th>1</th>\n",
       "      <td>Alice in Wonderland (2010)</td>\n",
       "      <td>BV</td>\n",
       "      <td>334200000.0</td>\n",
       "      <td>691300000</td>\n",
       "      <td>2010</td>\n",
       "    </tr>\n",
       "    <tr>\n",
       "      <th>2</th>\n",
       "      <td>Harry Potter and the Deathly Hallows Part 1</td>\n",
       "      <td>WB</td>\n",
       "      <td>296000000.0</td>\n",
       "      <td>664300000</td>\n",
       "      <td>2010</td>\n",
       "    </tr>\n",
       "    <tr>\n",
       "      <th>3</th>\n",
       "      <td>Inception</td>\n",
       "      <td>WB</td>\n",
       "      <td>292600000.0</td>\n",
       "      <td>535700000</td>\n",
       "      <td>2010</td>\n",
       "    </tr>\n",
       "    <tr>\n",
       "      <th>4</th>\n",
       "      <td>Shrek Forever After</td>\n",
       "      <td>P/DW</td>\n",
       "      <td>238700000.0</td>\n",
       "      <td>513900000</td>\n",
       "      <td>2010</td>\n",
       "    </tr>\n",
       "  </tbody>\n",
       "</table>\n",
       "</div>"
      ],
      "text/plain": [
       "                                         title studio  domestic_gross  \\\n",
       "0                                  Toy Story 3     BV     415000000.0   \n",
       "1                   Alice in Wonderland (2010)     BV     334200000.0   \n",
       "2  Harry Potter and the Deathly Hallows Part 1     WB     296000000.0   \n",
       "3                                    Inception     WB     292600000.0   \n",
       "4                          Shrek Forever After   P/DW     238700000.0   \n",
       "\n",
       "  foreign_gross  year  \n",
       "0     652000000  2010  \n",
       "1     691300000  2010  \n",
       "2     664300000  2010  \n",
       "3     535700000  2010  \n",
       "4     513900000  2010  "
      ]
     },
     "execution_count": 2,
     "metadata": {},
     "output_type": "execute_result"
    }
   ],
   "source": [
    "# Loading the data from box office mojo\n",
    "box_office_mojo = pd.read_csv('bom.movie_gross.csv.gz')\n",
    "box_office_mojo.head() "
   ]
  },
  {
   "cell_type": "code",
   "execution_count": 3,
   "id": "10eed4f8",
   "metadata": {},
   "outputs": [
    {
     "data": {
      "application/vnd.microsoft.datawrangler.viewer.v0+json": {
       "columns": [
        {
         "name": "index",
         "rawType": "int64",
         "type": "integer"
        },
        {
         "name": "Unnamed: 0",
         "rawType": "int64",
         "type": "integer"
        },
        {
         "name": "genre_ids",
         "rawType": "object",
         "type": "string"
        },
        {
         "name": "id",
         "rawType": "int64",
         "type": "integer"
        },
        {
         "name": "original_language",
         "rawType": "object",
         "type": "string"
        },
        {
         "name": "original_title",
         "rawType": "object",
         "type": "string"
        },
        {
         "name": "popularity",
         "rawType": "float64",
         "type": "float"
        },
        {
         "name": "release_date",
         "rawType": "object",
         "type": "string"
        },
        {
         "name": "title",
         "rawType": "object",
         "type": "string"
        },
        {
         "name": "vote_average",
         "rawType": "float64",
         "type": "float"
        },
        {
         "name": "vote_count",
         "rawType": "int64",
         "type": "integer"
        }
       ],
       "conversionMethod": "pd.DataFrame",
       "ref": "108be79a-7afc-41fe-ae5c-44e604473bcd",
       "rows": [
        [
         "26512",
         "26512",
         "[27, 18]",
         "488143",
         "en",
         "Laboratory Conditions",
         "0.6",
         "2018-10-13",
         "Laboratory Conditions",
         "0.0",
         "1"
        ],
        [
         "26513",
         "26513",
         "[18, 53]",
         "485975",
         "en",
         "_EXHIBIT_84xxx_",
         "0.6",
         "2018-05-01",
         "_EXHIBIT_84xxx_",
         "0.0",
         "1"
        ],
        [
         "26514",
         "26514",
         "[14, 28, 12]",
         "381231",
         "en",
         "The Last One",
         "0.6",
         "2018-10-01",
         "The Last One",
         "0.0",
         "1"
        ],
        [
         "26515",
         "26515",
         "[10751, 12, 28]",
         "366854",
         "en",
         "Trailer Made",
         "0.6",
         "2018-06-22",
         "Trailer Made",
         "0.0",
         "1"
        ],
        [
         "26516",
         "26516",
         "[53, 27]",
         "309885",
         "en",
         "The Church",
         "0.6",
         "2018-10-05",
         "The Church",
         "0.0",
         "1"
        ]
       ],
       "shape": {
        "columns": 10,
        "rows": 5
       }
      },
      "text/html": [
       "<div>\n",
       "<style scoped>\n",
       "    .dataframe tbody tr th:only-of-type {\n",
       "        vertical-align: middle;\n",
       "    }\n",
       "\n",
       "    .dataframe tbody tr th {\n",
       "        vertical-align: top;\n",
       "    }\n",
       "\n",
       "    .dataframe thead th {\n",
       "        text-align: right;\n",
       "    }\n",
       "</style>\n",
       "<table border=\"1\" class=\"dataframe\">\n",
       "  <thead>\n",
       "    <tr style=\"text-align: right;\">\n",
       "      <th></th>\n",
       "      <th>Unnamed: 0</th>\n",
       "      <th>genre_ids</th>\n",
       "      <th>id</th>\n",
       "      <th>original_language</th>\n",
       "      <th>original_title</th>\n",
       "      <th>popularity</th>\n",
       "      <th>release_date</th>\n",
       "      <th>title</th>\n",
       "      <th>vote_average</th>\n",
       "      <th>vote_count</th>\n",
       "    </tr>\n",
       "  </thead>\n",
       "  <tbody>\n",
       "    <tr>\n",
       "      <th>26512</th>\n",
       "      <td>26512</td>\n",
       "      <td>[27, 18]</td>\n",
       "      <td>488143</td>\n",
       "      <td>en</td>\n",
       "      <td>Laboratory Conditions</td>\n",
       "      <td>0.6</td>\n",
       "      <td>2018-10-13</td>\n",
       "      <td>Laboratory Conditions</td>\n",
       "      <td>0.0</td>\n",
       "      <td>1</td>\n",
       "    </tr>\n",
       "    <tr>\n",
       "      <th>26513</th>\n",
       "      <td>26513</td>\n",
       "      <td>[18, 53]</td>\n",
       "      <td>485975</td>\n",
       "      <td>en</td>\n",
       "      <td>_EXHIBIT_84xxx_</td>\n",
       "      <td>0.6</td>\n",
       "      <td>2018-05-01</td>\n",
       "      <td>_EXHIBIT_84xxx_</td>\n",
       "      <td>0.0</td>\n",
       "      <td>1</td>\n",
       "    </tr>\n",
       "    <tr>\n",
       "      <th>26514</th>\n",
       "      <td>26514</td>\n",
       "      <td>[14, 28, 12]</td>\n",
       "      <td>381231</td>\n",
       "      <td>en</td>\n",
       "      <td>The Last One</td>\n",
       "      <td>0.6</td>\n",
       "      <td>2018-10-01</td>\n",
       "      <td>The Last One</td>\n",
       "      <td>0.0</td>\n",
       "      <td>1</td>\n",
       "    </tr>\n",
       "    <tr>\n",
       "      <th>26515</th>\n",
       "      <td>26515</td>\n",
       "      <td>[10751, 12, 28]</td>\n",
       "      <td>366854</td>\n",
       "      <td>en</td>\n",
       "      <td>Trailer Made</td>\n",
       "      <td>0.6</td>\n",
       "      <td>2018-06-22</td>\n",
       "      <td>Trailer Made</td>\n",
       "      <td>0.0</td>\n",
       "      <td>1</td>\n",
       "    </tr>\n",
       "    <tr>\n",
       "      <th>26516</th>\n",
       "      <td>26516</td>\n",
       "      <td>[53, 27]</td>\n",
       "      <td>309885</td>\n",
       "      <td>en</td>\n",
       "      <td>The Church</td>\n",
       "      <td>0.6</td>\n",
       "      <td>2018-10-05</td>\n",
       "      <td>The Church</td>\n",
       "      <td>0.0</td>\n",
       "      <td>1</td>\n",
       "    </tr>\n",
       "  </tbody>\n",
       "</table>\n",
       "</div>"
      ],
      "text/plain": [
       "       Unnamed: 0        genre_ids      id original_language  \\\n",
       "26512       26512         [27, 18]  488143                en   \n",
       "26513       26513         [18, 53]  485975                en   \n",
       "26514       26514     [14, 28, 12]  381231                en   \n",
       "26515       26515  [10751, 12, 28]  366854                en   \n",
       "26516       26516         [53, 27]  309885                en   \n",
       "\n",
       "              original_title  popularity release_date                  title  \\\n",
       "26512  Laboratory Conditions         0.6   2018-10-13  Laboratory Conditions   \n",
       "26513        _EXHIBIT_84xxx_         0.6   2018-05-01        _EXHIBIT_84xxx_   \n",
       "26514           The Last One         0.6   2018-10-01           The Last One   \n",
       "26515           Trailer Made         0.6   2018-06-22           Trailer Made   \n",
       "26516             The Church         0.6   2018-10-05             The Church   \n",
       "\n",
       "       vote_average  vote_count  \n",
       "26512           0.0           1  \n",
       "26513           0.0           1  \n",
       "26514           0.0           1  \n",
       "26515           0.0           1  \n",
       "26516           0.0           1  "
      ]
     },
     "execution_count": 3,
     "metadata": {},
     "output_type": "execute_result"
    }
   ],
   "source": [
    "# Loading data from the movie database\n",
    "the_movies_db = pd.read_csv(\"tmdb.movies.csv.gz\")\n",
    "the_movies_db.tail()"
   ]
  },
  {
   "cell_type": "code",
   "execution_count": 4,
   "id": "479a7638",
   "metadata": {},
   "outputs": [
    {
     "data": {
      "application/vnd.microsoft.datawrangler.viewer.v0+json": {
       "columns": [
        {
         "name": "index",
         "rawType": "int64",
         "type": "integer"
        },
        {
         "name": "id",
         "rawType": "int64",
         "type": "integer"
        },
        {
         "name": "release_date",
         "rawType": "object",
         "type": "string"
        },
        {
         "name": "movie",
         "rawType": "object",
         "type": "string"
        },
        {
         "name": "production_budget",
         "rawType": "object",
         "type": "string"
        },
        {
         "name": "domestic_gross",
         "rawType": "object",
         "type": "string"
        },
        {
         "name": "worldwide_gross",
         "rawType": "object",
         "type": "string"
        }
       ],
       "conversionMethod": "pd.DataFrame",
       "ref": "d93d3b38-32fe-45c6-a0ee-35199a569dab",
       "rows": [
        [
         "0",
         "1",
         "Dec 18, 2009",
         "Avatar",
         "$425,000,000",
         "$760,507,625",
         "$2,776,345,279"
        ],
        [
         "1",
         "2",
         "May 20, 2011",
         "Pirates of the Caribbean: On Stranger Tides",
         "$410,600,000",
         "$241,063,875",
         "$1,045,663,875"
        ],
        [
         "2",
         "3",
         "Jun 7, 2019",
         "Dark Phoenix",
         "$350,000,000",
         "$42,762,350",
         "$149,762,350"
        ],
        [
         "3",
         "4",
         "May 1, 2015",
         "Avengers: Age of Ultron",
         "$330,600,000",
         "$459,005,868",
         "$1,403,013,963"
        ],
        [
         "4",
         "5",
         "Dec 15, 2017",
         "Star Wars Ep. VIII: The Last Jedi",
         "$317,000,000",
         "$620,181,382",
         "$1,316,721,747"
        ]
       ],
       "shape": {
        "columns": 6,
        "rows": 5
       }
      },
      "text/html": [
       "<div>\n",
       "<style scoped>\n",
       "    .dataframe tbody tr th:only-of-type {\n",
       "        vertical-align: middle;\n",
       "    }\n",
       "\n",
       "    .dataframe tbody tr th {\n",
       "        vertical-align: top;\n",
       "    }\n",
       "\n",
       "    .dataframe thead th {\n",
       "        text-align: right;\n",
       "    }\n",
       "</style>\n",
       "<table border=\"1\" class=\"dataframe\">\n",
       "  <thead>\n",
       "    <tr style=\"text-align: right;\">\n",
       "      <th></th>\n",
       "      <th>id</th>\n",
       "      <th>release_date</th>\n",
       "      <th>movie</th>\n",
       "      <th>production_budget</th>\n",
       "      <th>domestic_gross</th>\n",
       "      <th>worldwide_gross</th>\n",
       "    </tr>\n",
       "  </thead>\n",
       "  <tbody>\n",
       "    <tr>\n",
       "      <th>0</th>\n",
       "      <td>1</td>\n",
       "      <td>Dec 18, 2009</td>\n",
       "      <td>Avatar</td>\n",
       "      <td>$425,000,000</td>\n",
       "      <td>$760,507,625</td>\n",
       "      <td>$2,776,345,279</td>\n",
       "    </tr>\n",
       "    <tr>\n",
       "      <th>1</th>\n",
       "      <td>2</td>\n",
       "      <td>May 20, 2011</td>\n",
       "      <td>Pirates of the Caribbean: On Stranger Tides</td>\n",
       "      <td>$410,600,000</td>\n",
       "      <td>$241,063,875</td>\n",
       "      <td>$1,045,663,875</td>\n",
       "    </tr>\n",
       "    <tr>\n",
       "      <th>2</th>\n",
       "      <td>3</td>\n",
       "      <td>Jun 7, 2019</td>\n",
       "      <td>Dark Phoenix</td>\n",
       "      <td>$350,000,000</td>\n",
       "      <td>$42,762,350</td>\n",
       "      <td>$149,762,350</td>\n",
       "    </tr>\n",
       "    <tr>\n",
       "      <th>3</th>\n",
       "      <td>4</td>\n",
       "      <td>May 1, 2015</td>\n",
       "      <td>Avengers: Age of Ultron</td>\n",
       "      <td>$330,600,000</td>\n",
       "      <td>$459,005,868</td>\n",
       "      <td>$1,403,013,963</td>\n",
       "    </tr>\n",
       "    <tr>\n",
       "      <th>4</th>\n",
       "      <td>5</td>\n",
       "      <td>Dec 15, 2017</td>\n",
       "      <td>Star Wars Ep. VIII: The Last Jedi</td>\n",
       "      <td>$317,000,000</td>\n",
       "      <td>$620,181,382</td>\n",
       "      <td>$1,316,721,747</td>\n",
       "    </tr>\n",
       "  </tbody>\n",
       "</table>\n",
       "</div>"
      ],
      "text/plain": [
       "   id  release_date                                        movie  \\\n",
       "0   1  Dec 18, 2009                                       Avatar   \n",
       "1   2  May 20, 2011  Pirates of the Caribbean: On Stranger Tides   \n",
       "2   3   Jun 7, 2019                                 Dark Phoenix   \n",
       "3   4   May 1, 2015                      Avengers: Age of Ultron   \n",
       "4   5  Dec 15, 2017            Star Wars Ep. VIII: The Last Jedi   \n",
       "\n",
       "  production_budget domestic_gross worldwide_gross  \n",
       "0      $425,000,000   $760,507,625  $2,776,345,279  \n",
       "1      $410,600,000   $241,063,875  $1,045,663,875  \n",
       "2      $350,000,000    $42,762,350    $149,762,350  \n",
       "3      $330,600,000   $459,005,868  $1,403,013,963  \n",
       "4      $317,000,000   $620,181,382  $1,316,721,747  "
      ]
     },
     "execution_count": 4,
     "metadata": {},
     "output_type": "execute_result"
    }
   ],
   "source": [
    "# Loading data from \"the numbers website\" \n",
    "movie_numbers = pd.read_csv(\"tn.movie_budgets.csv.gz\")\n",
    "movie_numbers.head()"
   ]
  },
  {
   "cell_type": "code",
   "execution_count": 5,
   "id": "08cf0c51",
   "metadata": {},
   "outputs": [
    {
     "name": "stdout",
     "output_type": "stream",
     "text": [
      "Tables in the database: [('movie_basics',), ('directors',), ('known_for',), ('movie_akas',), ('movie_ratings',), ('persons',), ('principals',), ('writers',)]\n"
     ]
    }
   ],
   "source": [
    "# Loading data from imdb(sqlite3 database file)\n",
    "# Path to the unzipped .db file\n",
    "db_path = 'data/unzippedData/im.db'\n",
    "\n",
    "# Connect to the database\n",
    "conn = sqlite3.connect(db_path)\n",
    "cursor = conn.cursor()\n",
    "\n",
    "# Example: List all tables in the database\n",
    "cursor.execute(\"SELECT name FROM sqlite_master WHERE type='table';\")\n",
    "tables = cursor.fetchall()\n",
    "print(\"Tables in the database:\", tables)"
   ]
  },
  {
   "cell_type": "code",
   "execution_count": 6,
   "id": "360792ad",
   "metadata": {},
   "outputs": [
    {
     "data": {
      "application/vnd.microsoft.datawrangler.viewer.v0+json": {
       "columns": [
        {
         "name": "index",
         "rawType": "int64",
         "type": "integer"
        },
        {
         "name": "movie_id",
         "rawType": "object",
         "type": "string"
        },
        {
         "name": "primary_title",
         "rawType": "object",
         "type": "string"
        },
        {
         "name": "original_title",
         "rawType": "object",
         "type": "string"
        },
        {
         "name": "start_year",
         "rawType": "int64",
         "type": "integer"
        },
        {
         "name": "runtime_minutes",
         "rawType": "float64",
         "type": "float"
        },
        {
         "name": "genres",
         "rawType": "object",
         "type": "string"
        }
       ],
       "conversionMethod": "pd.DataFrame",
       "ref": "e33ce603-851a-4d10-8bcb-7b3eb676d0b5",
       "rows": [
        [
         "0",
         "tt0063540",
         "Sunghursh",
         "Sunghursh",
         "2013",
         "175.0",
         "Action,Crime,Drama"
        ],
        [
         "1",
         "tt0066787",
         "One Day Before the Rainy Season",
         "Ashad Ka Ek Din",
         "2019",
         "114.0",
         "Biography,Drama"
        ],
        [
         "2",
         "tt0069049",
         "The Other Side of the Wind",
         "The Other Side of the Wind",
         "2018",
         "122.0",
         "Drama"
        ],
        [
         "3",
         "tt0069204",
         "Sabse Bada Sukh",
         "Sabse Bada Sukh",
         "2018",
         null,
         "Comedy,Drama"
        ],
        [
         "4",
         "tt0100275",
         "The Wandering Soap Opera",
         "La Telenovela Errante",
         "2017",
         "80.0",
         "Comedy,Drama,Fantasy"
        ],
        [
         "5",
         "tt0111414",
         "A Thin Life",
         "A Thin Life",
         "2018",
         "75.0",
         "Comedy"
        ],
        [
         "6",
         "tt0112502",
         "Bigfoot",
         "Bigfoot",
         "2017",
         null,
         "Horror,Thriller"
        ],
        [
         "7",
         "tt0137204",
         "Joe Finds Grace",
         "Joe Finds Grace",
         "2017",
         "83.0",
         "Adventure,Animation,Comedy"
        ],
        [
         "8",
         "tt0139613",
         "O Silêncio",
         "O Silêncio",
         "2012",
         null,
         "Documentary,History"
        ],
        [
         "9",
         "tt0144449",
         "Nema aviona za Zagreb",
         "Nema aviona za Zagreb",
         "2012",
         "82.0",
         "Biography"
        ],
        [
         "10",
         "tt0146592",
         "Pál Adrienn",
         "Pál Adrienn",
         "2010",
         "136.0",
         "Drama"
        ],
        [
         "11",
         "tt0154039",
         "So Much for Justice!",
         "Oda az igazság",
         "2010",
         "100.0",
         "History"
        ],
        [
         "12",
         "tt0159369",
         "Cooper and Hemingway: The True Gen",
         "Cooper and Hemingway: The True Gen",
         "2013",
         "180.0",
         "Documentary"
        ],
        [
         "13",
         "tt0162942",
         "Children of the Green Dragon",
         "A zöld sárkány gyermekei",
         "2010",
         "89.0",
         "Drama"
        ],
        [
         "14",
         "tt0170651",
         "T.G.M. - osvoboditel",
         "T.G.M. - osvoboditel",
         "2018",
         "60.0",
         "Documentary"
        ],
        [
         "15",
         "tt0176694",
         "The Tragedy of Man",
         "Az ember tragédiája",
         "2011",
         "160.0",
         "Animation,Drama,History"
        ],
        [
         "16",
         "tt0187902",
         "How Huang Fei-hong Rescued the Orphan from the Tiger's Den",
         "How Huang Fei-hong Rescued the Orphan from the Tiger's Den",
         "2011",
         null,
         null
        ],
        [
         "17",
         "tt0192528",
         "Heaven & Hell",
         "Reverse Heaven",
         "2018",
         "104.0",
         "Drama"
        ],
        [
         "18",
         "tt0230212",
         "The Final Journey",
         "The Final Journey",
         "2010",
         "120.0",
         "Drama"
        ],
        [
         "19",
         "tt0247643",
         "Los pájaros se van con la muerte",
         "Los pájaros se van con la muerte",
         "2011",
         "110.0",
         "Drama,Mystery"
        ],
        [
         "20",
         "tt0249516",
         "Foodfight!",
         "Foodfight!",
         "2012",
         "91.0",
         "Action,Animation,Comedy"
        ],
        [
         "21",
         "tt0250404",
         "Godfather",
         "Godfather",
         "2012",
         null,
         "Crime,Drama"
        ],
        [
         "22",
         "tt0253093",
         "Gangavataran",
         "Gangavataran",
         "2018",
         "134.0",
         null
        ],
        [
         "23",
         "tt0255820",
         "Return to Babylon",
         "Return to Babylon",
         "2013",
         "75.0",
         "Biography,Comedy,Drama"
        ],
        [
         "24",
         "tt0262218",
         "Akakis mogzauroba",
         "Akakis mogzauroba",
         "2012",
         "44.0",
         "Documentary"
        ],
        [
         "25",
         "tt0262759",
         "Seven Jews from My Class",
         "Siedmiu Zydów z mojej klasy",
         "2018",
         "40.0",
         "Documentary"
        ],
        [
         "26",
         "tt0263814",
         "On kadin",
         "On kadin",
         "2019",
         null,
         "Drama"
        ],
        [
         "27",
         "tt0276568",
         "To Chase a Million",
         "To Chase a Million",
         "2018",
         "97.0",
         "Action,Drama"
        ],
        [
         "28",
         "tt0277964",
         "Prague: The Restless Heart of Europe",
         "Praha - neklidné srdce Evropy",
         "2018",
         "59.0",
         "Documentary,History"
        ],
        [
         "29",
         "tt0283440",
         "Short Time Heroes",
         "Kurzzeithelden",
         "2015",
         "45.0",
         "Sci-Fi"
        ],
        [
         "30",
         "tt0285252",
         "Life's a Beach",
         "Life's a Beach",
         "2012",
         "100.0",
         "Comedy"
        ],
        [
         "31",
         "tt0285423",
         "Abolição",
         "Abolição",
         "2019",
         null,
         "Documentary"
        ],
        [
         "32",
         "tt0293069",
         "Dark Blood",
         "Dark Blood",
         "2012",
         "86.0",
         "Thriller"
        ],
        [
         "33",
         "tt0293429",
         "Mortal Kombat",
         "Mortal Kombat",
         "2021",
         null,
         "Action,Adventure,Fantasy"
        ],
        [
         "34",
         "tt0297400",
         "Snowblind",
         "Snowblind",
         "2015",
         null,
         "Crime,Drama"
        ],
        [
         "35",
         "tt0306058",
         "Second Coming",
         "Second Coming",
         "2012",
         "95.0",
         null
        ],
        [
         "36",
         "tt0311448",
         "Lives No Longer Ours",
         "Lives No Longer Ours",
         "2011",
         "90.0",
         "Drama,Romance"
        ],
        [
         "37",
         "tt0312305",
         "Quantum Quest: A Cassini Space Odyssey",
         "Quantum Quest: A Cassini Space Odyssey",
         "2010",
         "45.0",
         "Adventure,Animation,Sci-Fi"
        ],
        [
         "38",
         "tt0315642",
         "Wazir",
         "Wazir",
         "2016",
         "103.0",
         "Action,Crime,Drama"
        ],
        [
         "39",
         "tt0323808",
         "The Wicker Tree",
         "The Wicker Tree",
         "2011",
         "96.0",
         "Drama,Horror"
        ],
        [
         "40",
         "tt0326592",
         "The Overnight",
         "The Overnight",
         "2010",
         "88.0",
         null
        ],
        [
         "41",
         "tt0326965",
         "In My Sleep",
         "In My Sleep",
         "2010",
         "104.0",
         "Drama,Mystery,Thriller"
        ],
        [
         "42",
         "tt0328810",
         "My Land",
         "Aamaar Bhuvan",
         "2018",
         "102.0",
         "Drama,Family"
        ],
        [
         "43",
         "tt0329539",
         "Rice Girl",
         "Rice Girl",
         "2014",
         "95.0",
         "Adventure,Comedy,Romance"
        ],
        [
         "44",
         "tt0330811",
         "Regret Not Speaking",
         "Regret Not Speaking",
         "2011",
         null,
         null
        ],
        [
         "45",
         "tt0330987",
         "Tiden är en dröm, del 2",
         "Tiden är en dröm, del 2",
         "2014",
         "109.0",
         null
        ],
        [
         "46",
         "tt0331312",
         "This Wretched Life",
         "This Wretched Life",
         "2010",
         "99.0",
         "Comedy,Drama"
        ],
        [
         "47",
         "tt0331314",
         "Bunyan and Babe",
         "Bunyan and Babe",
         "2017",
         "84.0",
         "Adventure,Animation,Comedy"
        ],
        [
         "48",
         "tt0337692",
         "On the Road",
         "On the Road",
         "2012",
         "124.0",
         "Adventure,Drama,Romance"
        ],
        [
         "49",
         "tt0337882",
         "Blind Sided",
         "Blind Sided",
         "2010",
         null,
         "Comedy,Crime,Drama"
        ]
       ],
       "shape": {
        "columns": 6,
        "rows": 146144
       }
      },
      "text/html": [
       "<div>\n",
       "<style scoped>\n",
       "    .dataframe tbody tr th:only-of-type {\n",
       "        vertical-align: middle;\n",
       "    }\n",
       "\n",
       "    .dataframe tbody tr th {\n",
       "        vertical-align: top;\n",
       "    }\n",
       "\n",
       "    .dataframe thead th {\n",
       "        text-align: right;\n",
       "    }\n",
       "</style>\n",
       "<table border=\"1\" class=\"dataframe\">\n",
       "  <thead>\n",
       "    <tr style=\"text-align: right;\">\n",
       "      <th></th>\n",
       "      <th>movie_id</th>\n",
       "      <th>primary_title</th>\n",
       "      <th>original_title</th>\n",
       "      <th>start_year</th>\n",
       "      <th>runtime_minutes</th>\n",
       "      <th>genres</th>\n",
       "    </tr>\n",
       "  </thead>\n",
       "  <tbody>\n",
       "    <tr>\n",
       "      <th>0</th>\n",
       "      <td>tt0063540</td>\n",
       "      <td>Sunghursh</td>\n",
       "      <td>Sunghursh</td>\n",
       "      <td>2013</td>\n",
       "      <td>175.0</td>\n",
       "      <td>Action,Crime,Drama</td>\n",
       "    </tr>\n",
       "    <tr>\n",
       "      <th>1</th>\n",
       "      <td>tt0066787</td>\n",
       "      <td>One Day Before the Rainy Season</td>\n",
       "      <td>Ashad Ka Ek Din</td>\n",
       "      <td>2019</td>\n",
       "      <td>114.0</td>\n",
       "      <td>Biography,Drama</td>\n",
       "    </tr>\n",
       "    <tr>\n",
       "      <th>2</th>\n",
       "      <td>tt0069049</td>\n",
       "      <td>The Other Side of the Wind</td>\n",
       "      <td>The Other Side of the Wind</td>\n",
       "      <td>2018</td>\n",
       "      <td>122.0</td>\n",
       "      <td>Drama</td>\n",
       "    </tr>\n",
       "    <tr>\n",
       "      <th>3</th>\n",
       "      <td>tt0069204</td>\n",
       "      <td>Sabse Bada Sukh</td>\n",
       "      <td>Sabse Bada Sukh</td>\n",
       "      <td>2018</td>\n",
       "      <td>NaN</td>\n",
       "      <td>Comedy,Drama</td>\n",
       "    </tr>\n",
       "    <tr>\n",
       "      <th>4</th>\n",
       "      <td>tt0100275</td>\n",
       "      <td>The Wandering Soap Opera</td>\n",
       "      <td>La Telenovela Errante</td>\n",
       "      <td>2017</td>\n",
       "      <td>80.0</td>\n",
       "      <td>Comedy,Drama,Fantasy</td>\n",
       "    </tr>\n",
       "    <tr>\n",
       "      <th>...</th>\n",
       "      <td>...</td>\n",
       "      <td>...</td>\n",
       "      <td>...</td>\n",
       "      <td>...</td>\n",
       "      <td>...</td>\n",
       "      <td>...</td>\n",
       "    </tr>\n",
       "    <tr>\n",
       "      <th>146139</th>\n",
       "      <td>tt9916538</td>\n",
       "      <td>Kuambil Lagi Hatiku</td>\n",
       "      <td>Kuambil Lagi Hatiku</td>\n",
       "      <td>2019</td>\n",
       "      <td>123.0</td>\n",
       "      <td>Drama</td>\n",
       "    </tr>\n",
       "    <tr>\n",
       "      <th>146140</th>\n",
       "      <td>tt9916622</td>\n",
       "      <td>Rodolpho Teóphilo - O Legado de um Pioneiro</td>\n",
       "      <td>Rodolpho Teóphilo - O Legado de um Pioneiro</td>\n",
       "      <td>2015</td>\n",
       "      <td>NaN</td>\n",
       "      <td>Documentary</td>\n",
       "    </tr>\n",
       "    <tr>\n",
       "      <th>146141</th>\n",
       "      <td>tt9916706</td>\n",
       "      <td>Dankyavar Danka</td>\n",
       "      <td>Dankyavar Danka</td>\n",
       "      <td>2013</td>\n",
       "      <td>NaN</td>\n",
       "      <td>Comedy</td>\n",
       "    </tr>\n",
       "    <tr>\n",
       "      <th>146142</th>\n",
       "      <td>tt9916730</td>\n",
       "      <td>6 Gunn</td>\n",
       "      <td>6 Gunn</td>\n",
       "      <td>2017</td>\n",
       "      <td>116.0</td>\n",
       "      <td>None</td>\n",
       "    </tr>\n",
       "    <tr>\n",
       "      <th>146143</th>\n",
       "      <td>tt9916754</td>\n",
       "      <td>Chico Albuquerque - Revelações</td>\n",
       "      <td>Chico Albuquerque - Revelações</td>\n",
       "      <td>2013</td>\n",
       "      <td>NaN</td>\n",
       "      <td>Documentary</td>\n",
       "    </tr>\n",
       "  </tbody>\n",
       "</table>\n",
       "<p>146144 rows × 6 columns</p>\n",
       "</div>"
      ],
      "text/plain": [
       "         movie_id                                primary_title  \\\n",
       "0       tt0063540                                    Sunghursh   \n",
       "1       tt0066787              One Day Before the Rainy Season   \n",
       "2       tt0069049                   The Other Side of the Wind   \n",
       "3       tt0069204                              Sabse Bada Sukh   \n",
       "4       tt0100275                     The Wandering Soap Opera   \n",
       "...           ...                                          ...   \n",
       "146139  tt9916538                          Kuambil Lagi Hatiku   \n",
       "146140  tt9916622  Rodolpho Teóphilo - O Legado de um Pioneiro   \n",
       "146141  tt9916706                              Dankyavar Danka   \n",
       "146142  tt9916730                                       6 Gunn   \n",
       "146143  tt9916754               Chico Albuquerque - Revelações   \n",
       "\n",
       "                                     original_title  start_year  \\\n",
       "0                                         Sunghursh        2013   \n",
       "1                                   Ashad Ka Ek Din        2019   \n",
       "2                        The Other Side of the Wind        2018   \n",
       "3                                   Sabse Bada Sukh        2018   \n",
       "4                             La Telenovela Errante        2017   \n",
       "...                                             ...         ...   \n",
       "146139                          Kuambil Lagi Hatiku        2019   \n",
       "146140  Rodolpho Teóphilo - O Legado de um Pioneiro        2015   \n",
       "146141                              Dankyavar Danka        2013   \n",
       "146142                                       6 Gunn        2017   \n",
       "146143               Chico Albuquerque - Revelações        2013   \n",
       "\n",
       "        runtime_minutes                genres  \n",
       "0                 175.0    Action,Crime,Drama  \n",
       "1                 114.0       Biography,Drama  \n",
       "2                 122.0                 Drama  \n",
       "3                   NaN          Comedy,Drama  \n",
       "4                  80.0  Comedy,Drama,Fantasy  \n",
       "...                 ...                   ...  \n",
       "146139            123.0                 Drama  \n",
       "146140              NaN           Documentary  \n",
       "146141              NaN                Comedy  \n",
       "146142            116.0                  None  \n",
       "146143              NaN           Documentary  \n",
       "\n",
       "[146144 rows x 6 columns]"
      ]
     },
     "execution_count": 6,
     "metadata": {},
     "output_type": "execute_result"
    }
   ],
   "source": [
    "# Selecting the movie_basics table\n",
    "movie_basics = pd.read_sql(\"SELECT * FROM movie_basics;\", conn)\n",
    "movie_basics"
   ]
  },
  {
   "cell_type": "code",
   "execution_count": 7,
   "id": "6e38f7d8",
   "metadata": {},
   "outputs": [
    {
     "data": {
      "application/vnd.microsoft.datawrangler.viewer.v0+json": {
       "columns": [
        {
         "name": "index",
         "rawType": "int64",
         "type": "integer"
        },
        {
         "name": "movie_id",
         "rawType": "object",
         "type": "string"
        },
        {
         "name": "averagerating",
         "rawType": "float64",
         "type": "float"
        },
        {
         "name": "numvotes",
         "rawType": "int64",
         "type": "integer"
        }
       ],
       "conversionMethod": "pd.DataFrame",
       "ref": "79ef0fc1-634e-4c0f-a0c2-e230f67bf30b",
       "rows": [
        [
         "0",
         "tt10356526",
         "8.3",
         "31"
        ],
        [
         "1",
         "tt10384606",
         "8.9",
         "559"
        ],
        [
         "2",
         "tt1042974",
         "6.4",
         "20"
        ],
        [
         "3",
         "tt1043726",
         "4.2",
         "50352"
        ],
        [
         "4",
         "tt1060240",
         "6.5",
         "21"
        ],
        [
         "5",
         "tt1069246",
         "6.2",
         "326"
        ],
        [
         "6",
         "tt1094666",
         "7.0",
         "1613"
        ],
        [
         "7",
         "tt1130982",
         "6.4",
         "571"
        ],
        [
         "8",
         "tt1156528",
         "7.2",
         "265"
        ],
        [
         "9",
         "tt1161457",
         "4.2",
         "148"
        ],
        [
         "10",
         "tt1171222",
         "5.1",
         "8296"
        ],
        [
         "11",
         "tt1174693",
         "5.8",
         "2381"
        ],
        [
         "12",
         "tt1181840",
         "7.0",
         "5494"
        ],
        [
         "13",
         "tt1193623",
         "8.0",
         "5"
        ],
        [
         "14",
         "tt1199588",
         "5.5",
         "74"
        ],
        [
         "15",
         "tt1204784",
         "5.8",
         "6"
        ],
        [
         "16",
         "tt1210166",
         "7.6",
         "326657"
        ],
        [
         "17",
         "tt1212419",
         "6.5",
         "87288"
        ],
        [
         "18",
         "tt1220911",
         "5.0",
         "941"
        ],
        [
         "19",
         "tt1229238",
         "7.4",
         "428142"
        ],
        [
         "20",
         "tt1232829",
         "7.2",
         "477771"
        ],
        [
         "21",
         "tt1235548",
         "6.6",
         "2725"
        ],
        [
         "22",
         "tt1243974",
         "5.4",
         "54646"
        ],
        [
         "23",
         "tt1250861",
         "6.2",
         "416"
        ],
        [
         "24",
         "tt1258812",
         "4.0",
         "21"
        ],
        [
         "25",
         "tt1261945",
         "4.4",
         "69199"
        ],
        [
         "26",
         "tt1266037",
         "7.0",
         "1413"
        ],
        [
         "27",
         "tt1270291",
         "5.8",
         "5728"
        ],
        [
         "28",
         "tt1270761",
         "5.6",
         "44490"
        ],
        [
         "29",
         "tt1272886",
         "6.1",
         "6688"
        ],
        [
         "30",
         "tt1274297",
         "5.4",
         "381"
        ],
        [
         "31",
         "tt1283887",
         "5.4",
         "2527"
        ],
        [
         "32",
         "tt1285219",
         "3.4",
         "387"
        ],
        [
         "33",
         "tt1287879",
         "7.7",
         "76"
        ],
        [
         "34",
         "tt1290476",
         "7.2",
         "6"
        ],
        [
         "35",
         "tt1294141",
         "4.5",
         "113"
        ],
        [
         "36",
         "tt1320239",
         "6.2",
         "18431"
        ],
        [
         "37",
         "tt1322312",
         "6.3",
         "54421"
        ],
        [
         "38",
         "tt1323962",
         "5.1",
         "101"
        ],
        [
         "39",
         "tt1325014",
         "6.7",
         "4240"
        ],
        [
         "40",
         "tt1325019",
         "7.2",
         "29"
        ],
        [
         "41",
         "tt1326743",
         "8.4",
         "21"
        ],
        [
         "42",
         "tt1327602",
         "7.8",
         "8"
        ],
        [
         "43",
         "tt1328913",
         "5.2",
         "738"
        ],
        [
         "44",
         "tt1331329",
         "3.6",
         "1621"
        ],
        [
         "45",
         "tt1332570",
         "2.1",
         "17"
        ],
        [
         "46",
         "tt1343110",
         "2.5",
         "345"
        ],
        [
         "47",
         "tt1343740",
         "4.6",
         "495"
        ],
        [
         "48",
         "tt1346690",
         "7.7",
         "7"
        ],
        [
         "49",
         "tt1352393",
         "7.7",
         "1293"
        ]
       ],
       "shape": {
        "columns": 3,
        "rows": 73856
       }
      },
      "text/html": [
       "<div>\n",
       "<style scoped>\n",
       "    .dataframe tbody tr th:only-of-type {\n",
       "        vertical-align: middle;\n",
       "    }\n",
       "\n",
       "    .dataframe tbody tr th {\n",
       "        vertical-align: top;\n",
       "    }\n",
       "\n",
       "    .dataframe thead th {\n",
       "        text-align: right;\n",
       "    }\n",
       "</style>\n",
       "<table border=\"1\" class=\"dataframe\">\n",
       "  <thead>\n",
       "    <tr style=\"text-align: right;\">\n",
       "      <th></th>\n",
       "      <th>movie_id</th>\n",
       "      <th>averagerating</th>\n",
       "      <th>numvotes</th>\n",
       "    </tr>\n",
       "  </thead>\n",
       "  <tbody>\n",
       "    <tr>\n",
       "      <th>0</th>\n",
       "      <td>tt10356526</td>\n",
       "      <td>8.3</td>\n",
       "      <td>31</td>\n",
       "    </tr>\n",
       "    <tr>\n",
       "      <th>1</th>\n",
       "      <td>tt10384606</td>\n",
       "      <td>8.9</td>\n",
       "      <td>559</td>\n",
       "    </tr>\n",
       "    <tr>\n",
       "      <th>2</th>\n",
       "      <td>tt1042974</td>\n",
       "      <td>6.4</td>\n",
       "      <td>20</td>\n",
       "    </tr>\n",
       "    <tr>\n",
       "      <th>3</th>\n",
       "      <td>tt1043726</td>\n",
       "      <td>4.2</td>\n",
       "      <td>50352</td>\n",
       "    </tr>\n",
       "    <tr>\n",
       "      <th>4</th>\n",
       "      <td>tt1060240</td>\n",
       "      <td>6.5</td>\n",
       "      <td>21</td>\n",
       "    </tr>\n",
       "    <tr>\n",
       "      <th>...</th>\n",
       "      <td>...</td>\n",
       "      <td>...</td>\n",
       "      <td>...</td>\n",
       "    </tr>\n",
       "    <tr>\n",
       "      <th>73851</th>\n",
       "      <td>tt9805820</td>\n",
       "      <td>8.1</td>\n",
       "      <td>25</td>\n",
       "    </tr>\n",
       "    <tr>\n",
       "      <th>73852</th>\n",
       "      <td>tt9844256</td>\n",
       "      <td>7.5</td>\n",
       "      <td>24</td>\n",
       "    </tr>\n",
       "    <tr>\n",
       "      <th>73853</th>\n",
       "      <td>tt9851050</td>\n",
       "      <td>4.7</td>\n",
       "      <td>14</td>\n",
       "    </tr>\n",
       "    <tr>\n",
       "      <th>73854</th>\n",
       "      <td>tt9886934</td>\n",
       "      <td>7.0</td>\n",
       "      <td>5</td>\n",
       "    </tr>\n",
       "    <tr>\n",
       "      <th>73855</th>\n",
       "      <td>tt9894098</td>\n",
       "      <td>6.3</td>\n",
       "      <td>128</td>\n",
       "    </tr>\n",
       "  </tbody>\n",
       "</table>\n",
       "<p>73856 rows × 3 columns</p>\n",
       "</div>"
      ],
      "text/plain": [
       "         movie_id  averagerating  numvotes\n",
       "0      tt10356526            8.3        31\n",
       "1      tt10384606            8.9       559\n",
       "2       tt1042974            6.4        20\n",
       "3       tt1043726            4.2     50352\n",
       "4       tt1060240            6.5        21\n",
       "...           ...            ...       ...\n",
       "73851   tt9805820            8.1        25\n",
       "73852   tt9844256            7.5        24\n",
       "73853   tt9851050            4.7        14\n",
       "73854   tt9886934            7.0         5\n",
       "73855   tt9894098            6.3       128\n",
       "\n",
       "[73856 rows x 3 columns]"
      ]
     },
     "execution_count": 7,
     "metadata": {},
     "output_type": "execute_result"
    }
   ],
   "source": [
    "# Selecting the movie_ratings table\n",
    "movie_ratings = pd.read_sql(\"SELECT * FROM movie_ratings;\", conn)\n",
    "movie_ratings"
   ]
  },
  {
   "cell_type": "markdown",
   "id": "fcf391c7",
   "metadata": {},
   "source": [
    "### Data Preparation"
   ]
  },
  {
   "cell_type": "markdown",
   "id": "3038234f",
   "metadata": {},
   "source": [
    "In preparing for the analysis of the data, missing values were either dropped or filled. "
   ]
  },
  {
   "cell_type": "code",
   "execution_count": 8,
   "id": "5ee881b5",
   "metadata": {},
   "outputs": [
    {
     "name": "stdout",
     "output_type": "stream",
     "text": [
      "<class 'pandas.core.frame.DataFrame'>\n",
      "RangeIndex: 3387 entries, 0 to 3386\n",
      "Data columns (total 5 columns):\n",
      " #   Column          Non-Null Count  Dtype  \n",
      "---  ------          --------------  -----  \n",
      " 0   title           3387 non-null   object \n",
      " 1   studio          3382 non-null   object \n",
      " 2   domestic_gross  3359 non-null   float64\n",
      " 3   foreign_gross   2037 non-null   object \n",
      " 4   year            3387 non-null   int64  \n",
      "dtypes: float64(1), int64(1), object(3)\n",
      "memory usage: 132.4+ KB\n"
     ]
    }
   ],
   "source": [
    "# General information on box_office_mojo\n",
    "box_office_mojo.info()"
   ]
  },
  {
   "cell_type": "code",
   "execution_count": 9,
   "id": "f167ba52",
   "metadata": {},
   "outputs": [],
   "source": [
    "# Dropping the foreign gross column\n",
    "box_office_mojo.drop(columns=[\"foreign_gross\"], inplace=True)\n",
    "\n",
    "# Filling missing values on studio column\n",
    "box_office_mojo[\"studio\"].fillna(\"Unknown\", inplace=True)\n",
    "\n",
    "# Filling missing values on domestic gross with zeros\n",
    "box_office_mojo[\"domestic_gross\"] = box_office_mojo[\"domestic_gross\"].fillna(0)"
   ]
  },
  {
   "cell_type": "code",
   "execution_count": 10,
   "id": "9ee54807",
   "metadata": {},
   "outputs": [
    {
     "name": "stdout",
     "output_type": "stream",
     "text": [
      "<class 'pandas.core.frame.DataFrame'>\n",
      "RangeIndex: 26517 entries, 0 to 26516\n",
      "Data columns (total 10 columns):\n",
      " #   Column             Non-Null Count  Dtype  \n",
      "---  ------             --------------  -----  \n",
      " 0   Unnamed: 0         26517 non-null  int64  \n",
      " 1   genre_ids          26517 non-null  object \n",
      " 2   id                 26517 non-null  int64  \n",
      " 3   original_language  26517 non-null  object \n",
      " 4   original_title     26517 non-null  object \n",
      " 5   popularity         26517 non-null  float64\n",
      " 6   release_date       26517 non-null  object \n",
      " 7   title              26517 non-null  object \n",
      " 8   vote_average       26517 non-null  float64\n",
      " 9   vote_count         26517 non-null  int64  \n",
      "dtypes: float64(2), int64(3), object(5)\n",
      "memory usage: 2.0+ MB\n"
     ]
    }
   ],
   "source": [
    "# General information \n",
    "the_movies_db.info()"
   ]
  },
  {
   "cell_type": "markdown",
   "id": "a45cbd5a",
   "metadata": {},
   "source": [
    "From the output above, the_movies_db dataset has 10 columns and 26517 rows. It has no missing values. "
   ]
  },
  {
   "cell_type": "code",
   "execution_count": 11,
   "id": "9e362ed0",
   "metadata": {},
   "outputs": [
    {
     "name": "stdout",
     "output_type": "stream",
     "text": [
      "<class 'pandas.core.frame.DataFrame'>\n",
      "RangeIndex: 5782 entries, 0 to 5781\n",
      "Data columns (total 6 columns):\n",
      " #   Column             Non-Null Count  Dtype \n",
      "---  ------             --------------  ----- \n",
      " 0   id                 5782 non-null   int64 \n",
      " 1   release_date       5782 non-null   object\n",
      " 2   movie              5782 non-null   object\n",
      " 3   production_budget  5782 non-null   object\n",
      " 4   domestic_gross     5782 non-null   object\n",
      " 5   worldwide_gross    5782 non-null   object\n",
      "dtypes: int64(1), object(5)\n",
      "memory usage: 271.2+ KB\n"
     ]
    }
   ],
   "source": [
    "movie_numbers.info()"
   ]
  },
  {
   "cell_type": "markdown",
   "id": "f54838a5",
   "metadata": {},
   "source": [
    "From the output above, the movie_numbers dataset has 6 columns and 5781 rows. It has no missing values. "
   ]
  },
  {
   "cell_type": "code",
   "execution_count": 12,
   "id": "1a102d32",
   "metadata": {},
   "outputs": [
    {
     "name": "stdout",
     "output_type": "stream",
     "text": [
      "<class 'pandas.core.frame.DataFrame'>\n",
      "RangeIndex: 73856 entries, 0 to 73855\n",
      "Data columns (total 3 columns):\n",
      " #   Column         Non-Null Count  Dtype  \n",
      "---  ------         --------------  -----  \n",
      " 0   movie_id       73856 non-null  object \n",
      " 1   averagerating  73856 non-null  float64\n",
      " 2   numvotes       73856 non-null  int64  \n",
      "dtypes: float64(1), int64(1), object(1)\n",
      "memory usage: 1.7+ MB\n"
     ]
    }
   ],
   "source": [
    "movie_ratings.info()"
   ]
  },
  {
   "cell_type": "markdown",
   "id": "2d60a8f9",
   "metadata": {},
   "source": [
    "From the output above, movie_ratings dataset has 3 columns and 73855 rows. It has no missing values. "
   ]
  },
  {
   "cell_type": "code",
   "execution_count": 13,
   "id": "b544422f",
   "metadata": {},
   "outputs": [
    {
     "name": "stdout",
     "output_type": "stream",
     "text": [
      "<class 'pandas.core.frame.DataFrame'>\n",
      "RangeIndex: 146144 entries, 0 to 146143\n",
      "Data columns (total 6 columns):\n",
      " #   Column           Non-Null Count   Dtype  \n",
      "---  ------           --------------   -----  \n",
      " 0   movie_id         146144 non-null  object \n",
      " 1   primary_title    146144 non-null  object \n",
      " 2   original_title   146123 non-null  object \n",
      " 3   start_year       146144 non-null  int64  \n",
      " 4   runtime_minutes  114405 non-null  float64\n",
      " 5   genres           140736 non-null  object \n",
      "dtypes: float64(1), int64(1), object(4)\n",
      "memory usage: 6.7+ MB\n"
     ]
    }
   ],
   "source": [
    "movie_basics.info()"
   ]
  },
  {
   "cell_type": "code",
   "execution_count": 14,
   "id": "7ba9573f",
   "metadata": {},
   "outputs": [],
   "source": [
    "# Filling the runtime minutes column with the mean\n",
    "movie_basics[\"runtime_minutes\"] = movie_basics[\"runtime_minutes\"].fillna(movie_basics[\"runtime_minutes\"].mean())"
   ]
  },
  {
   "cell_type": "code",
   "execution_count": 15,
   "id": "bfd49ee7",
   "metadata": {},
   "outputs": [
    {
     "name": "stdout",
     "output_type": "stream",
     "text": [
      "<class 'pandas.core.frame.DataFrame'>\n",
      "RangeIndex: 146144 entries, 0 to 146143\n",
      "Data columns (total 6 columns):\n",
      " #   Column           Non-Null Count   Dtype  \n",
      "---  ------           --------------   -----  \n",
      " 0   movie_id         146144 non-null  object \n",
      " 1   primary_title    146144 non-null  object \n",
      " 2   original_title   146123 non-null  object \n",
      " 3   start_year       146144 non-null  int64  \n",
      " 4   runtime_minutes  146144 non-null  float64\n",
      " 5   genres           140736 non-null  object \n",
      "dtypes: float64(1), int64(1), object(4)\n",
      "memory usage: 6.7+ MB\n"
     ]
    }
   ],
   "source": [
    "movie_basics.info()"
   ]
  },
  {
   "cell_type": "code",
   "execution_count": 16,
   "id": "a8d4df27",
   "metadata": {},
   "outputs": [],
   "source": [
    "# Filling the genre column with Unknown\n",
    "movie_basics[\"genres\"] = movie_basics[\"genres\"].fillna(\"Unknown\")\n",
    "\n",
    "# Filling the original title column with Unknown\n",
    "movie_basics[\"original_title\"] = movie_basics[\"original_title\"].fillna(\"Unknown\")"
   ]
  },
  {
   "cell_type": "code",
   "execution_count": 17,
   "id": "1fff4f1c",
   "metadata": {},
   "outputs": [
    {
     "name": "stdout",
     "output_type": "stream",
     "text": [
      "<class 'pandas.core.frame.DataFrame'>\n",
      "RangeIndex: 146144 entries, 0 to 146143\n",
      "Data columns (total 6 columns):\n",
      " #   Column           Non-Null Count   Dtype  \n",
      "---  ------           --------------   -----  \n",
      " 0   movie_id         146144 non-null  object \n",
      " 1   primary_title    146144 non-null  object \n",
      " 2   original_title   146144 non-null  object \n",
      " 3   start_year       146144 non-null  int64  \n",
      " 4   runtime_minutes  146144 non-null  float64\n",
      " 5   genres           146144 non-null  object \n",
      "dtypes: float64(1), int64(1), object(4)\n",
      "memory usage: 6.7+ MB\n"
     ]
    }
   ],
   "source": [
    "movie_basics.info()"
   ]
  },
  {
   "cell_type": "markdown",
   "id": "0d55a15a",
   "metadata": {},
   "source": [
    "From the output above, the dataset had no missing values. "
   ]
  },
  {
   "cell_type": "markdown",
   "id": "5c4d298b",
   "metadata": {},
   "source": [
    "### Objective 1: Identify Top-Performing Movie Genres Analyze which genres (e.g., Action, Comedy, Drama) consistently generate the highest box office revenue to guide future content strategy."
   ]
  },
  {
   "cell_type": "markdown",
   "id": "4d1410ce",
   "metadata": {},
   "source": [
    "Under this objective, data from IMDb and Box Office Mojo was merged to analyze genres. The primary genre was extracted, and the data was cleaned by converting runtime to numeric and dropping unnecessary columns. Genres were grouped to calculate average domestic gross, total gross, movie counts, and average IMDb ratings. A bar plot visualized the top 10 genres by average domestic gross, highlighting Adventure, Action, and Mystery as top-performing genres. Recommendations include focusing on these genres to maximize revenue.\n"
   ]
  },
  {
   "cell_type": "code",
   "execution_count": 18,
   "id": "45688299",
   "metadata": {},
   "outputs": [
    {
     "data": {
      "application/vnd.microsoft.datawrangler.viewer.v0+json": {
       "columns": [
        {
         "name": "index",
         "rawType": "int64",
         "type": "integer"
        },
        {
         "name": "movie_id",
         "rawType": "object",
         "type": "string"
        },
        {
         "name": "primary_title",
         "rawType": "object",
         "type": "string"
        },
        {
         "name": "original_title",
         "rawType": "object",
         "type": "string"
        },
        {
         "name": "start_year",
         "rawType": "int64",
         "type": "integer"
        },
        {
         "name": "runtime_minutes",
         "rawType": "float64",
         "type": "float"
        },
        {
         "name": "genres",
         "rawType": "object",
         "type": "string"
        },
        {
         "name": "averagerating",
         "rawType": "float64",
         "type": "float"
        },
        {
         "name": "numvotes",
         "rawType": "int64",
         "type": "integer"
        }
       ],
       "conversionMethod": "pd.DataFrame",
       "ref": "471ae660-e23c-4aa2-a344-7a697541b885",
       "rows": [
        [
         "0",
         "tt0063540",
         "Sunghursh",
         "Sunghursh",
         "2013",
         "175.0",
         "Action,Crime,Drama",
         "7.0",
         "77"
        ],
        [
         "1",
         "tt0066787",
         "One Day Before the Rainy Season",
         "Ashad Ka Ek Din",
         "2019",
         "114.0",
         "Biography,Drama",
         "7.2",
         "43"
        ],
        [
         "2",
         "tt0069049",
         "The Other Side of the Wind",
         "The Other Side of the Wind",
         "2018",
         "122.0",
         "Drama",
         "6.9",
         "4517"
        ],
        [
         "3",
         "tt0069204",
         "Sabse Bada Sukh",
         "Sabse Bada Sukh",
         "2018",
         null,
         "Comedy,Drama",
         "6.1",
         "13"
        ],
        [
         "4",
         "tt0100275",
         "The Wandering Soap Opera",
         "La Telenovela Errante",
         "2017",
         "80.0",
         "Comedy,Drama,Fantasy",
         "6.5",
         "119"
        ]
       ],
       "shape": {
        "columns": 8,
        "rows": 5
       }
      },
      "text/html": [
       "<div>\n",
       "<style scoped>\n",
       "    .dataframe tbody tr th:only-of-type {\n",
       "        vertical-align: middle;\n",
       "    }\n",
       "\n",
       "    .dataframe tbody tr th {\n",
       "        vertical-align: top;\n",
       "    }\n",
       "\n",
       "    .dataframe thead th {\n",
       "        text-align: right;\n",
       "    }\n",
       "</style>\n",
       "<table border=\"1\" class=\"dataframe\">\n",
       "  <thead>\n",
       "    <tr style=\"text-align: right;\">\n",
       "      <th></th>\n",
       "      <th>movie_id</th>\n",
       "      <th>primary_title</th>\n",
       "      <th>original_title</th>\n",
       "      <th>start_year</th>\n",
       "      <th>runtime_minutes</th>\n",
       "      <th>genres</th>\n",
       "      <th>averagerating</th>\n",
       "      <th>numvotes</th>\n",
       "    </tr>\n",
       "  </thead>\n",
       "  <tbody>\n",
       "    <tr>\n",
       "      <th>0</th>\n",
       "      <td>tt0063540</td>\n",
       "      <td>Sunghursh</td>\n",
       "      <td>Sunghursh</td>\n",
       "      <td>2013</td>\n",
       "      <td>175.0</td>\n",
       "      <td>Action,Crime,Drama</td>\n",
       "      <td>7.0</td>\n",
       "      <td>77</td>\n",
       "    </tr>\n",
       "    <tr>\n",
       "      <th>1</th>\n",
       "      <td>tt0066787</td>\n",
       "      <td>One Day Before the Rainy Season</td>\n",
       "      <td>Ashad Ka Ek Din</td>\n",
       "      <td>2019</td>\n",
       "      <td>114.0</td>\n",
       "      <td>Biography,Drama</td>\n",
       "      <td>7.2</td>\n",
       "      <td>43</td>\n",
       "    </tr>\n",
       "    <tr>\n",
       "      <th>2</th>\n",
       "      <td>tt0069049</td>\n",
       "      <td>The Other Side of the Wind</td>\n",
       "      <td>The Other Side of the Wind</td>\n",
       "      <td>2018</td>\n",
       "      <td>122.0</td>\n",
       "      <td>Drama</td>\n",
       "      <td>6.9</td>\n",
       "      <td>4517</td>\n",
       "    </tr>\n",
       "    <tr>\n",
       "      <th>3</th>\n",
       "      <td>tt0069204</td>\n",
       "      <td>Sabse Bada Sukh</td>\n",
       "      <td>Sabse Bada Sukh</td>\n",
       "      <td>2018</td>\n",
       "      <td>NaN</td>\n",
       "      <td>Comedy,Drama</td>\n",
       "      <td>6.1</td>\n",
       "      <td>13</td>\n",
       "    </tr>\n",
       "    <tr>\n",
       "      <th>4</th>\n",
       "      <td>tt0100275</td>\n",
       "      <td>The Wandering Soap Opera</td>\n",
       "      <td>La Telenovela Errante</td>\n",
       "      <td>2017</td>\n",
       "      <td>80.0</td>\n",
       "      <td>Comedy,Drama,Fantasy</td>\n",
       "      <td>6.5</td>\n",
       "      <td>119</td>\n",
       "    </tr>\n",
       "  </tbody>\n",
       "</table>\n",
       "</div>"
      ],
      "text/plain": [
       "    movie_id                    primary_title              original_title  \\\n",
       "0  tt0063540                        Sunghursh                   Sunghursh   \n",
       "1  tt0066787  One Day Before the Rainy Season             Ashad Ka Ek Din   \n",
       "2  tt0069049       The Other Side of the Wind  The Other Side of the Wind   \n",
       "3  tt0069204                  Sabse Bada Sukh             Sabse Bada Sukh   \n",
       "4  tt0100275         The Wandering Soap Opera       La Telenovela Errante   \n",
       "\n",
       "   start_year  runtime_minutes                genres  averagerating  numvotes  \n",
       "0        2013            175.0    Action,Crime,Drama            7.0        77  \n",
       "1        2019            114.0       Biography,Drama            7.2        43  \n",
       "2        2018            122.0                 Drama            6.9      4517  \n",
       "3        2018              NaN          Comedy,Drama            6.1        13  \n",
       "4        2017             80.0  Comedy,Drama,Fantasy            6.5       119  "
      ]
     },
     "execution_count": 18,
     "metadata": {},
     "output_type": "execute_result"
    }
   ],
   "source": [
    "# Merge movie basics and ratings from IMDB\n",
    "imdb_movies = pd.read_sql(\"\"\"\n",
    "SELECT \n",
    "    mb.movie_id,\n",
    "    mb.primary_title,\n",
    "    mb.original_title,\n",
    "    mb.start_year,\n",
    "    mb.runtime_minutes,\n",
    "    mb.genres,\n",
    "    mr.averagerating,\n",
    "    mr.numvotes\n",
    "FROM movie_basics mb\n",
    "JOIN movie_ratings mr ON mb.movie_id = mr.movie_id\n",
    "\"\"\", conn)\n",
    "\n",
    "imdb_movies.head()"
   ]
  },
  {
   "cell_type": "code",
   "execution_count": 19,
   "id": "d7e6845b",
   "metadata": {},
   "outputs": [
    {
     "data": {
      "application/vnd.microsoft.datawrangler.viewer.v0+json": {
       "columns": [
        {
         "name": "index",
         "rawType": "int64",
         "type": "integer"
        },
        {
         "name": "title",
         "rawType": "object",
         "type": "string"
        },
        {
         "name": "studio",
         "rawType": "object",
         "type": "string"
        },
        {
         "name": "domestic_gross",
         "rawType": "float64",
         "type": "float"
        },
        {
         "name": "year",
         "rawType": "int64",
         "type": "integer"
        },
        {
         "name": "movie_id",
         "rawType": "object",
         "type": "string"
        },
        {
         "name": "primary_title",
         "rawType": "object",
         "type": "string"
        },
        {
         "name": "original_title",
         "rawType": "object",
         "type": "string"
        },
        {
         "name": "start_year",
         "rawType": "int64",
         "type": "integer"
        },
        {
         "name": "runtime_minutes",
         "rawType": "float64",
         "type": "float"
        },
        {
         "name": "genres",
         "rawType": "object",
         "type": "string"
        },
        {
         "name": "averagerating",
         "rawType": "float64",
         "type": "float"
        },
        {
         "name": "numvotes",
         "rawType": "int64",
         "type": "integer"
        }
       ],
       "conversionMethod": "pd.DataFrame",
       "ref": "3eecd3c2-7b9e-4222-9ff8-f2d2c5500a8e",
       "rows": [
        [
         "0",
         "Toy Story 3",
         "BV",
         "415000000.0",
         "2010",
         "tt0435761",
         "Toy Story 3",
         "Toy Story 3",
         "2010",
         "103.0",
         "Adventure,Animation,Comedy",
         "8.3",
         "682218"
        ],
        [
         "1",
         "Inception",
         "WB",
         "292600000.0",
         "2010",
         "tt1375666",
         "Inception",
         "Inception",
         "2010",
         "148.0",
         "Action,Adventure,Sci-Fi",
         "8.8",
         "1841066"
        ],
        [
         "2",
         "Shrek Forever After",
         "P/DW",
         "238700000.0",
         "2010",
         "tt0892791",
         "Shrek Forever After",
         "Shrek Forever After",
         "2010",
         "93.0",
         "Adventure,Animation,Comedy",
         "6.3",
         "167532"
        ],
        [
         "3",
         "The Twilight Saga: Eclipse",
         "Sum.",
         "300500000.0",
         "2010",
         "tt1325004",
         "The Twilight Saga: Eclipse",
         "The Twilight Saga: Eclipse",
         "2010",
         "124.0",
         "Adventure,Drama,Fantasy",
         "5.0",
         "211733"
        ],
        [
         "4",
         "Iron Man 2",
         "Par.",
         "312400000.0",
         "2010",
         "tt1228705",
         "Iron Man 2",
         "Iron Man 2",
         "2010",
         "124.0",
         "Action,Adventure,Sci-Fi",
         "7.0",
         "657690"
        ]
       ],
       "shape": {
        "columns": 12,
        "rows": 5
       }
      },
      "text/html": [
       "<div>\n",
       "<style scoped>\n",
       "    .dataframe tbody tr th:only-of-type {\n",
       "        vertical-align: middle;\n",
       "    }\n",
       "\n",
       "    .dataframe tbody tr th {\n",
       "        vertical-align: top;\n",
       "    }\n",
       "\n",
       "    .dataframe thead th {\n",
       "        text-align: right;\n",
       "    }\n",
       "</style>\n",
       "<table border=\"1\" class=\"dataframe\">\n",
       "  <thead>\n",
       "    <tr style=\"text-align: right;\">\n",
       "      <th></th>\n",
       "      <th>title</th>\n",
       "      <th>studio</th>\n",
       "      <th>domestic_gross</th>\n",
       "      <th>year</th>\n",
       "      <th>movie_id</th>\n",
       "      <th>primary_title</th>\n",
       "      <th>original_title</th>\n",
       "      <th>start_year</th>\n",
       "      <th>runtime_minutes</th>\n",
       "      <th>genres</th>\n",
       "      <th>averagerating</th>\n",
       "      <th>numvotes</th>\n",
       "    </tr>\n",
       "  </thead>\n",
       "  <tbody>\n",
       "    <tr>\n",
       "      <th>0</th>\n",
       "      <td>Toy Story 3</td>\n",
       "      <td>BV</td>\n",
       "      <td>415000000.0</td>\n",
       "      <td>2010</td>\n",
       "      <td>tt0435761</td>\n",
       "      <td>Toy Story 3</td>\n",
       "      <td>Toy Story 3</td>\n",
       "      <td>2010</td>\n",
       "      <td>103.0</td>\n",
       "      <td>Adventure,Animation,Comedy</td>\n",
       "      <td>8.3</td>\n",
       "      <td>682218</td>\n",
       "    </tr>\n",
       "    <tr>\n",
       "      <th>1</th>\n",
       "      <td>Inception</td>\n",
       "      <td>WB</td>\n",
       "      <td>292600000.0</td>\n",
       "      <td>2010</td>\n",
       "      <td>tt1375666</td>\n",
       "      <td>Inception</td>\n",
       "      <td>Inception</td>\n",
       "      <td>2010</td>\n",
       "      <td>148.0</td>\n",
       "      <td>Action,Adventure,Sci-Fi</td>\n",
       "      <td>8.8</td>\n",
       "      <td>1841066</td>\n",
       "    </tr>\n",
       "    <tr>\n",
       "      <th>2</th>\n",
       "      <td>Shrek Forever After</td>\n",
       "      <td>P/DW</td>\n",
       "      <td>238700000.0</td>\n",
       "      <td>2010</td>\n",
       "      <td>tt0892791</td>\n",
       "      <td>Shrek Forever After</td>\n",
       "      <td>Shrek Forever After</td>\n",
       "      <td>2010</td>\n",
       "      <td>93.0</td>\n",
       "      <td>Adventure,Animation,Comedy</td>\n",
       "      <td>6.3</td>\n",
       "      <td>167532</td>\n",
       "    </tr>\n",
       "    <tr>\n",
       "      <th>3</th>\n",
       "      <td>The Twilight Saga: Eclipse</td>\n",
       "      <td>Sum.</td>\n",
       "      <td>300500000.0</td>\n",
       "      <td>2010</td>\n",
       "      <td>tt1325004</td>\n",
       "      <td>The Twilight Saga: Eclipse</td>\n",
       "      <td>The Twilight Saga: Eclipse</td>\n",
       "      <td>2010</td>\n",
       "      <td>124.0</td>\n",
       "      <td>Adventure,Drama,Fantasy</td>\n",
       "      <td>5.0</td>\n",
       "      <td>211733</td>\n",
       "    </tr>\n",
       "    <tr>\n",
       "      <th>4</th>\n",
       "      <td>Iron Man 2</td>\n",
       "      <td>Par.</td>\n",
       "      <td>312400000.0</td>\n",
       "      <td>2010</td>\n",
       "      <td>tt1228705</td>\n",
       "      <td>Iron Man 2</td>\n",
       "      <td>Iron Man 2</td>\n",
       "      <td>2010</td>\n",
       "      <td>124.0</td>\n",
       "      <td>Action,Adventure,Sci-Fi</td>\n",
       "      <td>7.0</td>\n",
       "      <td>657690</td>\n",
       "    </tr>\n",
       "  </tbody>\n",
       "</table>\n",
       "</div>"
      ],
      "text/plain": [
       "                        title studio  domestic_gross  year   movie_id  \\\n",
       "0                 Toy Story 3     BV     415000000.0  2010  tt0435761   \n",
       "1                   Inception     WB     292600000.0  2010  tt1375666   \n",
       "2         Shrek Forever After   P/DW     238700000.0  2010  tt0892791   \n",
       "3  The Twilight Saga: Eclipse   Sum.     300500000.0  2010  tt1325004   \n",
       "4                  Iron Man 2   Par.     312400000.0  2010  tt1228705   \n",
       "\n",
       "                primary_title              original_title  start_year  \\\n",
       "0                 Toy Story 3                 Toy Story 3        2010   \n",
       "1                   Inception                   Inception        2010   \n",
       "2         Shrek Forever After         Shrek Forever After        2010   \n",
       "3  The Twilight Saga: Eclipse  The Twilight Saga: Eclipse        2010   \n",
       "4                  Iron Man 2                  Iron Man 2        2010   \n",
       "\n",
       "   runtime_minutes                      genres  averagerating  numvotes  \n",
       "0            103.0  Adventure,Animation,Comedy            8.3    682218  \n",
       "1            148.0     Action,Adventure,Sci-Fi            8.8   1841066  \n",
       "2             93.0  Adventure,Animation,Comedy            6.3    167532  \n",
       "3            124.0     Adventure,Drama,Fantasy            5.0    211733  \n",
       "4            124.0     Action,Adventure,Sci-Fi            7.0    657690  "
      ]
     },
     "execution_count": 19,
     "metadata": {},
     "output_type": "execute_result"
    }
   ],
   "source": [
    "# Merge IMDB data with Box Office Mojo data\n",
    "# We'll use the movie title and year to match records\n",
    "merged_data = pd.merge(\n",
    "    box_office_mojo,\n",
    "    imdb_movies,\n",
    "    left_on=['title', 'year'],\n",
    "    right_on=['primary_title', 'start_year'],\n",
    "    how='inner'\n",
    ")\n",
    "\n",
    "merged_data.head()"
   ]
  },
  {
   "cell_type": "code",
   "execution_count": 20,
   "id": "9d6f02a4",
   "metadata": {},
   "outputs": [
    {
     "data": {
      "application/vnd.microsoft.datawrangler.viewer.v0+json": {
       "columns": [
        {
         "name": "index",
         "rawType": "int64",
         "type": "integer"
        },
        {
         "name": "studio",
         "rawType": "object",
         "type": "string"
        },
        {
         "name": "domestic_gross",
         "rawType": "float64",
         "type": "float"
        },
        {
         "name": "year",
         "rawType": "int64",
         "type": "integer"
        },
        {
         "name": "movie_id",
         "rawType": "object",
         "type": "string"
        },
        {
         "name": "start_year",
         "rawType": "int64",
         "type": "integer"
        },
        {
         "name": "runtime_minutes",
         "rawType": "float64",
         "type": "float"
        },
        {
         "name": "genres",
         "rawType": "object",
         "type": "string"
        },
        {
         "name": "averagerating",
         "rawType": "float64",
         "type": "float"
        },
        {
         "name": "numvotes",
         "rawType": "int64",
         "type": "integer"
        },
        {
         "name": "primary_genre",
         "rawType": "object",
         "type": "string"
        }
       ],
       "conversionMethod": "pd.DataFrame",
       "ref": "d4403a95-ae6b-47f1-9880-fb63114395e7",
       "rows": [
        [
         "0",
         "BV",
         "415000000.0",
         "2010",
         "tt0435761",
         "2010",
         "103.0",
         "Adventure,Animation,Comedy",
         "8.3",
         "682218",
         "Adventure"
        ],
        [
         "1",
         "WB",
         "292600000.0",
         "2010",
         "tt1375666",
         "2010",
         "148.0",
         "Action,Adventure,Sci-Fi",
         "8.8",
         "1841066",
         "Action"
        ],
        [
         "2",
         "P/DW",
         "238700000.0",
         "2010",
         "tt0892791",
         "2010",
         "93.0",
         "Adventure,Animation,Comedy",
         "6.3",
         "167532",
         "Adventure"
        ],
        [
         "3",
         "Sum.",
         "300500000.0",
         "2010",
         "tt1325004",
         "2010",
         "124.0",
         "Adventure,Drama,Fantasy",
         "5.0",
         "211733",
         "Adventure"
        ],
        [
         "4",
         "Par.",
         "312400000.0",
         "2010",
         "tt1228705",
         "2010",
         "124.0",
         "Action,Adventure,Sci-Fi",
         "7.0",
         "657690",
         "Action"
        ]
       ],
       "shape": {
        "columns": 10,
        "rows": 5
       }
      },
      "text/html": [
       "<div>\n",
       "<style scoped>\n",
       "    .dataframe tbody tr th:only-of-type {\n",
       "        vertical-align: middle;\n",
       "    }\n",
       "\n",
       "    .dataframe tbody tr th {\n",
       "        vertical-align: top;\n",
       "    }\n",
       "\n",
       "    .dataframe thead th {\n",
       "        text-align: right;\n",
       "    }\n",
       "</style>\n",
       "<table border=\"1\" class=\"dataframe\">\n",
       "  <thead>\n",
       "    <tr style=\"text-align: right;\">\n",
       "      <th></th>\n",
       "      <th>studio</th>\n",
       "      <th>domestic_gross</th>\n",
       "      <th>year</th>\n",
       "      <th>movie_id</th>\n",
       "      <th>start_year</th>\n",
       "      <th>runtime_minutes</th>\n",
       "      <th>genres</th>\n",
       "      <th>averagerating</th>\n",
       "      <th>numvotes</th>\n",
       "      <th>primary_genre</th>\n",
       "    </tr>\n",
       "  </thead>\n",
       "  <tbody>\n",
       "    <tr>\n",
       "      <th>0</th>\n",
       "      <td>BV</td>\n",
       "      <td>415000000.0</td>\n",
       "      <td>2010</td>\n",
       "      <td>tt0435761</td>\n",
       "      <td>2010</td>\n",
       "      <td>103.0</td>\n",
       "      <td>Adventure,Animation,Comedy</td>\n",
       "      <td>8.3</td>\n",
       "      <td>682218</td>\n",
       "      <td>Adventure</td>\n",
       "    </tr>\n",
       "    <tr>\n",
       "      <th>1</th>\n",
       "      <td>WB</td>\n",
       "      <td>292600000.0</td>\n",
       "      <td>2010</td>\n",
       "      <td>tt1375666</td>\n",
       "      <td>2010</td>\n",
       "      <td>148.0</td>\n",
       "      <td>Action,Adventure,Sci-Fi</td>\n",
       "      <td>8.8</td>\n",
       "      <td>1841066</td>\n",
       "      <td>Action</td>\n",
       "    </tr>\n",
       "    <tr>\n",
       "      <th>2</th>\n",
       "      <td>P/DW</td>\n",
       "      <td>238700000.0</td>\n",
       "      <td>2010</td>\n",
       "      <td>tt0892791</td>\n",
       "      <td>2010</td>\n",
       "      <td>93.0</td>\n",
       "      <td>Adventure,Animation,Comedy</td>\n",
       "      <td>6.3</td>\n",
       "      <td>167532</td>\n",
       "      <td>Adventure</td>\n",
       "    </tr>\n",
       "    <tr>\n",
       "      <th>3</th>\n",
       "      <td>Sum.</td>\n",
       "      <td>300500000.0</td>\n",
       "      <td>2010</td>\n",
       "      <td>tt1325004</td>\n",
       "      <td>2010</td>\n",
       "      <td>124.0</td>\n",
       "      <td>Adventure,Drama,Fantasy</td>\n",
       "      <td>5.0</td>\n",
       "      <td>211733</td>\n",
       "      <td>Adventure</td>\n",
       "    </tr>\n",
       "    <tr>\n",
       "      <th>4</th>\n",
       "      <td>Par.</td>\n",
       "      <td>312400000.0</td>\n",
       "      <td>2010</td>\n",
       "      <td>tt1228705</td>\n",
       "      <td>2010</td>\n",
       "      <td>124.0</td>\n",
       "      <td>Action,Adventure,Sci-Fi</td>\n",
       "      <td>7.0</td>\n",
       "      <td>657690</td>\n",
       "      <td>Action</td>\n",
       "    </tr>\n",
       "  </tbody>\n",
       "</table>\n",
       "</div>"
      ],
      "text/plain": [
       "  studio  domestic_gross  year   movie_id  start_year  runtime_minutes  \\\n",
       "0     BV     415000000.0  2010  tt0435761        2010            103.0   \n",
       "1     WB     292600000.0  2010  tt1375666        2010            148.0   \n",
       "2   P/DW     238700000.0  2010  tt0892791        2010             93.0   \n",
       "3   Sum.     300500000.0  2010  tt1325004        2010            124.0   \n",
       "4   Par.     312400000.0  2010  tt1228705        2010            124.0   \n",
       "\n",
       "                       genres  averagerating  numvotes primary_genre  \n",
       "0  Adventure,Animation,Comedy            8.3    682218     Adventure  \n",
       "1     Action,Adventure,Sci-Fi            8.8   1841066        Action  \n",
       "2  Adventure,Animation,Comedy            6.3    167532     Adventure  \n",
       "3     Adventure,Drama,Fantasy            5.0    211733     Adventure  \n",
       "4     Action,Adventure,Sci-Fi            7.0    657690        Action  "
      ]
     },
     "execution_count": 20,
     "metadata": {},
     "output_type": "execute_result"
    }
   ],
   "source": [
    "# Clean the merged data\n",
    "# Extract first genre from the genres column (genres are separated by commas)\n",
    "merged_data['primary_genre'] = merged_data['genres'].str.split(',').str[0]\n",
    "\n",
    "# Convert runtime_minutes to numeric\n",
    "merged_data['runtime_minutes'] = pd.to_numeric(merged_data['runtime_minutes'], errors='coerce')\n",
    "\n",
    "# Drop unnecessary columns\n",
    "merged_data = merged_data.drop(['title', 'primary_title', 'original_title'], axis=1)\n",
    "\n",
    "merged_data.head()"
   ]
  },
  {
   "cell_type": "code",
   "execution_count": 21,
   "id": "95db97f6",
   "metadata": {},
   "outputs": [],
   "source": [
    "# Format the output to display full numbers instead of scientific notation for readability\n",
    "pd.options.display.float_format = '{:,.2f}'.format"
   ]
  },
  {
   "cell_type": "code",
   "execution_count": 22,
   "id": "520ecbf7",
   "metadata": {},
   "outputs": [
    {
     "data": {
      "application/vnd.microsoft.datawrangler.viewer.v0+json": {
       "columns": [
        {
         "name": "primary_genre",
         "rawType": "object",
         "type": "string"
        },
        {
         "name": "('domestic_gross', 'mean')",
         "rawType": "float64",
         "type": "float"
        },
        {
         "name": "('domestic_gross', 'sum')",
         "rawType": "float64",
         "type": "float"
        },
        {
         "name": "('domestic_gross', 'count')",
         "rawType": "int64",
         "type": "integer"
        },
        {
         "name": "('averagerating', 'mean')",
         "rawType": "float64",
         "type": "float"
        }
       ],
       "conversionMethod": "pd.DataFrame",
       "ref": "8a20c698-d61b-485e-822c-585f9caf04ce",
       "rows": [
        [
         "Adventure",
         "89626184.92168675",
         "14877946697.0",
         "166",
         "6.45301204819277"
        ],
        [
         "Action",
         "69388471.88527724",
         "36290170796.0",
         "523",
         "6.317973231357547"
        ],
        [
         "Mystery",
         "67056600.0",
         "335283000.0",
         "5",
         "7.2"
        ],
        [
         "Animation",
         "53007005.88235294",
         "901119100.0",
         "17",
         "6.370588235294117"
        ],
        [
         "Horror",
         "39111995.5882353",
         "2659615700.0",
         "68",
         "5.4764705882352915"
        ],
        [
         "Comedy",
         "27255379.0906801",
         "10820385499.0",
         "397",
         "6.1299748110831205"
        ],
        [
         "Biography",
         "26044530.710843373",
         "4323392098.0",
         "166",
         "7.031927710843375"
        ],
        [
         "Crime",
         "20735687.5",
         "1658855000.0",
         "80",
         "6.6575000000000015"
        ],
        [
         "Drama",
         "18532458.3556231",
         "6097178799.0",
         "329",
         "6.583282674772032"
        ],
        [
         "Romance",
         "9264714.285714285",
         "64853000.0",
         "7",
         "5.914285714285714"
        ]
       ],
       "shape": {
        "columns": 4,
        "rows": 10
       }
      },
      "text/html": [
       "<div>\n",
       "<style scoped>\n",
       "    .dataframe tbody tr th:only-of-type {\n",
       "        vertical-align: middle;\n",
       "    }\n",
       "\n",
       "    .dataframe tbody tr th {\n",
       "        vertical-align: top;\n",
       "    }\n",
       "\n",
       "    .dataframe thead tr th {\n",
       "        text-align: left;\n",
       "    }\n",
       "\n",
       "    .dataframe thead tr:last-of-type th {\n",
       "        text-align: right;\n",
       "    }\n",
       "</style>\n",
       "<table border=\"1\" class=\"dataframe\">\n",
       "  <thead>\n",
       "    <tr>\n",
       "      <th></th>\n",
       "      <th colspan=\"3\" halign=\"left\">domestic_gross</th>\n",
       "      <th>averagerating</th>\n",
       "    </tr>\n",
       "    <tr>\n",
       "      <th></th>\n",
       "      <th>mean</th>\n",
       "      <th>sum</th>\n",
       "      <th>count</th>\n",
       "      <th>mean</th>\n",
       "    </tr>\n",
       "    <tr>\n",
       "      <th>primary_genre</th>\n",
       "      <th></th>\n",
       "      <th></th>\n",
       "      <th></th>\n",
       "      <th></th>\n",
       "    </tr>\n",
       "  </thead>\n",
       "  <tbody>\n",
       "    <tr>\n",
       "      <th>Adventure</th>\n",
       "      <td>89,626,184.92</td>\n",
       "      <td>14,877,946,697.00</td>\n",
       "      <td>166</td>\n",
       "      <td>6.45</td>\n",
       "    </tr>\n",
       "    <tr>\n",
       "      <th>Action</th>\n",
       "      <td>69,388,471.89</td>\n",
       "      <td>36,290,170,796.00</td>\n",
       "      <td>523</td>\n",
       "      <td>6.32</td>\n",
       "    </tr>\n",
       "    <tr>\n",
       "      <th>Mystery</th>\n",
       "      <td>67,056,600.00</td>\n",
       "      <td>335,283,000.00</td>\n",
       "      <td>5</td>\n",
       "      <td>7.20</td>\n",
       "    </tr>\n",
       "    <tr>\n",
       "      <th>Animation</th>\n",
       "      <td>53,007,005.88</td>\n",
       "      <td>901,119,100.00</td>\n",
       "      <td>17</td>\n",
       "      <td>6.37</td>\n",
       "    </tr>\n",
       "    <tr>\n",
       "      <th>Horror</th>\n",
       "      <td>39,111,995.59</td>\n",
       "      <td>2,659,615,700.00</td>\n",
       "      <td>68</td>\n",
       "      <td>5.48</td>\n",
       "    </tr>\n",
       "    <tr>\n",
       "      <th>Comedy</th>\n",
       "      <td>27,255,379.09</td>\n",
       "      <td>10,820,385,499.00</td>\n",
       "      <td>397</td>\n",
       "      <td>6.13</td>\n",
       "    </tr>\n",
       "    <tr>\n",
       "      <th>Biography</th>\n",
       "      <td>26,044,530.71</td>\n",
       "      <td>4,323,392,098.00</td>\n",
       "      <td>166</td>\n",
       "      <td>7.03</td>\n",
       "    </tr>\n",
       "    <tr>\n",
       "      <th>Crime</th>\n",
       "      <td>20,735,687.50</td>\n",
       "      <td>1,658,855,000.00</td>\n",
       "      <td>80</td>\n",
       "      <td>6.66</td>\n",
       "    </tr>\n",
       "    <tr>\n",
       "      <th>Drama</th>\n",
       "      <td>18,532,458.36</td>\n",
       "      <td>6,097,178,799.00</td>\n",
       "      <td>329</td>\n",
       "      <td>6.58</td>\n",
       "    </tr>\n",
       "    <tr>\n",
       "      <th>Romance</th>\n",
       "      <td>9,264,714.29</td>\n",
       "      <td>64,853,000.00</td>\n",
       "      <td>7</td>\n",
       "      <td>5.91</td>\n",
       "    </tr>\n",
       "  </tbody>\n",
       "</table>\n",
       "</div>"
      ],
      "text/plain": [
       "              domestic_gross                         averagerating\n",
       "                        mean               sum count          mean\n",
       "primary_genre                                                     \n",
       "Adventure      89,626,184.92 14,877,946,697.00   166          6.45\n",
       "Action         69,388,471.89 36,290,170,796.00   523          6.32\n",
       "Mystery        67,056,600.00    335,283,000.00     5          7.20\n",
       "Animation      53,007,005.88    901,119,100.00    17          6.37\n",
       "Horror         39,111,995.59  2,659,615,700.00    68          5.48\n",
       "Comedy         27,255,379.09 10,820,385,499.00   397          6.13\n",
       "Biography      26,044,530.71  4,323,392,098.00   166          7.03\n",
       "Crime          20,735,687.50  1,658,855,000.00    80          6.66\n",
       "Drama          18,532,458.36  6,097,178,799.00   329          6.58\n",
       "Romance         9,264,714.29     64,853,000.00     7          5.91"
      ]
     },
     "execution_count": 22,
     "metadata": {},
     "output_type": "execute_result"
    }
   ],
   "source": [
    "# Analyze by genre\n",
    "genre_analysis = merged_data.groupby('primary_genre').agg({\n",
    "    'domestic_gross': ['mean', 'sum', 'count'],\n",
    "    'averagerating': 'mean'\n",
    "}).sort_values(('domestic_gross', 'mean'), ascending=False)\n",
    "\n",
    "genre_analysis.head(10)"
   ]
  },
  {
   "cell_type": "code",
   "execution_count": 23,
   "id": "f43b2a49",
   "metadata": {},
   "outputs": [
    {
     "data": {
      "image/png": "[encoded data removed]",
      "text/plain": [
       "<Figure size 864x432 with 1 Axes>"
      ]
     },
     "metadata": {
      "needs_background": "light"
     },
     "output_type": "display_data"
    }
   ],
   "source": [
    "# Plotting the top ten genres \n",
    "plt.figure(figsize=(12, 6))\n",
    "top_genres = genre_analysis.sort_values(('domestic_gross', 'mean'), ascending=False).head(10)\n",
    "sns.barplot(\n",
    "    x=top_genres.index,\n",
    "    y=top_genres[('domestic_gross', 'mean')]/1000000  # Convert to millions\n",
    ")\n",
    "plt.title('Top 10 Genres by Average Domestic Gross (in millions)')\n",
    "plt.xlabel('Genre')\n",
    "plt.ylabel('Average Domestic Gross (Millions USD)')\n",
    "plt.xticks(rotation=45)\n",
    "plt.show()"
   ]
  },
  {
   "cell_type": "code",
   "execution_count": 24,
   "id": "a1291a6b",
   "metadata": {},
   "outputs": [],
   "source": [
    "# Changing the data type of the production budget column to float data type\n",
    "movie_numbers['production_budget'] = movie_numbers['production_budget'].replace(r'[\\$,]', '', regex=True).astype(float)"
   ]
  },
  {
   "cell_type": "markdown",
   "id": "db62bd47",
   "metadata": {},
   "source": [
    "### 2. Evaluate seasonal and regional trends "
   ]
  },
  {
   "cell_type": "markdown",
   "id": "fa576395",
   "metadata": {},
   "source": [
    "Under Objective 2, the analysis focuses on evaluating seasonal and regional trends in movie performance. The `selected_merged_movies_info` DataFrame is used to categorize movies by season (Winter, Spring, Summer, Fall) based on their release dates. Average domestic and worldwide gross revenues are calculated for each season, revealing that Summer is the highest-grossing season, followed by Spring. A bar plot is created to visualize these trends, providing actionable insights for optimizing movie release schedules to maximize revenue.\n"
   ]
  },
  {
   "cell_type": "code",
   "execution_count": 25,
   "id": "56db8f62",
   "metadata": {},
   "outputs": [],
   "source": [
    "# Mapping genre IDs to genre names using a dictionary\n",
    "genre_dict = {\n",
    "    28: \"Action\", 12: \"Adventure\", 16: \"Animation\", 35: \"Comedy\", 80: \"Crime\",\n",
    "    99: \"Documentary\", 18: \"Drama\", 10751: \"Family\", 14: \"Fantasy\", 36: \"History\",\n",
    "    27: \"Horror\", 10402: \"Music\", 9648: \"Mystery\", 10749: \"Romance\", 878: \"Science Fiction\",\n",
    "    10770: \"TV Movie\", 53: \"Thriller\", 10752: \"War\", 37: \"Western\"\n",
    "}"
   ]
  },
  {
   "cell_type": "code",
   "execution_count": 26,
   "id": "288faff0",
   "metadata": {},
   "outputs": [
    {
     "data": {
      "application/vnd.microsoft.datawrangler.viewer.v0+json": {
       "columns": [
        {
         "name": "index",
         "rawType": "int64",
         "type": "integer"
        },
        {
         "name": "genre_ids",
         "rawType": "object",
         "type": "string"
        },
        {
         "name": "genre_names",
         "rawType": "object",
         "type": "string"
        }
       ],
       "conversionMethod": "pd.DataFrame",
       "ref": "620849aa-25c9-4d20-a064-440b77504c75",
       "rows": [
        [
         "0",
         "[12, 14, 10751]",
         "['Adventure', 'Fantasy', 'Family']"
        ],
        [
         "1",
         "[14, 12, 16, 10751]",
         "['Fantasy', 'Adventure', 'Animation', 'Family']"
        ],
        [
         "2",
         "[12, 28, 878]",
         "['Adventure', 'Action', 'Science Fiction']"
        ],
        [
         "3",
         "[16, 35, 10751]",
         "['Animation', 'Comedy', 'Family']"
        ],
        [
         "4",
         "[28, 878, 12]",
         "['Action', 'Science Fiction', 'Adventure']"
        ]
       ],
       "shape": {
        "columns": 2,
        "rows": 5
       }
      },
      "text/html": [
       "<div>\n",
       "<style scoped>\n",
       "    .dataframe tbody tr th:only-of-type {\n",
       "        vertical-align: middle;\n",
       "    }\n",
       "\n",
       "    .dataframe tbody tr th {\n",
       "        vertical-align: top;\n",
       "    }\n",
       "\n",
       "    .dataframe thead th {\n",
       "        text-align: right;\n",
       "    }\n",
       "</style>\n",
       "<table border=\"1\" class=\"dataframe\">\n",
       "  <thead>\n",
       "    <tr style=\"text-align: right;\">\n",
       "      <th></th>\n",
       "      <th>genre_ids</th>\n",
       "      <th>genre_names</th>\n",
       "    </tr>\n",
       "  </thead>\n",
       "  <tbody>\n",
       "    <tr>\n",
       "      <th>0</th>\n",
       "      <td>[12, 14, 10751]</td>\n",
       "      <td>[Adventure, Fantasy, Family]</td>\n",
       "    </tr>\n",
       "    <tr>\n",
       "      <th>1</th>\n",
       "      <td>[14, 12, 16, 10751]</td>\n",
       "      <td>[Fantasy, Adventure, Animation, Family]</td>\n",
       "    </tr>\n",
       "    <tr>\n",
       "      <th>2</th>\n",
       "      <td>[12, 28, 878]</td>\n",
       "      <td>[Adventure, Action, Science Fiction]</td>\n",
       "    </tr>\n",
       "    <tr>\n",
       "      <th>3</th>\n",
       "      <td>[16, 35, 10751]</td>\n",
       "      <td>[Animation, Comedy, Family]</td>\n",
       "    </tr>\n",
       "    <tr>\n",
       "      <th>4</th>\n",
       "      <td>[28, 878, 12]</td>\n",
       "      <td>[Action, Science Fiction, Adventure]</td>\n",
       "    </tr>\n",
       "  </tbody>\n",
       "</table>\n",
       "</div>"
      ],
      "text/plain": [
       "             genre_ids                              genre_names\n",
       "0      [12, 14, 10751]             [Adventure, Fantasy, Family]\n",
       "1  [14, 12, 16, 10751]  [Fantasy, Adventure, Animation, Family]\n",
       "2        [12, 28, 878]     [Adventure, Action, Science Fiction]\n",
       "3      [16, 35, 10751]              [Animation, Comedy, Family]\n",
       "4        [28, 878, 12]     [Action, Science Fiction, Adventure]"
      ]
     },
     "execution_count": 26,
     "metadata": {},
     "output_type": "execute_result"
    }
   ],
   "source": [
    "# Convert genre IDs to genre names\n",
    "# Map genre IDs to genre names directly\n",
    "import json\n",
    "the_movies_db['genre_names'] = the_movies_db['genre_ids'].apply(\n",
    "    lambda x: [genre_dict.get(genre_id, \"Unknown\") for genre_id in json.loads(x)]\n",
    ") # Converting json strings into python objects using json.loads()\n",
    "\n",
    "# Display the updated DataFrame\n",
    "the_movies_db[['genre_ids', 'genre_names']].head()"
   ]
  },
  {
   "cell_type": "code",
   "execution_count": 27,
   "id": "0cd8a43f",
   "metadata": {},
   "outputs": [
    {
     "data": {
      "application/vnd.microsoft.datawrangler.viewer.v0+json": {
       "columns": [
        {
         "name": "index",
         "rawType": "int64",
         "type": "integer"
        },
        {
         "name": "id_x",
         "rawType": "int64",
         "type": "integer"
        },
        {
         "name": "release_date_x",
         "rawType": "object",
         "type": "string"
        },
        {
         "name": "movie",
         "rawType": "object",
         "type": "string"
        },
        {
         "name": "production_budget",
         "rawType": "float64",
         "type": "float"
        },
        {
         "name": "domestic_gross",
         "rawType": "object",
         "type": "string"
        },
        {
         "name": "worldwide_gross",
         "rawType": "object",
         "type": "string"
        },
        {
         "name": "Unnamed: 0",
         "rawType": "int64",
         "type": "integer"
        },
        {
         "name": "genre_ids",
         "rawType": "object",
         "type": "string"
        },
        {
         "name": "id_y",
         "rawType": "int64",
         "type": "integer"
        },
        {
         "name": "original_language",
         "rawType": "object",
         "type": "string"
        },
        {
         "name": "original_title",
         "rawType": "object",
         "type": "string"
        },
        {
         "name": "popularity",
         "rawType": "float64",
         "type": "float"
        },
        {
         "name": "release_date_y",
         "rawType": "object",
         "type": "string"
        },
        {
         "name": "title",
         "rawType": "object",
         "type": "string"
        },
        {
         "name": "vote_average",
         "rawType": "float64",
         "type": "float"
        },
        {
         "name": "vote_count",
         "rawType": "int64",
         "type": "integer"
        },
        {
         "name": "genre_names",
         "rawType": "object",
         "type": "string"
        }
       ],
       "conversionMethod": "pd.DataFrame",
       "ref": "6dbe20e8-45bf-4527-a31b-228543841d45",
       "rows": [
        [
         "0",
         "1",
         "Dec 18, 2009",
         "Avatar",
         "425000000.0",
         "$760,507,625",
         "$2,776,345,279",
         "6",
         "[28, 12, 14, 878]",
         "19995",
         "en",
         "Avatar",
         "26.526",
         "2009-12-18",
         "Avatar",
         "7.4",
         "18676",
         "['Action', 'Adventure', 'Fantasy', 'Science Fiction']"
        ],
        [
         "1",
         "2",
         "May 20, 2011",
         "Pirates of the Caribbean: On Stranger Tides",
         "410600000.0",
         "$241,063,875",
         "$1,045,663,875",
         "2470",
         "[12, 28, 14]",
         "1865",
         "en",
         "Pirates of the Caribbean: On Stranger Tides",
         "30.579",
         "2011-05-20",
         "Pirates of the Caribbean: On Stranger Tides",
         "6.4",
         "8571",
         "['Adventure', 'Action', 'Fantasy']"
        ],
        [
         "2",
         "4",
         "May 1, 2015",
         "Avengers: Age of Ultron",
         "330600000.0",
         "$459,005,868",
         "$1,403,013,963",
         "14169",
         "[28, 12, 878]",
         "99861",
         "en",
         "Avengers: Age of Ultron",
         "44.383",
         "2015-05-01",
         "Avengers: Age of Ultron",
         "7.3",
         "13457",
         "['Action', 'Adventure', 'Science Fiction']"
        ],
        [
         "3",
         "7",
         "Apr 27, 2018",
         "Avengers: Infinity War",
         "300000000.0",
         "$678,815,482",
         "$2,048,134,200",
         "23811",
         "[12, 28, 14]",
         "299536",
         "en",
         "Avengers: Infinity War",
         "80.773",
         "2018-04-27",
         "Avengers: Infinity War",
         "8.3",
         "13948",
         "['Adventure', 'Action', 'Fantasy']"
        ],
        [
         "4",
         "9",
         "Nov 17, 2017",
         "Justice League",
         "300000000.0",
         "$229,024,295",
         "$655,945,209",
         "20623",
         "[28, 12, 14, 878]",
         "141052",
         "en",
         "Justice League",
         "34.953",
         "2017-11-17",
         "Justice League",
         "6.2",
         "7510",
         "['Action', 'Adventure', 'Fantasy', 'Science Fiction']"
        ]
       ],
       "shape": {
        "columns": 17,
        "rows": 5
       }
      },
      "text/html": [
       "<div>\n",
       "<style scoped>\n",
       "    .dataframe tbody tr th:only-of-type {\n",
       "        vertical-align: middle;\n",
       "    }\n",
       "\n",
       "    .dataframe tbody tr th {\n",
       "        vertical-align: top;\n",
       "    }\n",
       "\n",
       "    .dataframe thead th {\n",
       "        text-align: right;\n",
       "    }\n",
       "</style>\n",
       "<table border=\"1\" class=\"dataframe\">\n",
       "  <thead>\n",
       "    <tr style=\"text-align: right;\">\n",
       "      <th></th>\n",
       "      <th>id_x</th>\n",
       "      <th>release_date_x</th>\n",
       "      <th>movie</th>\n",
       "      <th>production_budget</th>\n",
       "      <th>domestic_gross</th>\n",
       "      <th>worldwide_gross</th>\n",
       "      <th>Unnamed: 0</th>\n",
       "      <th>genre_ids</th>\n",
       "      <th>id_y</th>\n",
       "      <th>original_language</th>\n",
       "      <th>original_title</th>\n",
       "      <th>popularity</th>\n",
       "      <th>release_date_y</th>\n",
       "      <th>title</th>\n",
       "      <th>vote_average</th>\n",
       "      <th>vote_count</th>\n",
       "      <th>genre_names</th>\n",
       "    </tr>\n",
       "  </thead>\n",
       "  <tbody>\n",
       "    <tr>\n",
       "      <th>0</th>\n",
       "      <td>1</td>\n",
       "      <td>Dec 18, 2009</td>\n",
       "      <td>Avatar</td>\n",
       "      <td>425,000,000.00</td>\n",
       "      <td>$760,507,625</td>\n",
       "      <td>$2,776,345,279</td>\n",
       "      <td>6</td>\n",
       "      <td>[28, 12, 14, 878]</td>\n",
       "      <td>19995</td>\n",
       "      <td>en</td>\n",
       "      <td>Avatar</td>\n",
       "      <td>26.53</td>\n",
       "      <td>2009-12-18</td>\n",
       "      <td>Avatar</td>\n",
       "      <td>7.40</td>\n",
       "      <td>18676</td>\n",
       "      <td>[Action, Adventure, Fantasy, Science Fiction]</td>\n",
       "    </tr>\n",
       "    <tr>\n",
       "      <th>1</th>\n",
       "      <td>2</td>\n",
       "      <td>May 20, 2011</td>\n",
       "      <td>Pirates of the Caribbean: On Stranger Tides</td>\n",
       "      <td>410,600,000.00</td>\n",
       "      <td>$241,063,875</td>\n",
       "      <td>$1,045,663,875</td>\n",
       "      <td>2470</td>\n",
       "      <td>[12, 28, 14]</td>\n",
       "      <td>1865</td>\n",
       "      <td>en</td>\n",
       "      <td>Pirates of the Caribbean: On Stranger Tides</td>\n",
       "      <td>30.58</td>\n",
       "      <td>2011-05-20</td>\n",
       "      <td>Pirates of the Caribbean: On Stranger Tides</td>\n",
       "      <td>6.40</td>\n",
       "      <td>8571</td>\n",
       "      <td>[Adventure, Action, Fantasy]</td>\n",
       "    </tr>\n",
       "    <tr>\n",
       "      <th>2</th>\n",
       "      <td>4</td>\n",
       "      <td>May 1, 2015</td>\n",
       "      <td>Avengers: Age of Ultron</td>\n",
       "      <td>330,600,000.00</td>\n",
       "      <td>$459,005,868</td>\n",
       "      <td>$1,403,013,963</td>\n",
       "      <td>14169</td>\n",
       "      <td>[28, 12, 878]</td>\n",
       "      <td>99861</td>\n",
       "      <td>en</td>\n",
       "      <td>Avengers: Age of Ultron</td>\n",
       "      <td>44.38</td>\n",
       "      <td>2015-05-01</td>\n",
       "      <td>Avengers: Age of Ultron</td>\n",
       "      <td>7.30</td>\n",
       "      <td>13457</td>\n",
       "      <td>[Action, Adventure, Science Fiction]</td>\n",
       "    </tr>\n",
       "    <tr>\n",
       "      <th>3</th>\n",
       "      <td>7</td>\n",
       "      <td>Apr 27, 2018</td>\n",
       "      <td>Avengers: Infinity War</td>\n",
       "      <td>300,000,000.00</td>\n",
       "      <td>$678,815,482</td>\n",
       "      <td>$2,048,134,200</td>\n",
       "      <td>23811</td>\n",
       "      <td>[12, 28, 14]</td>\n",
       "      <td>299536</td>\n",
       "      <td>en</td>\n",
       "      <td>Avengers: Infinity War</td>\n",
       "      <td>80.77</td>\n",
       "      <td>2018-04-27</td>\n",
       "      <td>Avengers: Infinity War</td>\n",
       "      <td>8.30</td>\n",
       "      <td>13948</td>\n",
       "      <td>[Adventure, Action, Fantasy]</td>\n",
       "    </tr>\n",
       "    <tr>\n",
       "      <th>4</th>\n",
       "      <td>9</td>\n",
       "      <td>Nov 17, 2017</td>\n",
       "      <td>Justice League</td>\n",
       "      <td>300,000,000.00</td>\n",
       "      <td>$229,024,295</td>\n",
       "      <td>$655,945,209</td>\n",
       "      <td>20623</td>\n",
       "      <td>[28, 12, 14, 878]</td>\n",
       "      <td>141052</td>\n",
       "      <td>en</td>\n",
       "      <td>Justice League</td>\n",
       "      <td>34.95</td>\n",
       "      <td>2017-11-17</td>\n",
       "      <td>Justice League</td>\n",
       "      <td>6.20</td>\n",
       "      <td>7510</td>\n",
       "      <td>[Action, Adventure, Fantasy, Science Fiction]</td>\n",
       "    </tr>\n",
       "  </tbody>\n",
       "</table>\n",
       "</div>"
      ],
      "text/plain": [
       "   id_x release_date_x                                        movie  \\\n",
       "0     1   Dec 18, 2009                                       Avatar   \n",
       "1     2   May 20, 2011  Pirates of the Caribbean: On Stranger Tides   \n",
       "2     4    May 1, 2015                      Avengers: Age of Ultron   \n",
       "3     7   Apr 27, 2018                       Avengers: Infinity War   \n",
       "4     9   Nov 17, 2017                               Justice League   \n",
       "\n",
       "   production_budget domestic_gross worldwide_gross  Unnamed: 0  \\\n",
       "0     425,000,000.00   $760,507,625  $2,776,345,279           6   \n",
       "1     410,600,000.00   $241,063,875  $1,045,663,875        2470   \n",
       "2     330,600,000.00   $459,005,868  $1,403,013,963       14169   \n",
       "3     300,000,000.00   $678,815,482  $2,048,134,200       23811   \n",
       "4     300,000,000.00   $229,024,295    $655,945,209       20623   \n",
       "\n",
       "           genre_ids    id_y original_language  \\\n",
       "0  [28, 12, 14, 878]   19995                en   \n",
       "1       [12, 28, 14]    1865                en   \n",
       "2      [28, 12, 878]   99861                en   \n",
       "3       [12, 28, 14]  299536                en   \n",
       "4  [28, 12, 14, 878]  141052                en   \n",
       "\n",
       "                                original_title  popularity release_date_y  \\\n",
       "0                                       Avatar       26.53     2009-12-18   \n",
       "1  Pirates of the Caribbean: On Stranger Tides       30.58     2011-05-20   \n",
       "2                      Avengers: Age of Ultron       44.38     2015-05-01   \n",
       "3                       Avengers: Infinity War       80.77     2018-04-27   \n",
       "4                               Justice League       34.95     2017-11-17   \n",
       "\n",
       "                                         title  vote_average  vote_count  \\\n",
       "0                                       Avatar          7.40       18676   \n",
       "1  Pirates of the Caribbean: On Stranger Tides          6.40        8571   \n",
       "2                      Avengers: Age of Ultron          7.30       13457   \n",
       "3                       Avengers: Infinity War          8.30       13948   \n",
       "4                               Justice League          6.20        7510   \n",
       "\n",
       "                                     genre_names  \n",
       "0  [Action, Adventure, Fantasy, Science Fiction]  \n",
       "1                   [Adventure, Action, Fantasy]  \n",
       "2           [Action, Adventure, Science Fiction]  \n",
       "3                   [Adventure, Action, Fantasy]  \n",
       "4  [Action, Adventure, Fantasy, Science Fiction]  "
      ]
     },
     "execution_count": 27,
     "metadata": {},
     "output_type": "execute_result"
    }
   ],
   "source": [
    "# Merging the two dataframes\n",
    "merged_movies_info = movie_numbers.merge(the_movies_db, left_on='movie', right_on='title', how='inner')\n",
    "merged_movies_info.head()"
   ]
  },
  {
   "cell_type": "code",
   "execution_count": 28,
   "id": "99b95d9b",
   "metadata": {},
   "outputs": [
    {
     "data": {
      "application/vnd.microsoft.datawrangler.viewer.v0+json": {
       "columns": [
        {
         "name": "index",
         "rawType": "int64",
         "type": "integer"
        },
        {
         "name": "release_date",
         "rawType": "object",
         "type": "string"
        },
        {
         "name": "movie",
         "rawType": "object",
         "type": "string"
        },
        {
         "name": "production_budget",
         "rawType": "float64",
         "type": "float"
        },
        {
         "name": "domestic_gross",
         "rawType": "object",
         "type": "string"
        },
        {
         "name": "worldwide_gross",
         "rawType": "object",
         "type": "string"
        },
        {
         "name": "popularity",
         "rawType": "float64",
         "type": "float"
        },
        {
         "name": "vote_average",
         "rawType": "float64",
         "type": "float"
        },
        {
         "name": "genre_names",
         "rawType": "object",
         "type": "string"
        }
       ],
       "conversionMethod": "pd.DataFrame",
       "ref": "6c0fb29c-a332-41ff-ad33-33856706499b",
       "rows": [
        [
         "0",
         "Dec 18, 2009",
         "Avatar",
         "425000000.0",
         "$760,507,625",
         "$2,776,345,279",
         "26.526",
         "7.4",
         "['Action', 'Adventure', 'Fantasy', 'Science Fiction']"
        ],
        [
         "1",
         "May 20, 2011",
         "Pirates of the Caribbean: On Stranger Tides",
         "410600000.0",
         "$241,063,875",
         "$1,045,663,875",
         "30.579",
         "6.4",
         "['Adventure', 'Action', 'Fantasy']"
        ],
        [
         "2",
         "May 1, 2015",
         "Avengers: Age of Ultron",
         "330600000.0",
         "$459,005,868",
         "$1,403,013,963",
         "44.383",
         "7.3",
         "['Action', 'Adventure', 'Science Fiction']"
        ],
        [
         "3",
         "Apr 27, 2018",
         "Avengers: Infinity War",
         "300000000.0",
         "$678,815,482",
         "$2,048,134,200",
         "80.773",
         "8.3",
         "['Adventure', 'Action', 'Fantasy']"
        ],
        [
         "4",
         "Nov 17, 2017",
         "Justice League",
         "300000000.0",
         "$229,024,295",
         "$655,945,209",
         "34.953",
         "6.2",
         "['Action', 'Adventure', 'Fantasy', 'Science Fiction']"
        ]
       ],
       "shape": {
        "columns": 8,
        "rows": 5
       }
      },
      "text/html": [
       "<div>\n",
       "<style scoped>\n",
       "    .dataframe tbody tr th:only-of-type {\n",
       "        vertical-align: middle;\n",
       "    }\n",
       "\n",
       "    .dataframe tbody tr th {\n",
       "        vertical-align: top;\n",
       "    }\n",
       "\n",
       "    .dataframe thead th {\n",
       "        text-align: right;\n",
       "    }\n",
       "</style>\n",
       "<table border=\"1\" class=\"dataframe\">\n",
       "  <thead>\n",
       "    <tr style=\"text-align: right;\">\n",
       "      <th></th>\n",
       "      <th>release_date</th>\n",
       "      <th>movie</th>\n",
       "      <th>production_budget</th>\n",
       "      <th>domestic_gross</th>\n",
       "      <th>worldwide_gross</th>\n",
       "      <th>popularity</th>\n",
       "      <th>vote_average</th>\n",
       "      <th>genre_names</th>\n",
       "    </tr>\n",
       "  </thead>\n",
       "  <tbody>\n",
       "    <tr>\n",
       "      <th>0</th>\n",
       "      <td>Dec 18, 2009</td>\n",
       "      <td>Avatar</td>\n",
       "      <td>425,000,000.00</td>\n",
       "      <td>$760,507,625</td>\n",
       "      <td>$2,776,345,279</td>\n",
       "      <td>26.53</td>\n",
       "      <td>7.40</td>\n",
       "      <td>[Action, Adventure, Fantasy, Science Fiction]</td>\n",
       "    </tr>\n",
       "    <tr>\n",
       "      <th>1</th>\n",
       "      <td>May 20, 2011</td>\n",
       "      <td>Pirates of the Caribbean: On Stranger Tides</td>\n",
       "      <td>410,600,000.00</td>\n",
       "      <td>$241,063,875</td>\n",
       "      <td>$1,045,663,875</td>\n",
       "      <td>30.58</td>\n",
       "      <td>6.40</td>\n",
       "      <td>[Adventure, Action, Fantasy]</td>\n",
       "    </tr>\n",
       "    <tr>\n",
       "      <th>2</th>\n",
       "      <td>May 1, 2015</td>\n",
       "      <td>Avengers: Age of Ultron</td>\n",
       "      <td>330,600,000.00</td>\n",
       "      <td>$459,005,868</td>\n",
       "      <td>$1,403,013,963</td>\n",
       "      <td>44.38</td>\n",
       "      <td>7.30</td>\n",
       "      <td>[Action, Adventure, Science Fiction]</td>\n",
       "    </tr>\n",
       "    <tr>\n",
       "      <th>3</th>\n",
       "      <td>Apr 27, 2018</td>\n",
       "      <td>Avengers: Infinity War</td>\n",
       "      <td>300,000,000.00</td>\n",
       "      <td>$678,815,482</td>\n",
       "      <td>$2,048,134,200</td>\n",
       "      <td>80.77</td>\n",
       "      <td>8.30</td>\n",
       "      <td>[Adventure, Action, Fantasy]</td>\n",
       "    </tr>\n",
       "    <tr>\n",
       "      <th>4</th>\n",
       "      <td>Nov 17, 2017</td>\n",
       "      <td>Justice League</td>\n",
       "      <td>300,000,000.00</td>\n",
       "      <td>$229,024,295</td>\n",
       "      <td>$655,945,209</td>\n",
       "      <td>34.95</td>\n",
       "      <td>6.20</td>\n",
       "      <td>[Action, Adventure, Fantasy, Science Fiction]</td>\n",
       "    </tr>\n",
       "  </tbody>\n",
       "</table>\n",
       "</div>"
      ],
      "text/plain": [
       "   release_date                                        movie  \\\n",
       "0  Dec 18, 2009                                       Avatar   \n",
       "1  May 20, 2011  Pirates of the Caribbean: On Stranger Tides   \n",
       "2   May 1, 2015                      Avengers: Age of Ultron   \n",
       "3  Apr 27, 2018                       Avengers: Infinity War   \n",
       "4  Nov 17, 2017                               Justice League   \n",
       "\n",
       "   production_budget domestic_gross worldwide_gross  popularity  vote_average  \\\n",
       "0     425,000,000.00   $760,507,625  $2,776,345,279       26.53          7.40   \n",
       "1     410,600,000.00   $241,063,875  $1,045,663,875       30.58          6.40   \n",
       "2     330,600,000.00   $459,005,868  $1,403,013,963       44.38          7.30   \n",
       "3     300,000,000.00   $678,815,482  $2,048,134,200       80.77          8.30   \n",
       "4     300,000,000.00   $229,024,295    $655,945,209       34.95          6.20   \n",
       "\n",
       "                                     genre_names  \n",
       "0  [Action, Adventure, Fantasy, Science Fiction]  \n",
       "1                   [Adventure, Action, Fantasy]  \n",
       "2           [Action, Adventure, Science Fiction]  \n",
       "3                   [Adventure, Action, Fantasy]  \n",
       "4  [Action, Adventure, Fantasy, Science Fiction]  "
      ]
     },
     "execution_count": 28,
     "metadata": {},
     "output_type": "execute_result"
    }
   ],
   "source": [
    "# Create a copy of the selected columns from the merged_movies_info dataframe\n",
    "selected_merged_movies_info = merged_movies_info[['release_date_x', 'movie', 'production_budget', 'domestic_gross', 'worldwide_gross', 'popularity', 'vote_average', 'genre_names']].copy()\n",
    "\n",
    "# Rename the 'release_date_x' column to 'release_date'\n",
    "selected_merged_movies_info.rename(columns={'release_date_x': 'release_date'}, inplace=True)\n",
    "\n",
    "# Display the first 5 rows of the updated DataFrame\n",
    "selected_merged_movies_info.head()"
   ]
  },
  {
   "cell_type": "code",
   "execution_count": 29,
   "id": "407de2a7",
   "metadata": {},
   "outputs": [
    {
     "data": {
      "application/vnd.microsoft.datawrangler.viewer.v0+json": {
       "columns": [
        {
         "name": "index",
         "rawType": "int64",
         "type": "integer"
        },
        {
         "name": "release_date",
         "rawType": "datetime64[ns]",
         "type": "datetime"
        },
        {
         "name": "movie",
         "rawType": "object",
         "type": "string"
        },
        {
         "name": "production_budget",
         "rawType": "float64",
         "type": "float"
        },
        {
         "name": "domestic_gross",
         "rawType": "object",
         "type": "string"
        },
        {
         "name": "worldwide_gross",
         "rawType": "object",
         "type": "string"
        },
        {
         "name": "popularity",
         "rawType": "float64",
         "type": "float"
        },
        {
         "name": "vote_average",
         "rawType": "float64",
         "type": "float"
        },
        {
         "name": "genre_names",
         "rawType": "object",
         "type": "string"
        },
        {
         "name": "month",
         "rawType": "int64",
         "type": "integer"
        },
        {
         "name": "season",
         "rawType": "object",
         "type": "string"
        }
       ],
       "conversionMethod": "pd.DataFrame",
       "ref": "3967a802-4dce-4151-a718-049e7dc84fb4",
       "rows": [
        [
         "0",
         "2009-12-18 00:00:00",
         "Avatar",
         "425000000.0",
         "$760,507,625",
         "$2,776,345,279",
         "26.526",
         "7.4",
         "['Action', 'Adventure', 'Fantasy', 'Science Fiction']",
         "12",
         "Winter"
        ],
        [
         "1",
         "2011-05-20 00:00:00",
         "Pirates of the Caribbean: On Stranger Tides",
         "410600000.0",
         "$241,063,875",
         "$1,045,663,875",
         "30.579",
         "6.4",
         "['Adventure', 'Action', 'Fantasy']",
         "5",
         "Spring"
        ],
        [
         "2",
         "2015-05-01 00:00:00",
         "Avengers: Age of Ultron",
         "330600000.0",
         "$459,005,868",
         "$1,403,013,963",
         "44.383",
         "7.3",
         "['Action', 'Adventure', 'Science Fiction']",
         "5",
         "Spring"
        ],
        [
         "3",
         "2018-04-27 00:00:00",
         "Avengers: Infinity War",
         "300000000.0",
         "$678,815,482",
         "$2,048,134,200",
         "80.773",
         "8.3",
         "['Adventure', 'Action', 'Fantasy']",
         "4",
         "Spring"
        ],
        [
         "4",
         "2017-11-17 00:00:00",
         "Justice League",
         "300000000.0",
         "$229,024,295",
         "$655,945,209",
         "34.953",
         "6.2",
         "['Action', 'Adventure', 'Fantasy', 'Science Fiction']",
         "11",
         "Fall"
        ]
       ],
       "shape": {
        "columns": 10,
        "rows": 5
       }
      },
      "text/html": [
       "<div>\n",
       "<style scoped>\n",
       "    .dataframe tbody tr th:only-of-type {\n",
       "        vertical-align: middle;\n",
       "    }\n",
       "\n",
       "    .dataframe tbody tr th {\n",
       "        vertical-align: top;\n",
       "    }\n",
       "\n",
       "    .dataframe thead th {\n",
       "        text-align: right;\n",
       "    }\n",
       "</style>\n",
       "<table border=\"1\" class=\"dataframe\">\n",
       "  <thead>\n",
       "    <tr style=\"text-align: right;\">\n",
       "      <th></th>\n",
       "      <th>release_date</th>\n",
       "      <th>movie</th>\n",
       "      <th>production_budget</th>\n",
       "      <th>domestic_gross</th>\n",
       "      <th>worldwide_gross</th>\n",
       "      <th>popularity</th>\n",
       "      <th>vote_average</th>\n",
       "      <th>genre_names</th>\n",
       "      <th>month</th>\n",
       "      <th>season</th>\n",
       "    </tr>\n",
       "  </thead>\n",
       "  <tbody>\n",
       "    <tr>\n",
       "      <th>0</th>\n",
       "      <td>2009-12-18</td>\n",
       "      <td>Avatar</td>\n",
       "      <td>425,000,000.00</td>\n",
       "      <td>$760,507,625</td>\n",
       "      <td>$2,776,345,279</td>\n",
       "      <td>26.53</td>\n",
       "      <td>7.40</td>\n",
       "      <td>[Action, Adventure, Fantasy, Science Fiction]</td>\n",
       "      <td>12</td>\n",
       "      <td>Winter</td>\n",
       "    </tr>\n",
       "    <tr>\n",
       "      <th>1</th>\n",
       "      <td>2011-05-20</td>\n",
       "      <td>Pirates of the Caribbean: On Stranger Tides</td>\n",
       "      <td>410,600,000.00</td>\n",
       "      <td>$241,063,875</td>\n",
       "      <td>$1,045,663,875</td>\n",
       "      <td>30.58</td>\n",
       "      <td>6.40</td>\n",
       "      <td>[Adventure, Action, Fantasy]</td>\n",
       "      <td>5</td>\n",
       "      <td>Spring</td>\n",
       "    </tr>\n",
       "    <tr>\n",
       "      <th>2</th>\n",
       "      <td>2015-05-01</td>\n",
       "      <td>Avengers: Age of Ultron</td>\n",
       "      <td>330,600,000.00</td>\n",
       "      <td>$459,005,868</td>\n",
       "      <td>$1,403,013,963</td>\n",
       "      <td>44.38</td>\n",
       "      <td>7.30</td>\n",
       "      <td>[Action, Adventure, Science Fiction]</td>\n",
       "      <td>5</td>\n",
       "      <td>Spring</td>\n",
       "    </tr>\n",
       "    <tr>\n",
       "      <th>3</th>\n",
       "      <td>2018-04-27</td>\n",
       "      <td>Avengers: Infinity War</td>\n",
       "      <td>300,000,000.00</td>\n",
       "      <td>$678,815,482</td>\n",
       "      <td>$2,048,134,200</td>\n",
       "      <td>80.77</td>\n",
       "      <td>8.30</td>\n",
       "      <td>[Adventure, Action, Fantasy]</td>\n",
       "      <td>4</td>\n",
       "      <td>Spring</td>\n",
       "    </tr>\n",
       "    <tr>\n",
       "      <th>4</th>\n",
       "      <td>2017-11-17</td>\n",
       "      <td>Justice League</td>\n",
       "      <td>300,000,000.00</td>\n",
       "      <td>$229,024,295</td>\n",
       "      <td>$655,945,209</td>\n",
       "      <td>34.95</td>\n",
       "      <td>6.20</td>\n",
       "      <td>[Action, Adventure, Fantasy, Science Fiction]</td>\n",
       "      <td>11</td>\n",
       "      <td>Fall</td>\n",
       "    </tr>\n",
       "  </tbody>\n",
       "</table>\n",
       "</div>"
      ],
      "text/plain": [
       "  release_date                                        movie  \\\n",
       "0   2009-12-18                                       Avatar   \n",
       "1   2011-05-20  Pirates of the Caribbean: On Stranger Tides   \n",
       "2   2015-05-01                      Avengers: Age of Ultron   \n",
       "3   2018-04-27                       Avengers: Infinity War   \n",
       "4   2017-11-17                               Justice League   \n",
       "\n",
       "   production_budget domestic_gross worldwide_gross  popularity  vote_average  \\\n",
       "0     425,000,000.00   $760,507,625  $2,776,345,279       26.53          7.40   \n",
       "1     410,600,000.00   $241,063,875  $1,045,663,875       30.58          6.40   \n",
       "2     330,600,000.00   $459,005,868  $1,403,013,963       44.38          7.30   \n",
       "3     300,000,000.00   $678,815,482  $2,048,134,200       80.77          8.30   \n",
       "4     300,000,000.00   $229,024,295    $655,945,209       34.95          6.20   \n",
       "\n",
       "                                     genre_names  month  season  \n",
       "0  [Action, Adventure, Fantasy, Science Fiction]     12  Winter  \n",
       "1                   [Adventure, Action, Fantasy]      5  Spring  \n",
       "2           [Action, Adventure, Science Fiction]      5  Spring  \n",
       "3                   [Adventure, Action, Fantasy]      4  Spring  \n",
       "4  [Action, Adventure, Fantasy, Science Fiction]     11    Fall  "
      ]
     },
     "execution_count": 29,
     "metadata": {},
     "output_type": "execute_result"
    }
   ],
   "source": [
    "# Convert release date to datetime\n",
    "selected_merged_movies_info.loc[:, 'release_date'] = pd.to_datetime(selected_merged_movies_info['release_date'])\n",
    "\n",
    "# Extract month and season\n",
    "selected_merged_movies_info.loc[:, 'month'] = selected_merged_movies_info['release_date'].dt.month\n",
    "\n",
    "selected_merged_movies_info.loc[:, 'season'] = selected_merged_movies_info['month'].apply(\n",
    "    lambda x: 'Winter' if x in [12, 1, 2] \n",
    "    else 'Spring' if x in [3, 4, 5] \n",
    "    else 'Summer' if x in [6, 7, 8] \n",
    "    else 'Fall'\n",
    ")\n",
    "\n",
    "selected_merged_movies_info.head()"
   ]
  },
  {
   "cell_type": "code",
   "execution_count": 30,
   "id": "107aba00",
   "metadata": {},
   "outputs": [
    {
     "data": {
      "application/vnd.microsoft.datawrangler.viewer.v0+json": {
       "columns": [
        {
         "name": "index",
         "rawType": "int64",
         "type": "integer"
        },
        {
         "name": "release_date",
         "rawType": "datetime64[ns]",
         "type": "datetime"
        },
        {
         "name": "movie",
         "rawType": "object",
         "type": "string"
        },
        {
         "name": "production_budget",
         "rawType": "float64",
         "type": "float"
        },
        {
         "name": "domestic_gross",
         "rawType": "float64",
         "type": "float"
        },
        {
         "name": "worldwide_gross",
         "rawType": "float64",
         "type": "float"
        },
        {
         "name": "popularity",
         "rawType": "float64",
         "type": "float"
        },
        {
         "name": "vote_average",
         "rawType": "float64",
         "type": "float"
        },
        {
         "name": "genre_names",
         "rawType": "object",
         "type": "string"
        },
        {
         "name": "month",
         "rawType": "int64",
         "type": "integer"
        },
        {
         "name": "season",
         "rawType": "object",
         "type": "string"
        }
       ],
       "conversionMethod": "pd.DataFrame",
       "ref": "14b5283a-2dd9-425d-9a4f-e2c21909de17",
       "rows": [
        [
         "0",
         "2009-12-18 00:00:00",
         "Avatar",
         "425000000.0",
         "760507625.0",
         "2776345279.0",
         "26.526",
         "7.4",
         "['Action', 'Adventure', 'Fantasy', 'Science Fiction']",
         "12",
         "Winter"
        ],
        [
         "1",
         "2011-05-20 00:00:00",
         "Pirates of the Caribbean: On Stranger Tides",
         "410600000.0",
         "241063875.0",
         "1045663875.0",
         "30.579",
         "6.4",
         "['Adventure', 'Action', 'Fantasy']",
         "5",
         "Spring"
        ],
        [
         "2",
         "2015-05-01 00:00:00",
         "Avengers: Age of Ultron",
         "330600000.0",
         "459005868.0",
         "1403013963.0",
         "44.383",
         "7.3",
         "['Action', 'Adventure', 'Science Fiction']",
         "5",
         "Spring"
        ],
        [
         "3",
         "2018-04-27 00:00:00",
         "Avengers: Infinity War",
         "300000000.0",
         "678815482.0",
         "2048134200.0",
         "80.773",
         "8.3",
         "['Adventure', 'Action', 'Fantasy']",
         "4",
         "Spring"
        ],
        [
         "4",
         "2017-11-17 00:00:00",
         "Justice League",
         "300000000.0",
         "229024295.0",
         "655945209.0",
         "34.953",
         "6.2",
         "['Action', 'Adventure', 'Fantasy', 'Science Fiction']",
         "11",
         "Fall"
        ]
       ],
       "shape": {
        "columns": 10,
        "rows": 5
       }
      },
      "text/html": [
       "<div>\n",
       "<style scoped>\n",
       "    .dataframe tbody tr th:only-of-type {\n",
       "        vertical-align: middle;\n",
       "    }\n",
       "\n",
       "    .dataframe tbody tr th {\n",
       "        vertical-align: top;\n",
       "    }\n",
       "\n",
       "    .dataframe thead th {\n",
       "        text-align: right;\n",
       "    }\n",
       "</style>\n",
       "<table border=\"1\" class=\"dataframe\">\n",
       "  <thead>\n",
       "    <tr style=\"text-align: right;\">\n",
       "      <th></th>\n",
       "      <th>release_date</th>\n",
       "      <th>movie</th>\n",
       "      <th>production_budget</th>\n",
       "      <th>domestic_gross</th>\n",
       "      <th>worldwide_gross</th>\n",
       "      <th>popularity</th>\n",
       "      <th>vote_average</th>\n",
       "      <th>genre_names</th>\n",
       "      <th>month</th>\n",
       "      <th>season</th>\n",
       "    </tr>\n",
       "  </thead>\n",
       "  <tbody>\n",
       "    <tr>\n",
       "      <th>0</th>\n",
       "      <td>2009-12-18</td>\n",
       "      <td>Avatar</td>\n",
       "      <td>425,000,000.00</td>\n",
       "      <td>760,507,625.00</td>\n",
       "      <td>2,776,345,279.00</td>\n",
       "      <td>26.53</td>\n",
       "      <td>7.40</td>\n",
       "      <td>[Action, Adventure, Fantasy, Science Fiction]</td>\n",
       "      <td>12</td>\n",
       "      <td>Winter</td>\n",
       "    </tr>\n",
       "    <tr>\n",
       "      <th>1</th>\n",
       "      <td>2011-05-20</td>\n",
       "      <td>Pirates of the Caribbean: On Stranger Tides</td>\n",
       "      <td>410,600,000.00</td>\n",
       "      <td>241,063,875.00</td>\n",
       "      <td>1,045,663,875.00</td>\n",
       "      <td>30.58</td>\n",
       "      <td>6.40</td>\n",
       "      <td>[Adventure, Action, Fantasy]</td>\n",
       "      <td>5</td>\n",
       "      <td>Spring</td>\n",
       "    </tr>\n",
       "    <tr>\n",
       "      <th>2</th>\n",
       "      <td>2015-05-01</td>\n",
       "      <td>Avengers: Age of Ultron</td>\n",
       "      <td>330,600,000.00</td>\n",
       "      <td>459,005,868.00</td>\n",
       "      <td>1,403,013,963.00</td>\n",
       "      <td>44.38</td>\n",
       "      <td>7.30</td>\n",
       "      <td>[Action, Adventure, Science Fiction]</td>\n",
       "      <td>5</td>\n",
       "      <td>Spring</td>\n",
       "    </tr>\n",
       "    <tr>\n",
       "      <th>3</th>\n",
       "      <td>2018-04-27</td>\n",
       "      <td>Avengers: Infinity War</td>\n",
       "      <td>300,000,000.00</td>\n",
       "      <td>678,815,482.00</td>\n",
       "      <td>2,048,134,200.00</td>\n",
       "      <td>80.77</td>\n",
       "      <td>8.30</td>\n",
       "      <td>[Adventure, Action, Fantasy]</td>\n",
       "      <td>4</td>\n",
       "      <td>Spring</td>\n",
       "    </tr>\n",
       "    <tr>\n",
       "      <th>4</th>\n",
       "      <td>2017-11-17</td>\n",
       "      <td>Justice League</td>\n",
       "      <td>300,000,000.00</td>\n",
       "      <td>229,024,295.00</td>\n",
       "      <td>655,945,209.00</td>\n",
       "      <td>34.95</td>\n",
       "      <td>6.20</td>\n",
       "      <td>[Action, Adventure, Fantasy, Science Fiction]</td>\n",
       "      <td>11</td>\n",
       "      <td>Fall</td>\n",
       "    </tr>\n",
       "  </tbody>\n",
       "</table>\n",
       "</div>"
      ],
      "text/plain": [
       "  release_date                                        movie  \\\n",
       "0   2009-12-18                                       Avatar   \n",
       "1   2011-05-20  Pirates of the Caribbean: On Stranger Tides   \n",
       "2   2015-05-01                      Avengers: Age of Ultron   \n",
       "3   2018-04-27                       Avengers: Infinity War   \n",
       "4   2017-11-17                               Justice League   \n",
       "\n",
       "   production_budget  domestic_gross  worldwide_gross  popularity  \\\n",
       "0     425,000,000.00  760,507,625.00 2,776,345,279.00       26.53   \n",
       "1     410,600,000.00  241,063,875.00 1,045,663,875.00       30.58   \n",
       "2     330,600,000.00  459,005,868.00 1,403,013,963.00       44.38   \n",
       "3     300,000,000.00  678,815,482.00 2,048,134,200.00       80.77   \n",
       "4     300,000,000.00  229,024,295.00   655,945,209.00       34.95   \n",
       "\n",
       "   vote_average                                    genre_names  month  season  \n",
       "0          7.40  [Action, Adventure, Fantasy, Science Fiction]     12  Winter  \n",
       "1          6.40                   [Adventure, Action, Fantasy]      5  Spring  \n",
       "2          7.30           [Action, Adventure, Science Fiction]      5  Spring  \n",
       "3          8.30                   [Adventure, Action, Fantasy]      4  Spring  \n",
       "4          6.20  [Action, Adventure, Fantasy, Science Fiction]     11    Fall  "
      ]
     },
     "execution_count": 30,
     "metadata": {},
     "output_type": "execute_result"
    }
   ],
   "source": [
    "# Remove non-numeric characters and convert to float data types of the columns: \n",
    "# \"production_budget\", \"domestic_gross\" and \"worlwide_gross\"\n",
    "def clean_columns(df, columns):\n",
    "    for column in columns:\n",
    "        df.loc[:, column] = df[column].replace('[\\$,]', '', regex=True).astype(float)\n",
    "    return df\n",
    "\n",
    "# Apply the function to clean the specified columns\n",
    "selected_merged_movies_info = clean_columns(\n",
    "    selected_merged_movies_info,\n",
    "    ['production_budget', 'domestic_gross', 'worldwide_gross']\n",
    ")\n",
    "\n",
    "# Display the updated DataFrame\n",
    "selected_merged_movies_info.head()"
   ]
  },
  {
   "cell_type": "code",
   "execution_count": 31,
   "id": "ada6814d",
   "metadata": {},
   "outputs": [
    {
     "data": {
      "image/png": "[encoded data removed]",
      "text/plain": [
       "<Figure size 720x432 with 1 Axes>"
      ]
     },
     "metadata": {
      "needs_background": "light"
     },
     "output_type": "display_data"
    }
   ],
   "source": [
    "# Group by season and calculate average domestic and worldwide gross\n",
    "seasonal_trends = selected_merged_movies_info.groupby('season')[['domestic_gross', 'worldwide_gross']].mean().reset_index()\n",
    "\n",
    "# Plot average gross revenue by season\n",
    "plt.figure(figsize=(10, 6))\n",
    "sns.barplot(x='season', y='domestic_gross', data=seasonal_trends, label='Domestic Gross', color='blue', alpha=0.2)\n",
    "sns.barplot(x='season', y='worldwide_gross', data=seasonal_trends, label='Worldwide Gross', color='red', alpha=0.2)\n",
    "plt.title('Average Gross Revenue by Season', fontsize=16)\n",
    "plt.ylabel('Average Gross Revenue (in dollars (billions))', fontsize=12)\n",
    "plt.xlabel('Season', fontsize=12)\n",
    "plt.legend(title='Gross Type')\n",
    "plt.show()"
   ]
  },
  {
   "cell_type": "code",
   "execution_count": 32,
   "id": "35c1b2fd",
   "metadata": {},
   "outputs": [
    {
     "name": "stdout",
     "output_type": "stream",
     "text": [
      "        domestic_gross  worldwide_gross\n",
      "season                                 \n",
      "Summer   60,435,024.70   144,181,656.16\n",
      "Spring   50,374,491.19   127,453,716.95\n",
      "Fall     44,049,591.98   109,071,823.54\n",
      "Winter   44,898,693.44   103,218,135.77\n"
     ]
    }
   ],
   "source": [
    "# Analyze gross revenue by season\n",
    "# Group by season and calculate average domestic and worldwide gross\n",
    "# Grouped worldwide_gross in descending order\n",
    "seasonal_trends = selected_merged_movies_info.groupby('season')[['domestic_gross', 'worldwide_gross']].mean().sort_values(by=\"worldwide_gross\", ascending=False)\n",
    "\n",
    "# Print the formatted DataFrame\n",
    "print(seasonal_trends)"
   ]
  },
  {
   "cell_type": "markdown",
   "id": "85ed5ec3",
   "metadata": {},
   "source": [
    "### Objective 3. Identify movie ratings and audience preferences for various genres"
   ]
  },
  {
   "cell_type": "markdown",
   "id": "a4b9c284",
   "metadata": {},
   "source": [
    "Under Objective 3, the analysis focuses on understanding the relationship between movie ratings and audience preferences for various genres. The data is grouped by rating bins and genres to calculate average domestic gross and ratings. Visualizations, such as scatter plots and bar plots, are created to explore how IMDB ratings and genre preferences influence domestic gross. The findings highlight that movies with higher ratings (above 8) and certain genres tend to generate higher domestic gross, providing actionable insights for targeting audience preferences."
   ]
  },
  {
   "cell_type": "code",
   "execution_count": 33,
   "id": "4dbedbd1",
   "metadata": {},
   "outputs": [
    {
     "data": {
      "image/png": "[encoded data removed]",
      "text/plain": [
       "<Figure size 720x432 with 1 Axes>"
      ]
     },
     "metadata": {
      "needs_background": "light"
     },
     "output_type": "display_data"
    }
   ],
   "source": [
    "# Analyze ratings vs. domestic gross\n",
    "# Create a new column in millions\n",
    "merged_data['domestic_gross_millions'] = merged_data['domestic_gross'] / 1_000_000\n",
    "\n",
    "# Now plot \n",
    "plt.figure(figsize=(10, 6))\n",
    "sns.scatterplot(\n",
    "    x='averagerating',\n",
    "    y='domestic_gross_millions',\n",
    "    data=merged_data,\n",
    "    alpha=0.5\n",
    ")\n",
    "plt.title('IMDB Rating vs. Domestic Gross')\n",
    "plt.xlabel('Average Rating')\n",
    "plt.ylabel('Domestic Gross (in millions)')\n",
    "plt.show()"
   ]
  },
  {
   "cell_type": "code",
   "execution_count": 34,
   "id": "76060c66",
   "metadata": {},
   "outputs": [],
   "source": [
    "# Create rating bins\n",
    "merged_data['rating_bin'] = pd.cut(\n",
    "    merged_data['averagerating'],\n",
    "    bins=[0, 5, 6, 7, 8, 10],\n",
    "    labels=['<5', '5-6', '6-7', '7-8', '8+']\n",
    ")\n",
    "\n",
    "rating_analysis = merged_data.groupby('rating_bin')['domestic_gross'].mean().reset_index()"
   ]
  },
  {
   "cell_type": "code",
   "execution_count": 35,
   "id": "1faac4d9",
   "metadata": {},
   "outputs": [
    {
     "data": {
      "image/png": "[encoded data removed]",
      "text/plain": [
       "<Figure size 720x432 with 1 Axes>"
      ]
     },
     "metadata": {
      "needs_background": "light"
     },
     "output_type": "display_data"
    }
   ],
   "source": [
    "# Visualize rating bins vs. domestic gross\n",
    "# Calculate domestic gross in millions first\n",
    "rating_analysis['domestic_gross_millions'] = rating_analysis['domestic_gross'] / 1000000\n",
    "\n",
    "# Create the visualization\n",
    "plt.figure(figsize=(10, 6))\n",
    "sns.barplot(\n",
    "    x='rating_bin',\n",
    "    y='domestic_gross_millions',\n",
    "    data=rating_analysis,\n",
    "    order=['<5', '5-6', '6-7', '7-8', '8+']\n",
    ")\n",
    "plt.title('Average Domestic Gross by IMDB Rating')\n",
    "plt.xlabel('IMDB Rating Range')\n",
    "plt.ylabel('Average Domestic Gross (Millions USD)')\n",
    "plt.show()"
   ]
  },
  {
   "cell_type": "code",
   "execution_count": 36,
   "id": "7d97ba95",
   "metadata": {},
   "outputs": [
    {
     "data": {
      "image/png": "[encoded data removed]",
      "text/plain": [
       "<Figure size 864x432 with 1 Axes>"
      ]
     },
     "metadata": {
      "needs_background": "light"
     },
     "output_type": "display_data"
    }
   ],
   "source": [
    "# Explode genre_names to separate each genre into its own row\n",
    "exploded_movies_info = selected_merged_movies_info.explode('genre_names')\n",
    "\n",
    "# Group by genre and calculate average ratings and votes\n",
    "genre_demographics = exploded_movies_info.groupby('genre_names')[['vote_average', 'popularity']].mean().reset_index()\n",
    "\n",
    "# Plot average ratings by genre\n",
    "plt.figure(figsize=(12, 6))\n",
    "sns.barplot(x='genre_names', y='vote_average', data=genre_demographics)\n",
    "plt.title('Average Ratings by Genre', fontsize=16)\n",
    "plt.ylabel('Average Rating', fontsize=12)\n",
    "plt.xlabel('Genre', fontsize=12)\n",
    "plt.xticks(rotation=90)\n",
    "plt.show()"
   ]
  },
  {
   "cell_type": "markdown",
   "id": "5de0ce43",
   "metadata": {},
   "source": [
    "### Hypothesis Testing\n",
    "\n",
    "**Null Hypothesis (H₀)**:\n",
    "\"There is no significant relationship between a movie's average audience rating and its worldwide gross revenue.\"\n",
    "This suggests that variations in audience ratings do not have any meaningful effect on a movie's revenue.\n",
    "\n",
    "**Alternative Hypothesis (H₁)**:\n",
    "\"There is a significant relationship between a movie's average audience rating and its worldwide gross revenue.\"\n",
    "This implies that audience ratings and worldwide revenue are statistically associated, indicating that higher ratings might correlate with higher revenue or vice versa."
   ]
  },
  {
   "cell_type": "code",
   "execution_count": 37,
   "id": "624c73b7",
   "metadata": {},
   "outputs": [
    {
     "name": "stdout",
     "output_type": "stream",
     "text": [
      "Correlation: 0.19281133600528375, P-value: 2.087525814333377e-21\n",
      "There is a significant positive correlation between ratings and worldwide gross.\n"
     ]
    }
   ],
   "source": [
    "# Correlation between ratings and worldwide gross\n",
    "from scipy.stats import pearsonr\n",
    "\n",
    "# Drop rows with missing values in 'vote_average' or 'worldwide_gross'\n",
    "ratings_gross_data = selected_merged_movies_info[['vote_average', 'worldwide_gross']].dropna()\n",
    "\n",
    "# Perform Pearson correlation test\n",
    "correlation, p_value = pearsonr(ratings_gross_data['vote_average'], ratings_gross_data['worldwide_gross'])\n",
    "print(f\"Correlation: {correlation}, P-value: {p_value}\")\n",
    "\n",
    "if p_value < 0.05:\n",
    "    print(\"There is a significant positive correlation between ratings and worldwide gross.\")\n",
    "else:\n",
    "    print(\"There is no significant correlation between ratings and worldwide gross.\")"
   ]
  },
  {
   "cell_type": "markdown",
   "id": "a51f5e45",
   "metadata": {},
   "source": [
    "As the p-value is below 0.05, we rejected the null hypothesis. "
   ]
  },
  {
   "cell_type": "code",
   "execution_count": 38,
   "id": "545cd998",
   "metadata": {},
   "outputs": [
    {
     "data": {
      "image/png": "[encoded data removed]",
      "text/plain": [
       "<Figure size 864x432 with 1 Axes>"
      ]
     },
     "metadata": {
      "needs_background": "light"
     },
     "output_type": "display_data"
    }
   ],
   "source": [
    "# Scatter plot with regression line for hypothesis testing\n",
    "plt.figure(figsize=(12, 6))\n",
    "sns.regplot(\n",
    "    x='vote_average',\n",
    "    y='worldwide_gross',\n",
    "    data=ratings_gross_data,\n",
    "    scatter_kws={'alpha': 0.2},\n",
    "    line_kws={'color': 'red'}\n",
    ")\n",
    "plt.title('Relationship Between Ratings and Worldwide Gross Revenue', fontsize=16)\n",
    "plt.xlabel('Average Audience Rating', fontsize=12)\n",
    "plt.ylabel('Worldwide Gross Revenue (in billions)', fontsize=12)\n",
    "plt.show()"
   ]
  },
  {
   "cell_type": "markdown",
   "id": "d05a8e8b",
   "metadata": {
    "vscode": {
     "languageId": "markdown"
    }
   },
   "source": [
    "The scatter plot with a regression line visually represents the relationship between an independent variable ```production_budget``` and a dependent variable ```worldwide_gross```. Each point corresponds to a movie, positioned based on its values for the two variables. The regression line indicates the overall trend in the data. The line has a positive slope suggesting that as production budgets increase, worldwide gross revenue tends to rise as well. This visualization helps determine whether higher budgets are associated with greater earnings in the film industry."
   ]
  },
  {
   "cell_type": "markdown",
   "id": "540715e2",
   "metadata": {},
   "source": [
    "### 4. Analyze the relationship between production budget and worldwide revenue"
   ]
  },
  {
   "cell_type": "markdown",
   "id": "7a2223e2",
   "metadata": {
    "vscode": {
     "languageId": "markdown"
    }
   },
   "source": [
    "Under Objective 4, the relationship between production budgets and worldwide gross revenue is analyzed. The `selected_merged_movies_info` DataFrame is used, and a scatter plot with a regression line is created to visualize the correlation between these variables. The analysis aims to determine whether higher production budgets lead to higher worldwide gross revenue. The findings from this analysis provide insights into the financial impact of production budgets on movie performance, helping to guide investment decisions for future productions."
   ]
  },
  {
   "cell_type": "code",
   "execution_count": 39,
   "id": "0cbd2e87",
   "metadata": {},
   "outputs": [
    {
     "data": {
      "image/png": "[encoded data removed]",
      "text/plain": [
       "<Figure size 864x432 with 1 Axes>"
      ]
     },
     "metadata": {
      "needs_background": "light"
     },
     "output_type": "display_data"
    }
   ],
   "source": [
    "# Scatter plot with a trend line\n",
    "plt.figure(figsize=(12,6))\n",
    "sns.regplot(x='production_budget', y='worldwide_gross', data=selected_merged_movies_info, scatter_kws={'s':10}, line_kws={'color':'red'})\n",
    "plt.title('Production Budget vs Worldwide Gross')\n",
    "plt.xlabel('Production Budget ($(Hundreds of Millions))')\n",
    "plt.ylabel('Worldwide Gross ($(Billions))')\n",
    "plt.show()"
   ]
  },
  {
   "cell_type": "markdown",
   "id": "debb7e3e",
   "metadata": {},
   "source": [
    "### Analysis of the correlation between production budgets and other features"
   ]
  },
  {
   "cell_type": "code",
   "execution_count": 40,
   "id": "06a528fa",
   "metadata": {},
   "outputs": [
    {
     "data": {
      "application/vnd.microsoft.datawrangler.viewer.v0+json": {
       "columns": [
        {
         "name": "index",
         "rawType": "int64",
         "type": "integer"
        },
        {
         "name": "worldwide_gross",
         "rawType": "float64",
         "type": "float"
        },
        {
         "name": "production_budget",
         "rawType": "float64",
         "type": "float"
        },
        {
         "name": "popularity",
         "rawType": "float64",
         "type": "float"
        },
        {
         "name": "vote_average",
         "rawType": "float64",
         "type": "float"
        }
       ],
       "conversionMethod": "pd.DataFrame",
       "ref": "18480720-f91f-4b33-a17a-27dffe71ee61",
       "rows": [
        [
         "0",
         "2776345279.0",
         "425000000.0",
         "26.526",
         "7.4"
        ],
        [
         "1",
         "1045663875.0",
         "410600000.0",
         "30.579",
         "6.4"
        ],
        [
         "2",
         "1403013963.0",
         "330600000.0",
         "44.383",
         "7.3"
        ],
        [
         "3",
         "2048134200.0",
         "300000000.0",
         "80.773",
         "8.3"
        ],
        [
         "4",
         "655945209.0",
         "300000000.0",
         "34.953",
         "6.2"
        ],
        [
         "5",
         "655945209.0",
         "300000000.0",
         "34.953",
         "6.2"
        ],
        [
         "6",
         "879620923.0",
         "300000000.0",
         "30.318",
         "6.4"
        ],
        [
         "7",
         "879620923.0",
         "300000000.0",
         "30.318",
         "6.4"
        ],
        [
         "8",
         "1084439099.0",
         "275000000.0",
         "26.22",
         "7.7"
        ],
        [
         "9",
         "393151347.0",
         "275000000.0",
         "29.502",
         "6.6"
        ],
        [
         "10",
         "260002115.0",
         "275000000.0",
         "12.482000000000001",
         "6.0"
        ],
        [
         "11",
         "282778100.0",
         "275000000.0",
         "18.549",
         "6.1"
        ],
        [
         "12",
         "586477240.0",
         "260000000.0",
         "21.511",
         "7.5"
        ],
        [
         "13",
         "1140069413.0",
         "250000000.0",
         "39.137",
         "7.4"
        ],
        [
         "14",
         "867500281.0",
         "250000000.0",
         "28.088",
         "5.8"
        ],
        [
         "15",
         "1017003568.0",
         "250000000.0",
         "26.939",
         "7.2"
        ],
        [
         "16",
         "960366855.0",
         "250000000.0",
         "21.275",
         "7.6"
        ],
        [
         "17",
         "945577621.0",
         "250000000.0",
         "53.783",
         "7.3"
        ],
        [
         "18",
         "1234846267.0",
         "250000000.0",
         "28.668000000000003",
         "6.9"
        ],
        [
         "19",
         "788241137.0",
         "230000000.0",
         "28.101",
         "6.6"
        ],
        [
         "20",
         "1517935897.0",
         "225000000.0",
         "50.288999999999994",
         "7.6"
        ],
        [
         "21",
         "48585416.0",
         "60000000.0",
         "50.288999999999994",
         "7.6"
        ],
        [
         "22",
         "667999518.0",
         "225000000.0",
         "27.666999999999998",
         "6.5"
        ],
        [
         "23",
         "757890267.0",
         "220000000.0",
         "24.391",
         "6.5"
        ],
        [
         "24",
         "313477717.0",
         "220000000.0",
         "21.741999999999997",
         "5.6"
        ],
        [
         "25",
         "602893340.0",
         "217000000.0",
         "24.258000000000003",
         "6.0"
        ],
        [
         "26",
         "1648854864.0",
         "215000000.0",
         "20.709",
         "6.6"
        ],
        [
         "27",
         "654213485.0",
         "215000000.0",
         "26.176",
         "6.4"
        ],
        [
         "28",
         "1104039076.0",
         "210000000.0",
         "20.961",
         "5.8"
        ],
        [
         "29",
         "322459006.0",
         "210000000.0",
         "15.444",
         "6.3"
        ],
        [
         "30",
         "322459006.0",
         "210000000.0",
         "0.68",
         "5.7"
        ],
        [
         "31",
         "322459006.0",
         "210000000.0",
         "39.975",
         "5.8"
        ],
        [
         "32",
         "84747441.0",
         "99000000.0",
         "15.444",
         "6.3"
        ],
        [
         "33",
         "84747441.0",
         "99000000.0",
         "0.68",
         "5.7"
        ],
        [
         "34",
         "84747441.0",
         "99000000.0",
         "39.975",
         "5.8"
        ],
        [
         "35",
         "1348258224.0",
         "200000000.0",
         "2.0580000000000003",
         "5.1"
        ],
        [
         "36",
         "1348258224.0",
         "200000000.0",
         "44.14",
         "7.4"
        ],
        [
         "37",
         "1242520711.0",
         "200000000.0",
         "36.286",
         "7.6"
        ],
        [
         "38",
         "1049102856.0",
         "200000000.0",
         "21.401",
         "7.5"
        ],
        [
         "39",
         "1049102856.0",
         "200000000.0",
         "21.401",
         "7.5"
        ],
        [
         "40",
         "1021215193.0",
         "200000000.0",
         "15.392999999999999",
         "7.0"
        ],
        [
         "41",
         "1068879522.0",
         "200000000.0",
         "24.445",
         "7.7"
        ],
        [
         "42",
         "1215392272.0",
         "200000000.0",
         "32.093",
         "6.9"
        ],
        [
         "43",
         "1025491110.0",
         "200000000.0",
         "22.02",
         "6.6"
        ],
        [
         "44",
         "1025491110.0",
         "200000000.0",
         "0.6",
         "6.0"
        ],
        [
         "45",
         "0.0",
         "3000000.0",
         "22.02",
         "6.6"
        ],
        [
         "46",
         "0.0",
         "3000000.0",
         "0.6",
         "6.0"
        ],
        [
         "47",
         "1110526981.0",
         "200000000.0",
         "19.27",
         "7.1"
        ],
        [
         "48",
         "743588329.0",
         "200000000.0",
         "20.33",
         "7.0"
        ],
        [
         "49",
         "490359051.0",
         "200000000.0",
         "13.377",
         "5.8"
        ]
       ],
       "shape": {
        "columns": 4,
        "rows": 2385
       }
      },
      "text/html": [
       "<div>\n",
       "<style scoped>\n",
       "    .dataframe tbody tr th:only-of-type {\n",
       "        vertical-align: middle;\n",
       "    }\n",
       "\n",
       "    .dataframe tbody tr th {\n",
       "        vertical-align: top;\n",
       "    }\n",
       "\n",
       "    .dataframe thead th {\n",
       "        text-align: right;\n",
       "    }\n",
       "</style>\n",
       "<table border=\"1\" class=\"dataframe\">\n",
       "  <thead>\n",
       "    <tr style=\"text-align: right;\">\n",
       "      <th></th>\n",
       "      <th>worldwide_gross</th>\n",
       "      <th>production_budget</th>\n",
       "      <th>popularity</th>\n",
       "      <th>vote_average</th>\n",
       "    </tr>\n",
       "  </thead>\n",
       "  <tbody>\n",
       "    <tr>\n",
       "      <th>0</th>\n",
       "      <td>2,776,345,279.00</td>\n",
       "      <td>425,000,000.00</td>\n",
       "      <td>26.53</td>\n",
       "      <td>7.40</td>\n",
       "    </tr>\n",
       "    <tr>\n",
       "      <th>1</th>\n",
       "      <td>1,045,663,875.00</td>\n",
       "      <td>410,600,000.00</td>\n",
       "      <td>30.58</td>\n",
       "      <td>6.40</td>\n",
       "    </tr>\n",
       "    <tr>\n",
       "      <th>2</th>\n",
       "      <td>1,403,013,963.00</td>\n",
       "      <td>330,600,000.00</td>\n",
       "      <td>44.38</td>\n",
       "      <td>7.30</td>\n",
       "    </tr>\n",
       "    <tr>\n",
       "      <th>3</th>\n",
       "      <td>2,048,134,200.00</td>\n",
       "      <td>300,000,000.00</td>\n",
       "      <td>80.77</td>\n",
       "      <td>8.30</td>\n",
       "    </tr>\n",
       "    <tr>\n",
       "      <th>4</th>\n",
       "      <td>655,945,209.00</td>\n",
       "      <td>300,000,000.00</td>\n",
       "      <td>34.95</td>\n",
       "      <td>6.20</td>\n",
       "    </tr>\n",
       "    <tr>\n",
       "      <th>...</th>\n",
       "      <td>...</td>\n",
       "      <td>...</td>\n",
       "      <td>...</td>\n",
       "      <td>...</td>\n",
       "    </tr>\n",
       "    <tr>\n",
       "      <th>2380</th>\n",
       "      <td>489,792.00</td>\n",
       "      <td>25,000.00</td>\n",
       "      <td>5.93</td>\n",
       "      <td>4.70</td>\n",
       "    </tr>\n",
       "    <tr>\n",
       "      <th>2381</th>\n",
       "      <td>0.00</td>\n",
       "      <td>25,000.00</td>\n",
       "      <td>1.57</td>\n",
       "      <td>5.40</td>\n",
       "    </tr>\n",
       "    <tr>\n",
       "      <th>2382</th>\n",
       "      <td>0.00</td>\n",
       "      <td>22,000.00</td>\n",
       "      <td>0.60</td>\n",
       "      <td>6.00</td>\n",
       "    </tr>\n",
       "    <tr>\n",
       "      <th>2383</th>\n",
       "      <td>0.00</td>\n",
       "      <td>20,000.00</td>\n",
       "      <td>2.08</td>\n",
       "      <td>3.90</td>\n",
       "    </tr>\n",
       "    <tr>\n",
       "      <th>2384</th>\n",
       "      <td>4,584.00</td>\n",
       "      <td>9,000.00</td>\n",
       "      <td>1.97</td>\n",
       "      <td>5.40</td>\n",
       "    </tr>\n",
       "  </tbody>\n",
       "</table>\n",
       "<p>2385 rows × 4 columns</p>\n",
       "</div>"
      ],
      "text/plain": [
       "      worldwide_gross  production_budget  popularity  vote_average\n",
       "0    2,776,345,279.00     425,000,000.00       26.53          7.40\n",
       "1    1,045,663,875.00     410,600,000.00       30.58          6.40\n",
       "2    1,403,013,963.00     330,600,000.00       44.38          7.30\n",
       "3    2,048,134,200.00     300,000,000.00       80.77          8.30\n",
       "4      655,945,209.00     300,000,000.00       34.95          6.20\n",
       "...               ...                ...         ...           ...\n",
       "2380       489,792.00          25,000.00        5.93          4.70\n",
       "2381             0.00          25,000.00        1.57          5.40\n",
       "2382             0.00          22,000.00        0.60          6.00\n",
       "2383             0.00          20,000.00        2.08          3.90\n",
       "2384         4,584.00           9,000.00        1.97          5.40\n",
       "\n",
       "[2385 rows x 4 columns]"
      ]
     },
     "execution_count": 40,
     "metadata": {},
     "output_type": "execute_result"
    }
   ],
   "source": [
    "# Select relevant columns for regression\n",
    "regression_data = selected_merged_movies_info[['worldwide_gross', 'production_budget', 'popularity', 'vote_average']].copy()\n",
    "regression_data"
   ]
  },
  {
   "cell_type": "code",
   "execution_count": 41,
   "id": "2da4acad",
   "metadata": {},
   "outputs": [
    {
     "data": {
      "image/png": "[encoded data removed]",
      "text/plain": [
       "<Figure size 576x432 with 2 Axes>"
      ]
     },
     "metadata": {
      "needs_background": "light"
     },
     "output_type": "display_data"
    }
   ],
   "source": [
    "# Generate a heatmap for the regression data\n",
    "plt.figure(figsize=(8, 6))\n",
    "sns.heatmap(regression_data.corr(), annot=True, cmap='coolwarm', fmt=\".2f\")\n",
    "plt.title(\"Correlation Heatmap for Regression Data\")\n",
    "plt.show()"
   ]
  },
  {
   "cell_type": "markdown",
   "id": "b27d60be",
   "metadata": {},
   "source": [
    "The heatmap visually represents the correlation matrix for key numeric variables in the `selected_merged_movies_info` DataFrame, illustrating the strength and direction of relationships between factors like **production budget, revenue, popularity and audience ratings**. It highlights which variables are strongly correlated, offering valuable insights into potential predictors of movie success. \n",
    "\n",
    "Positive correlations in the heatmap indicate that as one variable increases, the other tends to increase as well. For example, worldwide gross shows a strong positive correlation with production budget, suggesting that higher investments in production often lead to higher global revenue. Similarly, popularity and vote average exhibit moderate positive correlations with worldwide gross, implying that more popular movies and those with higher audience ratings tend to perform better financially. Negative correlations, on the other hand, suggest an inverse relationship, but in this context, such correlations are either weak or negligible, indicating that most variables positively contribute to movie success."
   ]
  },
  {
   "cell_type": "code",
   "execution_count": 42,
   "id": "ade2afbb",
   "metadata": {},
   "outputs": [
    {
     "name": "stdout",
     "output_type": "stream",
     "text": [
      "                            OLS Regression Results                            \n",
      "==============================================================================\n",
      "Dep. Variable:        worldwide_gross   R-squared:                       0.655\n",
      "Model:                            OLS   Adj. R-squared:                  0.655\n",
      "Method:                 Least Squares   F-statistic:                     1507.\n",
      "Date:                Fri, 02 May 2025   Prob (F-statistic):               0.00\n",
      "Time:                        22:03:55   Log-Likelihood:                -47943.\n",
      "No. Observations:                2385   AIC:                         9.589e+04\n",
      "Df Residuals:                    2381   BIC:                         9.592e+04\n",
      "Df Model:                           3                                         \n",
      "Covariance Type:            nonrobust                                         \n",
      "=====================================================================================\n",
      "                        coef    std err          t      P>|t|      [0.025      0.975]\n",
      "-------------------------------------------------------------------------------------\n",
      "const             -1.032e+08   1.42e+07     -7.244      0.000   -1.31e+08   -7.53e+07\n",
      "production_budget     3.0182      0.063     48.184      0.000       2.895       3.141\n",
      "popularity         4.235e+06   4.04e+05     10.476      0.000    3.44e+06    5.03e+06\n",
      "vote_average       1.049e+07   2.36e+06      4.447      0.000    5.87e+06    1.51e+07\n",
      "==============================================================================\n",
      "Omnibus:                     1410.455   Durbin-Watson:                   1.212\n",
      "Prob(Omnibus):                  0.000   Jarque-Bera (JB):            30636.691\n",
      "Skew:                           2.369   Prob(JB):                         0.00\n",
      "Kurtosis:                      19.907   Cond. No.                     3.45e+08\n",
      "==============================================================================\n",
      "\n",
      "Notes:\n",
      "[1] Standard Errors assume that the covariance matrix of the errors is correctly specified.\n",
      "[2] The condition number is large, 3.45e+08. This might indicate that there are\n",
      "strong multicollinearity or other numerical problems.\n",
      "             Feature  Effect Size (Coefficient)  T-Value\n",
      "0              const            -103,192,472.37    -7.24\n",
      "1  production_budget                       3.02    48.18\n",
      "2         popularity               4,235,193.47    10.48\n",
      "3       vote_average              10,494,739.82     4.45\n"
     ]
    }
   ],
   "source": [
    "from statsmodels.api import OLS, add_constant\n",
    "import statsmodels.api as sm\n",
    "\n",
    "\n",
    "# Prepare the data for regression\n",
    "X = regression_data[['production_budget', 'popularity', 'vote_average']]\n",
    "y = regression_data['worldwide_gross']\n",
    "\n",
    "# Add a constant to the independent variables to allow the model to estimate an intercept\n",
    "X = add_constant(X)\n",
    "\n",
    "# Fit the model\n",
    "model = OLS(y, X).fit()\n",
    "\n",
    "# Display the summary of the regression model\n",
    "print(model.summary())\n",
    "\n",
    "# Extract effect sizes (coefficients) and t-values\n",
    "coefficients = model.params\n",
    "t_values = model.tvalues\n",
    "\n",
    "# Display the effect sizes and t-values\n",
    "effect_size_tvalue = pd.DataFrame({\n",
    "    'Feature': coefficients.index,\n",
    "    'Effect Size (Coefficient)': coefficients.values,\n",
    "    'T-Value': t_values.values\n",
    "})\n",
    "print(effect_size_tvalue)"
   ]
  },
  {
   "cell_type": "markdown",
   "id": "69f22895",
   "metadata": {
    "vscode": {
     "languageId": "markdown"
    }
   },
   "source": [
    "The regression analysis examines the relationship between **worldwide gross revenue** and three key factors: **production budget**, **popularity**, and **average audience rating**. The model explains **65.5%** of revenue variance, with all predictors showing statistical significance. A **$1 increase** in production budget corresponds to an estimated **$3.02** rise in revenue, while popularity and audience ratings significantly impact earnings, reinforcing the importance of marketing and content quality. The findings suggest that **mid-sized budgets ($50M–$150M), strong promotional efforts, and high audience ratings** are crucial for maximizing a movie's financial success.\n"
   ]
  },
  {
   "cell_type": "code",
   "execution_count": 43,
   "id": "d465575a",
   "metadata": {},
   "outputs": [],
   "source": [
    "from sklearn.linear_model import LinearRegression\n",
    "from sklearn.model_selection import train_test_split\n",
    "from sklearn.metrics import mean_squared_error, r2_score\n",
    "\n",
    "# Split the data into training and testing sets\n",
    "X_train, X_test, y_train, y_test = train_test_split(X, y, test_size=0.2, random_state=42)\n",
    "\n",
    "# Initialize the Linear Regression model\n",
    "model = LinearRegression()\n",
    "\n",
    "# Train the model\n",
    "model.fit(X_train, y_train)\n",
    "\n",
    "# Predict on the test set\n",
    "y_pred = model.predict(X_test)\n",
    "\n",
    "# Evaluate the model\n",
    "mse = mean_squared_error(y_test, y_pred)\n",
    "r2 = r2_score(y_test, y_pred)"
   ]
  },
  {
   "cell_type": "code",
   "execution_count": 44,
   "id": "0907d66b",
   "metadata": {},
   "outputs": [
    {
     "name": "stdout",
     "output_type": "stream",
     "text": [
      "R-squared Score: 0.6169606832648233\n",
      "Mean Squared Error (MSE): 1.5917210753080634e+16\n"
     ]
    }
   ],
   "source": [
    "# Print the R-squared score and Mean Squared Error (MSE)\n",
    "print(f\"R-squared Score: {r2}\")\n",
    "print(f\"Mean Squared Error (MSE): {mse}\")"
   ]
  },
  {
   "cell_type": "markdown",
   "id": "b81c0b6d",
   "metadata": {},
   "source": [
    "The R-squared (R²) value of **0.6169** indicates that approximately **61.69%** of the variance in worldwide gross revenue can be explained by the independent variables: production budget, popularity, and vote average. This suggests a moderately strong relationship between these predictors and the target variable. \n",
    "\n",
    "The Mean Squared Error (MSE) of **1.59e+16** represents the average squared difference between the predicted and actual worldwide gross values. While the MSE provides a measure of prediction error, its large magnitude reflects the scale of the revenue data, which is in billions, making it less interpretable without normalization or comparison to other models."
   ]
  },
  {
   "cell_type": "markdown",
   "id": "df470cef",
   "metadata": {},
   "source": [
    "### Conclusions "
   ]
  },
  {
   "cell_type": "markdown",
   "id": "1adf42d1",
   "metadata": {},
   "source": [
    "- Focus on high performing genres which include adventure, action and mystery which had the 3 highest average domestic gross. \n",
    "\n",
    "- Average gross revenue by season shows that Summer has the highest average worldwide and domestic gross, followed by Spring. Winter and Fall have comparatively lower average gross revenues.\n",
    "\n",
    "- The movies with rating more than 8 had the most average domestic gross. \n",
    "\n",
    "- Most of the genres are averagely rated other than Horror and TV movies. \n",
    "\n",
    "- Production budgets between $50m and $150m has a higher worlwide gross."
   ]
  },
  {
   "cell_type": "markdown",
   "id": "edf07612",
   "metadata": {},
   "source": [
    "### Recommendations"
   ]
  },
  {
   "cell_type": "markdown",
   "id": "f8cb8a2b",
   "metadata": {},
   "source": [
    "- Launch with Mid-Budget Blockbusters which are action and adventure between May and July.\n",
    "\n",
    "- Launch movies around summer season for more gross revenues. \n",
    "\n",
    "- Focus on genres of movies with higher average ratings so as to have more domestic gross.\n",
    "\n",
    "- When making movies, focus on the genres of movies with higher ratings for more domestic gross. Averagely rated movies make the most money domestically.\n",
    "\n",
    "- Focus on other genres of movies that are averagely rated. \n",
    "\n",
    "- Focus on mid sized production budgets between $50m and $150m to optimize return on investment and avoid high risk. "
   ]
  },
  {
   "cell_type": "markdown",
   "id": "63e1224f",
   "metadata": {},
   "source": [
    "### The Next Steps\n",
    "\n",
    "1. Refine Genre and Seasonal Strategy: perform deeper analyses on sub-genres within Adventure, Action, and Mystery to identify niche markets or investigate specific summer months (e.g., June vs. July) to pinpoint the most profitable movie release windows.\n",
    "2. Assess Budget Allocation: conduct sensitivity analyses to further validate the recommended budget range of $50M–$150M and explore cost-reduction opportunities in production workflows while maintaining quality.\n",
    "3. Test the Recommendations: utilize A/B testing on smaller-scale movie launches to validate insights (e.g., releasing movies with different budgets or genres in summer vs. winter) and compare gross revenue outcomes to ensure alignment with expected patterns.\n"
   ]
  }
 ],
 "metadata": {
  "kernelspec": {
   "display_name": "Python 3",
   "language": "python",
   "name": "python3"
  },
  "language_info": {
   "codemirror_mode": {
    "name": "ipython",
    "version": 3
   },
   "file_extension": ".py",
   "mimetype": "text/x-python",
   "name": "python",
   "nbconvert_exporter": "python",
   "pygments_lexer": "ipython3",
   "version": "3.8.5"
  }
 },
 "nbformat": 4,
 "nbformat_minor": 5
}
