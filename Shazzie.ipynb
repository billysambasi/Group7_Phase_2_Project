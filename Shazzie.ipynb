{
 "cells": [
  {
   "cell_type": "markdown",
   "id": "677a8dbd",
   "metadata": {},
   "source": [
    "# Project Title\n",
    " ### **Data-Backed Strategies for a successful new movie studio**\n"
   ]
  },
  {
   "cell_type": "markdown",
   "id": "e0efd4d2",
   "metadata": {},
   "source": [
    "# Project Overview\n",
    "This project aims to uncover what type of films are currently doing the best at the box office. We are tasked with using various key data sets to build a unified view to help the head of the company make strategic decisions for a new movie studio. Using this consolidated data, through targeted hyothesis testing and visualizations we will translate our findings into clear and actionable insights.\n"
   ]
  },
  {
   "cell_type": "markdown",
   "id": "f1513180",
   "metadata": {},
   "source": [
    "## Objectives\n",
    "1. To check if better reviews mean bigger profits.\n",
    "2. Identify which film genres earn the most money at the box office to know which genre to prioritize.\n",
    "3. To see which release quater makes the most so as to know when to schedule our major releases."
   ]
  },
  {
   "cell_type": "markdown",
   "id": "f84f8759",
   "metadata": {},
   "source": [
    "## Data Understanding"
   ]
  },
  {
   "cell_type": "markdown",
   "id": "a9e70dc4",
   "metadata": {},
   "source": [
    "- Data Source; We are drawing our findings from three datasets namely\n",
    "1. bom.movie_gross.csv\n",
    "2. im.db sql database \n",
    "3. rt.reviews.tsv\n"
   ]
  },
  {
   "cell_type": "markdown",
   "id": "47726aa0",
   "metadata": {},
   "source": [
    "### Import the necessary libraries\n"
   ]
  },
  {
   "cell_type": "code",
   "execution_count": 1,
   "id": "39f02174",
   "metadata": {},
   "outputs": [],
   "source": [
    "import pandas as pd\n",
    "import sqlite3\n",
    "import numpy as np\n"
   ]
  },
  {
   "cell_type": "markdown",
   "id": "6184a891",
   "metadata": {},
   "source": [
    "### 1. Reading the CSV File"
   ]
  },
  {
   "cell_type": "code",
   "execution_count": 2,
   "id": "ec110f32",
   "metadata": {},
   "outputs": [
    {
     "data": {
      "text/html": [
       "<div>\n",
       "<style scoped>\n",
       "    .dataframe tbody tr th:only-of-type {\n",
       "        vertical-align: middle;\n",
       "    }\n",
       "\n",
       "    .dataframe tbody tr th {\n",
       "        vertical-align: top;\n",
       "    }\n",
       "\n",
       "    .dataframe thead th {\n",
       "        text-align: right;\n",
       "    }\n",
       "</style>\n",
       "<table border=\"1\" class=\"dataframe\">\n",
       "  <thead>\n",
       "    <tr style=\"text-align: right;\">\n",
       "      <th></th>\n",
       "      <th>title</th>\n",
       "      <th>studio</th>\n",
       "      <th>domestic_gross</th>\n",
       "      <th>foreign_gross</th>\n",
       "      <th>year</th>\n",
       "    </tr>\n",
       "  </thead>\n",
       "  <tbody>\n",
       "    <tr>\n",
       "      <th>0</th>\n",
       "      <td>Toy Story 3</td>\n",
       "      <td>BV</td>\n",
       "      <td>415000000.0</td>\n",
       "      <td>652000000</td>\n",
       "      <td>2010</td>\n",
       "    </tr>\n",
       "    <tr>\n",
       "      <th>1</th>\n",
       "      <td>Alice in Wonderland (2010)</td>\n",
       "      <td>BV</td>\n",
       "      <td>334200000.0</td>\n",
       "      <td>691300000</td>\n",
       "      <td>2010</td>\n",
       "    </tr>\n",
       "    <tr>\n",
       "      <th>2</th>\n",
       "      <td>Harry Potter and the Deathly Hallows Part 1</td>\n",
       "      <td>WB</td>\n",
       "      <td>296000000.0</td>\n",
       "      <td>664300000</td>\n",
       "      <td>2010</td>\n",
       "    </tr>\n",
       "    <tr>\n",
       "      <th>3</th>\n",
       "      <td>Inception</td>\n",
       "      <td>WB</td>\n",
       "      <td>292600000.0</td>\n",
       "      <td>535700000</td>\n",
       "      <td>2010</td>\n",
       "    </tr>\n",
       "    <tr>\n",
       "      <th>4</th>\n",
       "      <td>Shrek Forever After</td>\n",
       "      <td>P/DW</td>\n",
       "      <td>238700000.0</td>\n",
       "      <td>513900000</td>\n",
       "      <td>2010</td>\n",
       "    </tr>\n",
       "  </tbody>\n",
       "</table>\n",
       "</div>"
      ],
      "text/plain": [
       "                                         title studio  domestic_gross  \\\n",
       "0                                  Toy Story 3     BV     415000000.0   \n",
       "1                   Alice in Wonderland (2010)     BV     334200000.0   \n",
       "2  Harry Potter and the Deathly Hallows Part 1     WB     296000000.0   \n",
       "3                                    Inception     WB     292600000.0   \n",
       "4                          Shrek Forever After   P/DW     238700000.0   \n",
       "\n",
       "  foreign_gross  year  \n",
       "0     652000000  2010  \n",
       "1     691300000  2010  \n",
       "2     664300000  2010  \n",
       "3     535700000  2010  \n",
       "4     513900000  2010  "
      ]
     },
     "execution_count": 2,
     "metadata": {},
     "output_type": "execute_result"
    }
   ],
   "source": [
    "df1 = pd.read_csv(\"bom.movie_gross.csv\")\n",
    "df1.head()"
   ]
  },
  {
   "cell_type": "markdown",
   "id": "1b6101d1",
   "metadata": {},
   "source": [
    "### 1.2 Getting more information about the CSV"
   ]
  },
  {
   "cell_type": "code",
   "execution_count": 3,
   "id": "9b882346",
   "metadata": {},
   "outputs": [
    {
     "name": "stdout",
     "output_type": "stream",
     "text": [
      "<class 'pandas.core.frame.DataFrame'>\n",
      "RangeIndex: 3387 entries, 0 to 3386\n",
      "Data columns (total 5 columns):\n",
      " #   Column          Non-Null Count  Dtype  \n",
      "---  ------          --------------  -----  \n",
      " 0   title           3387 non-null   object \n",
      " 1   studio          3382 non-null   object \n",
      " 2   domestic_gross  3359 non-null   float64\n",
      " 3   foreign_gross   2037 non-null   object \n",
      " 4   year            3387 non-null   int64  \n",
      "dtypes: float64(1), int64(1), object(3)\n",
      "memory usage: 132.4+ KB\n"
     ]
    }
   ],
   "source": [
    "df1.info()\n",
    "# we have 3387 rows and 5 columns\n",
    "# the Data type in each column is indicated;object means its categorical, \n",
    "# float64 indicates numerical values with decimals, int64 numerical integer values."
   ]
  },
  {
   "cell_type": "code",
   "execution_count": 4,
   "id": "e65370bd",
   "metadata": {},
   "outputs": [
    {
     "data": {
      "text/html": [
       "<div>\n",
       "<style scoped>\n",
       "    .dataframe tbody tr th:only-of-type {\n",
       "        vertical-align: middle;\n",
       "    }\n",
       "\n",
       "    .dataframe tbody tr th {\n",
       "        vertical-align: top;\n",
       "    }\n",
       "\n",
       "    .dataframe thead th {\n",
       "        text-align: right;\n",
       "    }\n",
       "</style>\n",
       "<table border=\"1\" class=\"dataframe\">\n",
       "  <thead>\n",
       "    <tr style=\"text-align: right;\">\n",
       "      <th></th>\n",
       "      <th>domestic_gross</th>\n",
       "      <th>year</th>\n",
       "    </tr>\n",
       "  </thead>\n",
       "  <tbody>\n",
       "    <tr>\n",
       "      <th>count</th>\n",
       "      <td>3.359000e+03</td>\n",
       "      <td>3387.000000</td>\n",
       "    </tr>\n",
       "    <tr>\n",
       "      <th>mean</th>\n",
       "      <td>2.874585e+07</td>\n",
       "      <td>2013.958075</td>\n",
       "    </tr>\n",
       "    <tr>\n",
       "      <th>std</th>\n",
       "      <td>6.698250e+07</td>\n",
       "      <td>2.478141</td>\n",
       "    </tr>\n",
       "    <tr>\n",
       "      <th>min</th>\n",
       "      <td>1.000000e+02</td>\n",
       "      <td>2010.000000</td>\n",
       "    </tr>\n",
       "    <tr>\n",
       "      <th>25%</th>\n",
       "      <td>1.200000e+05</td>\n",
       "      <td>2012.000000</td>\n",
       "    </tr>\n",
       "    <tr>\n",
       "      <th>50%</th>\n",
       "      <td>1.400000e+06</td>\n",
       "      <td>2014.000000</td>\n",
       "    </tr>\n",
       "    <tr>\n",
       "      <th>75%</th>\n",
       "      <td>2.790000e+07</td>\n",
       "      <td>2016.000000</td>\n",
       "    </tr>\n",
       "    <tr>\n",
       "      <th>max</th>\n",
       "      <td>9.367000e+08</td>\n",
       "      <td>2018.000000</td>\n",
       "    </tr>\n",
       "  </tbody>\n",
       "</table>\n",
       "</div>"
      ],
      "text/plain": [
       "       domestic_gross         year\n",
       "count    3.359000e+03  3387.000000\n",
       "mean     2.874585e+07  2013.958075\n",
       "std      6.698250e+07     2.478141\n",
       "min      1.000000e+02  2010.000000\n",
       "25%      1.200000e+05  2012.000000\n",
       "50%      1.400000e+06  2014.000000\n",
       "75%      2.790000e+07  2016.000000\n",
       "max      9.367000e+08  2018.000000"
      ]
     },
     "execution_count": 4,
     "metadata": {},
     "output_type": "execute_result"
    }
   ],
   "source": [
    "df1.describe() # gives summary statistics of columns with numerical values\n"
   ]
  },
  {
   "cell_type": "code",
   "execution_count": 5,
   "id": "2a7866fd",
   "metadata": {},
   "outputs": [
    {
     "name": "stdout",
     "output_type": "stream",
     "text": [
      "(3387, 5)\n",
      "Index(['title', 'studio', 'domestic_gross', 'foreign_gross', 'year'], dtype='object')\n"
     ]
    }
   ],
   "source": [
    "a = df1.shape # first value represents number of rows, the second shows the number of columns.\n",
    "b = df1.columns # shows all the columns in our CSV file\n",
    "print(a)\n",
    "print(b)"
   ]
  },
  {
   "cell_type": "markdown",
   "id": "db0df900",
   "metadata": {},
   "source": [
    "### 1.3 Dealing with missing data in the CSV file"
   ]
  },
  {
   "cell_type": "code",
   "execution_count": 6,
   "id": "61013c23",
   "metadata": {},
   "outputs": [
    {
     "data": {
      "text/plain": [
       "0       False\n",
       "1       False\n",
       "2       False\n",
       "3       False\n",
       "4       False\n",
       "        ...  \n",
       "3382    False\n",
       "3383    False\n",
       "3384    False\n",
       "3385    False\n",
       "3386    False\n",
       "Length: 3387, dtype: bool"
      ]
     },
     "execution_count": 6,
     "metadata": {},
     "output_type": "execute_result"
    }
   ],
   "source": [
    "df1.duplicated() # checks for duplicates, False indcates that there are no duplicates in our data."
   ]
  },
  {
   "cell_type": "code",
   "execution_count": 7,
   "id": "e5e6a656",
   "metadata": {},
   "outputs": [
    {
     "data": {
      "text/plain": [
       "title                0\n",
       "studio               5\n",
       "domestic_gross      28\n",
       "foreign_gross     1350\n",
       "year                 0\n",
       "dtype: int64"
      ]
     },
     "execution_count": 7,
     "metadata": {},
     "output_type": "execute_result"
    }
   ],
   "source": [
    "df1.isna().sum() # gives the sum of missing values in each column.\n",
    "# only three columns have missing values( studio,domestic_gross and foreign_gross)"
   ]
  },
  {
   "cell_type": "code",
   "execution_count": 8,
   "id": "281dfbac",
   "metadata": {},
   "outputs": [],
   "source": [
    "df1['studio'].value_counts()\n",
    "df1['studio'].fillna(df1['studio'].mode()[0],inplace=True)"
   ]
  },
  {
   "cell_type": "code",
   "execution_count": 9,
   "id": "1afb404a",
   "metadata": {},
   "outputs": [],
   "source": [
    "df1['domestic_gross'].value_counts()\n",
    "df1['domestic_gross'].fillna(df1['domestic_gross'].median(),inplace=True)"
   ]
  },
  {
   "cell_type": "code",
   "execution_count": 10,
   "id": "0e816c5d",
   "metadata": {},
   "outputs": [],
   "source": [
    "df1['foreign_gross'].value_counts()\n",
    "df1.dropna(subset=['foreign_gross'],inplace=True)"
   ]
  },
  {
   "cell_type": "code",
   "execution_count": 11,
   "id": "084bd0ee",
   "metadata": {},
   "outputs": [
    {
     "data": {
      "text/plain": [
       "title             0\n",
       "studio            0\n",
       "domestic_gross    0\n",
       "foreign_gross     0\n",
       "year              0\n",
       "dtype: int64"
      ]
     },
     "execution_count": 11,
     "metadata": {},
     "output_type": "execute_result"
    }
   ],
   "source": [
    "df1.isna().sum() # we run this code again to ensure all the missing values have been eliminated."
   ]
  },
  {
   "cell_type": "code",
   "execution_count": 12,
   "id": "ec56d045",
   "metadata": {},
   "outputs": [
    {
     "data": {
      "text/plain": [
       "(2037, 5)"
      ]
     },
     "execution_count": 12,
     "metadata": {},
     "output_type": "execute_result"
    }
   ],
   "source": [
    "df1.shape # check the remaining number of rows and columns.\n",
    "          # we have 2037 rows and 5 clumns. The number of columns remained the same."
   ]
  },
  {
   "cell_type": "markdown",
   "id": "6e53fa49",
   "metadata": {},
   "source": [
    "### 2. Connecting the sql file to a database\n",
    "- Using sqlite3 + pandas"
   ]
  },
  {
   "cell_type": "code",
   "execution_count": 13,
   "id": "499ba543",
   "metadata": {},
   "outputs": [
    {
     "data": {
      "text/html": [
       "<div>\n",
       "<style scoped>\n",
       "    .dataframe tbody tr th:only-of-type {\n",
       "        vertical-align: middle;\n",
       "    }\n",
       "\n",
       "    .dataframe tbody tr th {\n",
       "        vertical-align: top;\n",
       "    }\n",
       "\n",
       "    .dataframe thead th {\n",
       "        text-align: right;\n",
       "    }\n",
       "</style>\n",
       "<table border=\"1\" class=\"dataframe\">\n",
       "  <thead>\n",
       "    <tr style=\"text-align: right;\">\n",
       "      <th></th>\n",
       "      <th>name</th>\n",
       "    </tr>\n",
       "  </thead>\n",
       "  <tbody>\n",
       "    <tr>\n",
       "      <th>0</th>\n",
       "      <td>movie_basics</td>\n",
       "    </tr>\n",
       "    <tr>\n",
       "      <th>1</th>\n",
       "      <td>directors</td>\n",
       "    </tr>\n",
       "    <tr>\n",
       "      <th>2</th>\n",
       "      <td>known_for</td>\n",
       "    </tr>\n",
       "    <tr>\n",
       "      <th>3</th>\n",
       "      <td>movie_akas</td>\n",
       "    </tr>\n",
       "    <tr>\n",
       "      <th>4</th>\n",
       "      <td>movie_ratings</td>\n",
       "    </tr>\n",
       "    <tr>\n",
       "      <th>5</th>\n",
       "      <td>persons</td>\n",
       "    </tr>\n",
       "    <tr>\n",
       "      <th>6</th>\n",
       "      <td>principals</td>\n",
       "    </tr>\n",
       "    <tr>\n",
       "      <th>7</th>\n",
       "      <td>writers</td>\n",
       "    </tr>\n",
       "  </tbody>\n",
       "</table>\n",
       "</div>"
      ],
      "text/plain": [
       "            name\n",
       "0   movie_basics\n",
       "1      directors\n",
       "2      known_for\n",
       "3     movie_akas\n",
       "4  movie_ratings\n",
       "5        persons\n",
       "6     principals\n",
       "7        writers"
      ]
     },
     "execution_count": 13,
     "metadata": {},
     "output_type": "execute_result"
    }
   ],
   "source": [
    "conn = sqlite3.connect(\"im_1.db\") # connecting to a database\n",
    "df2 = pd.read_sql(\"\"\"SELECT name FROM sqlite_master WHERE type='table';\"\"\",conn) # this code gives the list of tables in the sql\n",
    "df2"
   ]
  },
  {
   "cell_type": "markdown",
   "id": "8d00a06f",
   "metadata": {},
   "source": [
    "### 2.1 To select data from a specific table from the 'im_1.db' sql database\n",
    "  #### e.g Getting columns info from the movie_ratings table"
   ]
  },
  {
   "cell_type": "code",
   "execution_count": 14,
   "id": "a4974e87",
   "metadata": {},
   "outputs": [
    {
     "data": {
      "text/html": [
       "<div>\n",
       "<style scoped>\n",
       "    .dataframe tbody tr th:only-of-type {\n",
       "        vertical-align: middle;\n",
       "    }\n",
       "\n",
       "    .dataframe tbody tr th {\n",
       "        vertical-align: top;\n",
       "    }\n",
       "\n",
       "    .dataframe thead th {\n",
       "        text-align: right;\n",
       "    }\n",
       "</style>\n",
       "<table border=\"1\" class=\"dataframe\">\n",
       "  <thead>\n",
       "    <tr style=\"text-align: right;\">\n",
       "      <th></th>\n",
       "      <th>movie_id</th>\n",
       "      <th>averagerating</th>\n",
       "      <th>numvotes</th>\n",
       "    </tr>\n",
       "  </thead>\n",
       "  <tbody>\n",
       "    <tr>\n",
       "      <th>0</th>\n",
       "      <td>tt10356526</td>\n",
       "      <td>8.3</td>\n",
       "      <td>31</td>\n",
       "    </tr>\n",
       "    <tr>\n",
       "      <th>1</th>\n",
       "      <td>tt10384606</td>\n",
       "      <td>8.9</td>\n",
       "      <td>559</td>\n",
       "    </tr>\n",
       "    <tr>\n",
       "      <th>2</th>\n",
       "      <td>tt1042974</td>\n",
       "      <td>6.4</td>\n",
       "      <td>20</td>\n",
       "    </tr>\n",
       "    <tr>\n",
       "      <th>3</th>\n",
       "      <td>tt1043726</td>\n",
       "      <td>4.2</td>\n",
       "      <td>50352</td>\n",
       "    </tr>\n",
       "    <tr>\n",
       "      <th>4</th>\n",
       "      <td>tt1060240</td>\n",
       "      <td>6.5</td>\n",
       "      <td>21</td>\n",
       "    </tr>\n",
       "    <tr>\n",
       "      <th>...</th>\n",
       "      <td>...</td>\n",
       "      <td>...</td>\n",
       "      <td>...</td>\n",
       "    </tr>\n",
       "    <tr>\n",
       "      <th>73851</th>\n",
       "      <td>tt9805820</td>\n",
       "      <td>8.1</td>\n",
       "      <td>25</td>\n",
       "    </tr>\n",
       "    <tr>\n",
       "      <th>73852</th>\n",
       "      <td>tt9844256</td>\n",
       "      <td>7.5</td>\n",
       "      <td>24</td>\n",
       "    </tr>\n",
       "    <tr>\n",
       "      <th>73853</th>\n",
       "      <td>tt9851050</td>\n",
       "      <td>4.7</td>\n",
       "      <td>14</td>\n",
       "    </tr>\n",
       "    <tr>\n",
       "      <th>73854</th>\n",
       "      <td>tt9886934</td>\n",
       "      <td>7.0</td>\n",
       "      <td>5</td>\n",
       "    </tr>\n",
       "    <tr>\n",
       "      <th>73855</th>\n",
       "      <td>tt9894098</td>\n",
       "      <td>6.3</td>\n",
       "      <td>128</td>\n",
       "    </tr>\n",
       "  </tbody>\n",
       "</table>\n",
       "<p>73856 rows × 3 columns</p>\n",
       "</div>"
      ],
      "text/plain": [
       "         movie_id  averagerating  numvotes\n",
       "0      tt10356526            8.3        31\n",
       "1      tt10384606            8.9       559\n",
       "2       tt1042974            6.4        20\n",
       "3       tt1043726            4.2     50352\n",
       "4       tt1060240            6.5        21\n",
       "...           ...            ...       ...\n",
       "73851   tt9805820            8.1        25\n",
       "73852   tt9844256            7.5        24\n",
       "73853   tt9851050            4.7        14\n",
       "73854   tt9886934            7.0         5\n",
       "73855   tt9894098            6.3       128\n",
       "\n",
       "[73856 rows x 3 columns]"
      ]
     },
     "execution_count": 14,
     "metadata": {},
     "output_type": "execute_result"
    }
   ],
   "source": [
    "conn = sqlite3.connect(\"im_1.db\")\n",
    "df2 = pd.read_sql(\"\"\"SELECT * FROM movie_ratings;\"\"\",conn)\n",
    "df2\n",
    "#print(df2.isnull().sum()"
   ]
  },
  {
   "cell_type": "markdown",
   "id": "ccf55dc7",
   "metadata": {},
   "source": [
    "### 2.2 Dealing with missing values"
   ]
  },
  {
   "cell_type": "code",
   "execution_count": 15,
   "id": "52d60fb3",
   "metadata": {},
   "outputs": [
    {
     "name": "stdout",
     "output_type": "stream",
     "text": [
      "movie_id                  0\n",
      "ordering                  0\n",
      "title                     0\n",
      "region                53293\n",
      "language             289988\n",
      "types                163256\n",
      "attributes           316778\n",
      "is_original_title        25\n",
      "dtype: int64\n"
     ]
    }
   ],
   "source": [
    "#df2 = pd.read_sql(\"\"\"SELECT * FROM movie_basics;\"\"\",conn)\n",
    "#df2 = pd.read_sql(\"\"\"SELECT * FROM persons;\"\"\",conn)\n",
    "df2 = pd.read_sql(\"\"\"SELECT * FROM movie_akas;\"\"\",conn)\n",
    "\n",
    "#df2 = pd.read_sql(\"\"\"SELECT * FROM principals;\"\"\",conn)\n",
    "print(df2.isnull().sum()) #check for missing values in various tables"
   ]
  },
  {
   "cell_type": "markdown",
   "id": "80134048",
   "metadata": {},
   "source": [
    "   ##### Dealing with missing values in movie_basics table"
   ]
  },
  {
   "cell_type": "code",
   "execution_count": 16,
   "id": "e1c22207",
   "metadata": {},
   "outputs": [
    {
     "data": {
      "text/plain": [
       "<sqlite3.Cursor at 0x16ed917be40>"
      ]
     },
     "execution_count": 16,
     "metadata": {},
     "output_type": "execute_result"
    }
   ],
   "source": [
    "\n",
    "cursor = conn.cursor()\n",
    "#Fill missing original_title with primary_title\n",
    "cursor.execute(\"\"\"\n",
    "UPDATE movie_basics\n",
    "SET original_title = primary_title\n",
    "WHERE original_title IS NULL;\n",
    "\"\"\")\n",
    "\n",
    "#Fill missing genres with 'Unknown'\n",
    "cursor.execute(\"\"\"\n",
    "UPDATE movie_basics\n",
    "SET genres = 'Unknown'\n",
    "WHERE genres IS NULL;\n",
    "\"\"\")\n",
    "\n",
    "#Delete rows where runtime_minutes IS NULL\n",
    "cursor.execute(\"\"\"\n",
    "DELETE FROM movie_basics\n",
    "WHERE runtime_minutes IS NULL;\n",
    "\"\"\")\n",
    "\n"
   ]
  },
  {
   "cell_type": "code",
   "execution_count": 17,
   "id": "547ee0f2",
   "metadata": {},
   "outputs": [
    {
     "name": "stdout",
     "output_type": "stream",
     "text": [
      "movie_id           0\n",
      "primary_title      0\n",
      "original_title     0\n",
      "start_year         0\n",
      "runtime_minutes    0\n",
      "genres             0\n",
      "dtype: int64\n"
     ]
    }
   ],
   "source": [
    "df2 = pd.read_sql(\"\"\"SELECT * FROM movie_basics;\"\"\",conn)\n",
    "print(df2.isnull().sum()) #check for missing values in various tables"
   ]
  },
  {
   "cell_type": "markdown",
   "id": "03cfb694",
   "metadata": {},
   "source": [
    "##### Dealing with missing values from persons table"
   ]
  },
  {
   "cell_type": "code",
   "execution_count": 18,
   "id": "6e2a60f8",
   "metadata": {},
   "outputs": [
    {
     "data": {
      "text/plain": [
       "<sqlite3.Cursor at 0x16ed9240040>"
      ]
     },
     "execution_count": 18,
     "metadata": {},
     "output_type": "execute_result"
    }
   ],
   "source": [
    "cursor = conn.cursor()\n",
    "#Fill missing primary_profession with 'Unknown'\n",
    "cursor.execute(\"\"\"\n",
    "UPDATE persons\n",
    "SET primary_profession = 'Unknown'\n",
    "WHERE primary_profession IS NULL;\n",
    "\"\"\")\n",
    "\n",
    "#Delete rows where birth_year IS NULL\n",
    "cursor.execute(\"\"\"\n",
    "DELETE FROM persons\n",
    "WHERE birth_year IS NULL;\n",
    "\"\"\")\n",
    "\n",
    "#Delete rows where death_year  IS NULL\n",
    "cursor.execute(\"\"\"\n",
    "DELETE FROM persons\n",
    "WHERE death_year IS NULL;\n",
    "\"\"\")\n",
    "\n"
   ]
  },
  {
   "cell_type": "code",
   "execution_count": 19,
   "id": "c4c49d2c",
   "metadata": {},
   "outputs": [
    {
     "name": "stdout",
     "output_type": "stream",
     "text": [
      "person_id             0\n",
      "primary_name          0\n",
      "birth_year            0\n",
      "death_year            0\n",
      "primary_profession    0\n",
      "dtype: int64\n"
     ]
    }
   ],
   "source": [
    "df2 = pd.read_sql(\"\"\"SELECT * FROM persons;\"\"\",conn)\n",
    "print(df2.isnull().sum()) #check for missing values in various tables"
   ]
  },
  {
   "cell_type": "markdown",
   "id": "c5984744",
   "metadata": {},
   "source": [
    "### 3. Reading the TSV File"
   ]
  },
  {
   "cell_type": "code",
   "execution_count": 20,
   "id": "41480419",
   "metadata": {},
   "outputs": [
    {
     "data": {
      "text/html": [
       "<div>\n",
       "<style scoped>\n",
       "    .dataframe tbody tr th:only-of-type {\n",
       "        vertical-align: middle;\n",
       "    }\n",
       "\n",
       "    .dataframe tbody tr th {\n",
       "        vertical-align: top;\n",
       "    }\n",
       "\n",
       "    .dataframe thead th {\n",
       "        text-align: right;\n",
       "    }\n",
       "</style>\n",
       "<table border=\"1\" class=\"dataframe\">\n",
       "  <thead>\n",
       "    <tr style=\"text-align: right;\">\n",
       "      <th></th>\n",
       "      <th>id</th>\n",
       "      <th>review</th>\n",
       "      <th>rating</th>\n",
       "      <th>fresh</th>\n",
       "      <th>critic</th>\n",
       "      <th>top_critic</th>\n",
       "      <th>publisher</th>\n",
       "      <th>date</th>\n",
       "    </tr>\n",
       "  </thead>\n",
       "  <tbody>\n",
       "    <tr>\n",
       "      <th>0</th>\n",
       "      <td>3</td>\n",
       "      <td>A distinctly gallows take on contemporary fina...</td>\n",
       "      <td>3/5</td>\n",
       "      <td>fresh</td>\n",
       "      <td>PJ Nabarro</td>\n",
       "      <td>0</td>\n",
       "      <td>Patrick Nabarro</td>\n",
       "      <td>November 10, 2018</td>\n",
       "    </tr>\n",
       "    <tr>\n",
       "      <th>1</th>\n",
       "      <td>3</td>\n",
       "      <td>It's an allegory in search of a meaning that n...</td>\n",
       "      <td>NaN</td>\n",
       "      <td>rotten</td>\n",
       "      <td>Annalee Newitz</td>\n",
       "      <td>0</td>\n",
       "      <td>io9.com</td>\n",
       "      <td>May 23, 2018</td>\n",
       "    </tr>\n",
       "    <tr>\n",
       "      <th>2</th>\n",
       "      <td>3</td>\n",
       "      <td>... life lived in a bubble in financial dealin...</td>\n",
       "      <td>NaN</td>\n",
       "      <td>fresh</td>\n",
       "      <td>Sean Axmaker</td>\n",
       "      <td>0</td>\n",
       "      <td>Stream on Demand</td>\n",
       "      <td>January 4, 2018</td>\n",
       "    </tr>\n",
       "    <tr>\n",
       "      <th>3</th>\n",
       "      <td>3</td>\n",
       "      <td>Continuing along a line introduced in last yea...</td>\n",
       "      <td>NaN</td>\n",
       "      <td>fresh</td>\n",
       "      <td>Daniel Kasman</td>\n",
       "      <td>0</td>\n",
       "      <td>MUBI</td>\n",
       "      <td>November 16, 2017</td>\n",
       "    </tr>\n",
       "    <tr>\n",
       "      <th>4</th>\n",
       "      <td>3</td>\n",
       "      <td>... a perverse twist on neorealism...</td>\n",
       "      <td>NaN</td>\n",
       "      <td>fresh</td>\n",
       "      <td>NaN</td>\n",
       "      <td>0</td>\n",
       "      <td>Cinema Scope</td>\n",
       "      <td>October 12, 2017</td>\n",
       "    </tr>\n",
       "    <tr>\n",
       "      <th>...</th>\n",
       "      <td>...</td>\n",
       "      <td>...</td>\n",
       "      <td>...</td>\n",
       "      <td>...</td>\n",
       "      <td>...</td>\n",
       "      <td>...</td>\n",
       "      <td>...</td>\n",
       "      <td>...</td>\n",
       "    </tr>\n",
       "    <tr>\n",
       "      <th>54427</th>\n",
       "      <td>2000</td>\n",
       "      <td>The real charm of this trifle is the deadpan c...</td>\n",
       "      <td>NaN</td>\n",
       "      <td>fresh</td>\n",
       "      <td>Laura Sinagra</td>\n",
       "      <td>1</td>\n",
       "      <td>Village Voice</td>\n",
       "      <td>September 24, 2002</td>\n",
       "    </tr>\n",
       "    <tr>\n",
       "      <th>54428</th>\n",
       "      <td>2000</td>\n",
       "      <td>NaN</td>\n",
       "      <td>1/5</td>\n",
       "      <td>rotten</td>\n",
       "      <td>Michael Szymanski</td>\n",
       "      <td>0</td>\n",
       "      <td>Zap2it.com</td>\n",
       "      <td>September 21, 2005</td>\n",
       "    </tr>\n",
       "    <tr>\n",
       "      <th>54429</th>\n",
       "      <td>2000</td>\n",
       "      <td>NaN</td>\n",
       "      <td>2/5</td>\n",
       "      <td>rotten</td>\n",
       "      <td>Emanuel Levy</td>\n",
       "      <td>0</td>\n",
       "      <td>EmanuelLevy.Com</td>\n",
       "      <td>July 17, 2005</td>\n",
       "    </tr>\n",
       "    <tr>\n",
       "      <th>54430</th>\n",
       "      <td>2000</td>\n",
       "      <td>NaN</td>\n",
       "      <td>2.5/5</td>\n",
       "      <td>rotten</td>\n",
       "      <td>Christopher Null</td>\n",
       "      <td>0</td>\n",
       "      <td>Filmcritic.com</td>\n",
       "      <td>September 7, 2003</td>\n",
       "    </tr>\n",
       "    <tr>\n",
       "      <th>54431</th>\n",
       "      <td>2000</td>\n",
       "      <td>NaN</td>\n",
       "      <td>3/5</td>\n",
       "      <td>fresh</td>\n",
       "      <td>Nicolas Lacroix</td>\n",
       "      <td>0</td>\n",
       "      <td>Showbizz.net</td>\n",
       "      <td>November 12, 2002</td>\n",
       "    </tr>\n",
       "  </tbody>\n",
       "</table>\n",
       "<p>54432 rows × 8 columns</p>\n",
       "</div>"
      ],
      "text/plain": [
       "         id                                             review rating   fresh  \\\n",
       "0         3  A distinctly gallows take on contemporary fina...    3/5   fresh   \n",
       "1         3  It's an allegory in search of a meaning that n...    NaN  rotten   \n",
       "2         3  ... life lived in a bubble in financial dealin...    NaN   fresh   \n",
       "3         3  Continuing along a line introduced in last yea...    NaN   fresh   \n",
       "4         3             ... a perverse twist on neorealism...     NaN   fresh   \n",
       "...     ...                                                ...    ...     ...   \n",
       "54427  2000  The real charm of this trifle is the deadpan c...    NaN   fresh   \n",
       "54428  2000                                                NaN    1/5  rotten   \n",
       "54429  2000                                                NaN    2/5  rotten   \n",
       "54430  2000                                                NaN  2.5/5  rotten   \n",
       "54431  2000                                                NaN    3/5   fresh   \n",
       "\n",
       "                  critic  top_critic         publisher                date  \n",
       "0             PJ Nabarro           0   Patrick Nabarro   November 10, 2018  \n",
       "1         Annalee Newitz           0           io9.com        May 23, 2018  \n",
       "2           Sean Axmaker           0  Stream on Demand     January 4, 2018  \n",
       "3          Daniel Kasman           0              MUBI   November 16, 2017  \n",
       "4                    NaN           0      Cinema Scope    October 12, 2017  \n",
       "...                  ...         ...               ...                 ...  \n",
       "54427      Laura Sinagra           1     Village Voice  September 24, 2002  \n",
       "54428  Michael Szymanski           0        Zap2it.com  September 21, 2005  \n",
       "54429       Emanuel Levy           0   EmanuelLevy.Com       July 17, 2005  \n",
       "54430   Christopher Null           0    Filmcritic.com   September 7, 2003  \n",
       "54431    Nicolas Lacroix           0      Showbizz.net   November 12, 2002  \n",
       "\n",
       "[54432 rows x 8 columns]"
      ]
     },
     "execution_count": 20,
     "metadata": {},
     "output_type": "execute_result"
    }
   ],
   "source": [
    "df3 = pd.read_csv(\"rt.reviews.tsv\", sep='\\t', encoding='latin1')\n",
    "df3"
   ]
  },
  {
   "cell_type": "markdown",
   "id": "59ae9505",
   "metadata": {},
   "source": [
    "### 3.1 Getting info about the TSV file"
   ]
  },
  {
   "cell_type": "code",
   "execution_count": 21,
   "id": "97f5535e",
   "metadata": {},
   "outputs": [
    {
     "name": "stdout",
     "output_type": "stream",
     "text": [
      "<class 'pandas.core.frame.DataFrame'>\n",
      "RangeIndex: 54432 entries, 0 to 54431\n",
      "Data columns (total 8 columns):\n",
      " #   Column      Non-Null Count  Dtype \n",
      "---  ------      --------------  ----- \n",
      " 0   id          54432 non-null  int64 \n",
      " 1   review      48869 non-null  object\n",
      " 2   rating      40915 non-null  object\n",
      " 3   fresh       54432 non-null  object\n",
      " 4   critic      51710 non-null  object\n",
      " 5   top_critic  54432 non-null  int64 \n",
      " 6   publisher   54123 non-null  object\n",
      " 7   date        54432 non-null  object\n",
      "dtypes: int64(2), object(6)\n",
      "memory usage: 3.3+ MB\n"
     ]
    }
   ],
   "source": [
    "df3.info()"
   ]
  },
  {
   "cell_type": "code",
   "execution_count": 22,
   "id": "1cca14b5",
   "metadata": {},
   "outputs": [
    {
     "data": {
      "text/html": [
       "<div>\n",
       "<style scoped>\n",
       "    .dataframe tbody tr th:only-of-type {\n",
       "        vertical-align: middle;\n",
       "    }\n",
       "\n",
       "    .dataframe tbody tr th {\n",
       "        vertical-align: top;\n",
       "    }\n",
       "\n",
       "    .dataframe thead th {\n",
       "        text-align: right;\n",
       "    }\n",
       "</style>\n",
       "<table border=\"1\" class=\"dataframe\">\n",
       "  <thead>\n",
       "    <tr style=\"text-align: right;\">\n",
       "      <th></th>\n",
       "      <th>id</th>\n",
       "      <th>top_critic</th>\n",
       "    </tr>\n",
       "  </thead>\n",
       "  <tbody>\n",
       "    <tr>\n",
       "      <th>count</th>\n",
       "      <td>54432.000000</td>\n",
       "      <td>54432.000000</td>\n",
       "    </tr>\n",
       "    <tr>\n",
       "      <th>mean</th>\n",
       "      <td>1045.706882</td>\n",
       "      <td>0.240594</td>\n",
       "    </tr>\n",
       "    <tr>\n",
       "      <th>std</th>\n",
       "      <td>586.657046</td>\n",
       "      <td>0.427448</td>\n",
       "    </tr>\n",
       "    <tr>\n",
       "      <th>min</th>\n",
       "      <td>3.000000</td>\n",
       "      <td>0.000000</td>\n",
       "    </tr>\n",
       "    <tr>\n",
       "      <th>25%</th>\n",
       "      <td>542.000000</td>\n",
       "      <td>0.000000</td>\n",
       "    </tr>\n",
       "    <tr>\n",
       "      <th>50%</th>\n",
       "      <td>1083.000000</td>\n",
       "      <td>0.000000</td>\n",
       "    </tr>\n",
       "    <tr>\n",
       "      <th>75%</th>\n",
       "      <td>1541.000000</td>\n",
       "      <td>0.000000</td>\n",
       "    </tr>\n",
       "    <tr>\n",
       "      <th>max</th>\n",
       "      <td>2000.000000</td>\n",
       "      <td>1.000000</td>\n",
       "    </tr>\n",
       "  </tbody>\n",
       "</table>\n",
       "</div>"
      ],
      "text/plain": [
       "                 id    top_critic\n",
       "count  54432.000000  54432.000000\n",
       "mean    1045.706882      0.240594\n",
       "std      586.657046      0.427448\n",
       "min        3.000000      0.000000\n",
       "25%      542.000000      0.000000\n",
       "50%     1083.000000      0.000000\n",
       "75%     1541.000000      0.000000\n",
       "max     2000.000000      1.000000"
      ]
     },
     "execution_count": 22,
     "metadata": {},
     "output_type": "execute_result"
    }
   ],
   "source": [
    "df3.describe()"
   ]
  },
  {
   "cell_type": "markdown",
   "id": "d63a70fa",
   "metadata": {},
   "source": [
    "### 3.2 Dealing with missing values from the TSV file"
   ]
  },
  {
   "cell_type": "code",
   "execution_count": 23,
   "id": "3c7f9f92",
   "metadata": {},
   "outputs": [
    {
     "data": {
      "text/plain": [
       "0        False\n",
       "1        False\n",
       "2        False\n",
       "3        False\n",
       "4        False\n",
       "         ...  \n",
       "54427    False\n",
       "54428    False\n",
       "54429    False\n",
       "54430    False\n",
       "54431    False\n",
       "Length: 54432, dtype: bool"
      ]
     },
     "execution_count": 23,
     "metadata": {},
     "output_type": "execute_result"
    }
   ],
   "source": [
    "df3.duplicated()"
   ]
  },
  {
   "cell_type": "code",
   "execution_count": 24,
   "id": "c1d4ee80",
   "metadata": {},
   "outputs": [
    {
     "data": {
      "text/plain": [
       "id                0\n",
       "review         5563\n",
       "rating        13517\n",
       "fresh             0\n",
       "critic         2722\n",
       "top_critic        0\n",
       "publisher       309\n",
       "date              0\n",
       "dtype: int64"
      ]
     },
     "execution_count": 24,
     "metadata": {},
     "output_type": "execute_result"
    }
   ],
   "source": [
    "df3.isna().sum()"
   ]
  },
  {
   "cell_type": "code",
   "execution_count": 25,
   "id": "6c3dd38f",
   "metadata": {},
   "outputs": [],
   "source": [
    "df3['review'].fillna('Unknown',inplace=True)"
   ]
  },
  {
   "cell_type": "code",
   "execution_count": 26,
   "id": "1ebe9b82",
   "metadata": {},
   "outputs": [],
   "source": [
    "df3['critic'].fillna('Unknown',inplace=True)\n",
    "df3['publisher'].fillna('Unknown',inplace=True)"
   ]
  },
  {
   "cell_type": "code",
   "execution_count": 27,
   "id": "2047adc9",
   "metadata": {},
   "outputs": [],
   "source": [
    "df3.dropna(subset=['rating'],inplace=True)"
   ]
  },
  {
   "cell_type": "code",
   "execution_count": 28,
   "id": "5e18c373",
   "metadata": {},
   "outputs": [
    {
     "data": {
      "text/plain": [
       "id            0\n",
       "review        0\n",
       "rating        0\n",
       "fresh         0\n",
       "critic        0\n",
       "top_critic    0\n",
       "publisher     0\n",
       "date          0\n",
       "dtype: int64"
      ]
     },
     "execution_count": 28,
     "metadata": {},
     "output_type": "execute_result"
    }
   ],
   "source": [
    "df3.isna().sum()"
   ]
  },
  {
   "cell_type": "code",
   "execution_count": 29,
   "id": "5c3f3573",
   "metadata": {},
   "outputs": [
    {
     "data": {
      "text/plain": [
       "(40915, 8)"
      ]
     },
     "execution_count": 29,
     "metadata": {},
     "output_type": "execute_result"
    }
   ],
   "source": [
    "df3.shape"
   ]
  },
  {
   "cell_type": "markdown",
   "id": "c62ce920",
   "metadata": {},
   "source": [
    "## Data Analysis"
   ]
  },
  {
   "cell_type": "markdown",
   "id": "8823f777",
   "metadata": {},
   "source": [
    "### To get average domestic gross by genre\n"
   ]
  },
  {
   "cell_type": "code",
   "execution_count": 35,
   "id": "9e5988e5",
   "metadata": {},
   "outputs": [
    {
     "name": "stdout",
     "output_type": "stream",
     "text": [
      "                    genres  avg_domestic_gross\n",
      "0                   Sci-Fi        4.126000e+08\n",
      "1  Documentary,Drama,Sport        4.126000e+08\n",
      "2    Adventure,Drama,Sport        4.007000e+08\n",
      "3           Comedy,Mystery        2.545000e+08\n",
      "4  Action,Adventure,Sci-Fi        2.396196e+08\n"
     ]
    }
   ],
   "source": [
    "#Join the movie_basics table from im.db to bom.movie_gross.csv\n",
    "#Write into SQL database\n",
    "df1.to_sql(\"movie_gross\",conn, if_exists=\"replace\",index=False)\n",
    "\n",
    "#Run the SQL query\n",
    "query=\"\"\"\n",
    "SELECT\n",
    "mb.genres,\n",
    "AVG (CAST(mg.domestic_gross AS FLOAT)) AS avg_domestic_gross\n",
    "FROM movie_basics AS mb\n",
    "JOIN movie_gross AS mg \n",
    "ON mb.primary_title=mg.title\n",
    "GROUP BY\n",
    "mb.genres\n",
    "ORDER BY\n",
    "avg_domestic_gross DESC;\n",
    "\"\"\"\n",
    "avg_gross_df=pd.read_sql(query,conn)\n",
    "\n",
    "print(avg_gross_df.head())\n"
   ]
  },
  {
   "cell_type": "markdown",
   "id": "177c7128",
   "metadata": {},
   "source": [
    "##### Sci-fi movies give the highest average domestic gross hence would recommend the new movie studio to produce more of these genre."
   ]
  },
  {
   "cell_type": "markdown",
   "id": "1f77b154",
   "metadata": {},
   "source": [
    "### Hypothesis Testing\n",
    " - Null Hypotheis: Higher IMDb-rated movies do not earn more on average than lower-rated ones.\n",
    "\n",
    " - Alternative Hypothesis: Higher IMDb-rated movies do earn more on average."
   ]
  },
  {
   "cell_type": "markdown",
   "id": "1416139c",
   "metadata": {},
   "source": [
    "### Steps;\n",
    "- Join movie_ratings, movie_basics tables from sql database with bom.movie_gross.csv\n",
    "- Split movies into 'high' and 'low' rating groups (e.g threshhold at 5.0)\n",
    "- Perform an independent t-test to compare the average gross revenue"
   ]
  },
  {
   "cell_type": "code",
   "execution_count": 44,
   "id": "35daeb25",
   "metadata": {},
   "outputs": [
    {
     "name": "stdout",
     "output_type": "stream",
     "text": [
      "T-statistic: 1.5782502888063696\n",
      "P-value: 0.11461511972505915\n"
     ]
    }
   ],
   "source": [
    "from scipy.stats import ttest_ind\n",
    "\n",
    "# load the data\n",
    "movie_gross = pd.read_csv(\"bom.movie_gross.csv\")\n",
    "basics_df = pd.read_sql(\"SELECT movie_id,primary_title FROM movie_basics\",conn)\n",
    "ratings_df = pd.read_sql(\"SELECT movie_id, averagerating FROM movie_ratings\",conn)\n",
    "\n",
    "# Merge the data\n",
    "merged_df =pd.merge(basics_df,ratings_df, on=\"movie_id\")\n",
    "final_df = pd.merge(merged_df,movie_gross,left_on=\"primary_title\", right_on=\"title\")\n",
    "\n",
    "# Convert domestic_gross to numeric\n",
    "final_df[\"domestic_gross\"]= pd.to_numeric(final_df[\"domestic_gross\"],errors=\"coerce\")\n",
    "final_df = final_df.dropna(subset=[\"averagerating\",\"domestic_gross\"])\n",
    "\n",
    "#Splitting into groups\n",
    "high_rated = final_df[final_df[\"averagerating\"] >= 5][\"domestic_gross\"]\n",
    "low_rated = final_df[final_df[\"averagerating\"] < 5][\"domestic_gross\"]\n",
    "\n",
    "#Conduct t-test\n",
    "t_stat, p_value = ttest_ind(high_rated,low_rated, equal_var=True)\n",
    "\n",
    "print(f\"T-statistic: {t_stat}\")\n",
    "print(f\"P-value: {p_value}\")\n",
    "\n",
    "\n",
    "\n"
   ]
  },
  {
   "cell_type": "markdown",
   "id": "685caa31",
   "metadata": {},
   "source": [
    "##### Since the p-value is less than 0.05, we fail to reject the null hypothesis and conclude that there is no enough statistical evidence to show that higher IMDb-rated movies earn more on average then lower-rated movies at the box office at 5% significance level.\n"
   ]
  },
  {
   "cell_type": "markdown",
   "id": "05f3aaaa",
   "metadata": {},
   "source": [
    "### Data Visualization"
   ]
  },
  {
   "cell_type": "markdown",
   "id": "c5194422",
   "metadata": {},
   "source": [
    "#### 1. High vs Low rated IMDb movies"
   ]
  },
  {
   "cell_type": "code",
   "execution_count": 61,
   "id": "4c628c99",
   "metadata": {},
   "outputs": [
    {
     "data": {
      "image/png": "[encoded data removed]",
      "text/plain": [
       "<Figure size 800x600 with 1 Axes>"
      ]
     },
     "metadata": {},
     "output_type": "display_data"
    }
   ],
   "source": [
    "import matplotlib.pyplot as plt\n",
    "\n",
    "#Calculate the means\n",
    "mean_high = high_rated.mean()\n",
    "mean_low = low_rated.mean()\n",
    "\n",
    "labels = ['High_rated(>=5)', 'Low_rated(<5)']\n",
    "means = [mean_high,mean_low]\n",
    "\n",
    "#Plot\n",
    "plt.figure(figsize=(8,6))\n",
    "bars= plt.bar(labels,means, color= ['blue', 'skyblue'])\n",
    "plt.title('High vs Low rated IMDb mvies')\n",
    "plt.ylabel('Average Domestic Gross(USD)')\n",
    "plt.grid(axis='y', linestyle='--',alpha=0.5)\n",
    "\n",
    "plt.show()"
   ]
  },
  {
   "cell_type": "markdown",
   "id": "1eb94f93",
   "metadata": {},
   "source": [
    "#### 2. Average Domestic Gross by genre"
   ]
  },
  {
   "cell_type": "code",
   "execution_count": 60,
   "id": "c82d773e",
   "metadata": {},
   "outputs": [
    {
     "data": {
      "image/png": "[encoded data removed]",
      "text/plain": [
       "<Figure size 1500x800 with 1 Axes>"
      ]
     },
     "metadata": {},
     "output_type": "display_data"
    }
   ],
   "source": [
    "import matplotlib.pyplot as plt\n",
    "#Sort data by gross\n",
    "top10_genres =avg_gross_df.sort_values(by='avg_domestic_gross',ascending=False).head(10)\n",
    "\n",
    "#Set up the figure size\n",
    "plt.figure(figsize=(15,8))\n",
    "\n",
    "#Create the barchart\n",
    "plt.bar(top10_genres['genres'], top10_genres['avg_domestic_gross'],color='pink')\n",
    "        \n",
    "#Add titles and labels\n",
    "plt.title('Top 10 genres by Average Domestic Gross')\n",
    "plt.xlabel('Genres')\n",
    "plt.ylabel('Average Domestic Gross(USD)') \n",
    "\n",
    "plt.xticks(rotation=45, ha='right', fontsize=10)\n",
    "\n",
    "plt.show()\n",
    "        \n",
    "        \n",
    "\n"
   ]
  },
  {
   "cell_type": "markdown",
   "id": "0cf6595f",
   "metadata": {},
   "source": [
    "### Conclusion and Recommendation\n",
    "- Sci-fi movies gave the highest domestic gross hence would recommend the new movie studio to produce more of these genre.\n",
    "- High rated IMDb movies generated more revenue compared to the low-rated IMDb movies."
   ]
  }
 ],
 "metadata": {
  "kernelspec": {
   "display_name": "base",
   "language": "python",
   "name": "python3"
  },
  "language_info": {
   "codemirror_mode": {
    "name": "ipython",
    "version": 3
   },
   "file_extension": ".py",
   "mimetype": "text/x-python",
   "name": "python",
   "nbconvert_exporter": "python",
   "pygments_lexer": "ipython3",
   "version": "3.11.7"
  }
 },
 "nbformat": 4,
 "nbformat_minor": 5
}
